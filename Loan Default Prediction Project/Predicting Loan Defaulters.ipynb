{
 "cells": [
  {
   "cell_type": "markdown",
   "id": "c84f4406",
   "metadata": {},
   "source": [
    "#### Predicting Loan Defaulters - Rushikesh Kishor Khankar\n",
    "\n",
    "Project 2 \n",
    "\n",
    "DESCRIPTION\n",
    "\n",
    "Data Analysis is the process of creating a story using the data for easy and effective communication. It mostly utilizes visualization methods like plots, charts, and tables to convey what the data holds beyond the formal modeling or hypothesis testing task.\n",
    "\n",
    " \n",
    "\n",
    "Domain: Finance\n",
    "\n",
    "Read the information given below and also refer to the data dictionary provided separately in an excel file to build your understanding.\n",
    "\n",
    " \n",
    "\n",
    "Problem Statement\n",
    "\n",
    "Financial institutions incur significant losses due to the default of vehicle loans. This has led to the tightening up of vehicle loan underwriting and increased vehicle loan rejection rates.\n",
    "The need for a better credit risk scoring model is also raised by these institutions. This warrants a study to estimate the determinants of vehicle loan default.\n",
    "\n",
    "There is 1 dataset data that have 41 attributes.\n",
    "You are required to determine and examine factors that affected the ratio of vehicle loan defaulters. Also, use the findings to create a model to predict the potential defaulters.\n",
    "\n",
    " \n",
    "\n",
    "Approach:\n",
    "\n",
    "1. Data Preliminary analysis:\n",
    "\n",
    "Perform preliminary data inspection and report the findings as to the structure of the data, missing values, duplicates, etc.\n",
    "\n",
    "Variable names in the data may not be in accordance with the identifier naming in Python. Change the variable names accordingly.\n",
    "\n",
    "The presented data might also contain missing values, therefore exploration will also lead to devising strategies to fill in the missing values. Devise strategies to do so whilst exploring the data.\n",
    "\n",
    "2. Performing EDA:\n",
    "\n",
    "Provide the statistical description of the quantitative data variables\n",
    "\n",
    "How is the target variable distributed overall?\n",
    "\n",
    "Study the distribution of the target variable across the various categories such as branch, city, state, branch, supplier, manufacturer, etc. What are the different employment types given in the data? Can a strategy be developed to fill in the missing values (if any)? Use pie charts to express how different types of employment defines defaulter and non-defaulters.\n",
    "\n",
    "Has age got something to do with defaulting? What is the distribution of age w.r.t. to defaulters and non-defaulters?\n",
    "\n",
    "What type of ID was presented by most of the customers as proof?\n",
    "\n",
    "Explain the factors in the data that may have an effect on ratings e.g. No. of cuisines, cost, delivery option, etc.\n",
    "\n",
    "3. Performing EDA and Modelling:\n",
    "\n",
    "Provide the statistical description of the quantitative data variables\n",
    "\n",
    "How is the target variable distributed overall?\n",
    "\n",
    "Study the distribution of the target variable across the various categories such as branch, city, state, branch, supplier, manufacturer, etc.\n",
    "\n",
    "What are the different employment types given in the data? Can a strategy be developed to fill in the missing values (if any)? Use pie charts to express how different types of employment defines defaulter and non-defaulters.\n",
    "\n",
    "Has age got something to do with defaulting? What is the distribution of age w.r.t. to defaulters and non-defaulters?\n",
    "\n",
    "What type of ID was presented by most of the customers as proof?\n",
    "\n",
    "Explain the factors in the data that may have an effect on ratings e.g. No. of cuisines, cost, delivery option, etc."
   ]
  },
  {
   "cell_type": "markdown",
   "id": "31992f93",
   "metadata": {},
   "source": [
    "#### Project Task: Week 1"
   ]
  },
  {
   "cell_type": "markdown",
   "id": "7885831d",
   "metadata": {},
   "source": [
    "### Importing, Understanding, and Inspecting Data :\n",
    "\n",
    "#### Perform preliminary data inspection and report the findings as the structure of the data, missing values, duplicates, etc."
   ]
  },
  {
   "cell_type": "code",
   "execution_count": 1,
   "id": "0b05e061",
   "metadata": {},
   "outputs": [],
   "source": [
    "import pandas as pd\n",
    "import numpy as np\n",
    "\n",
    "import warnings\n",
    "warnings.filterwarnings(\"ignore\")"
   ]
  },
  {
   "cell_type": "code",
   "execution_count": 2,
   "id": "d36e49b6",
   "metadata": {},
   "outputs": [],
   "source": [
    "data = pd.read_excel('data.xlsx')"
   ]
  },
  {
   "cell_type": "code",
   "execution_count": 3,
   "id": "2ed5fb2e",
   "metadata": {},
   "outputs": [
    {
     "data": {
      "text/html": [
       "<div>\n",
       "<style scoped>\n",
       "    .dataframe tbody tr th:only-of-type {\n",
       "        vertical-align: middle;\n",
       "    }\n",
       "\n",
       "    .dataframe tbody tr th {\n",
       "        vertical-align: top;\n",
       "    }\n",
       "\n",
       "    .dataframe thead th {\n",
       "        text-align: right;\n",
       "    }\n",
       "</style>\n",
       "<table border=\"1\" class=\"dataframe\">\n",
       "  <thead>\n",
       "    <tr style=\"text-align: right;\">\n",
       "      <th></th>\n",
       "      <th>UniqueID</th>\n",
       "      <th>disbursed_amount</th>\n",
       "      <th>asset_cost</th>\n",
       "      <th>ltv</th>\n",
       "      <th>branch_id</th>\n",
       "      <th>supplier_id</th>\n",
       "      <th>manufacturer_id</th>\n",
       "      <th>Current_pincode_ID</th>\n",
       "      <th>Date.of.Birth</th>\n",
       "      <th>Employment.Type</th>\n",
       "      <th>...</th>\n",
       "      <th>SEC.SANCTIONED.AMOUNT</th>\n",
       "      <th>SEC.DISBURSED.AMOUNT</th>\n",
       "      <th>PRIMARY.INSTAL.AMT</th>\n",
       "      <th>SEC.INSTAL.AMT</th>\n",
       "      <th>NEW.ACCTS.IN.LAST.SIX.MONTHS</th>\n",
       "      <th>DELINQUENT.ACCTS.IN.LAST.SIX.MONTHS</th>\n",
       "      <th>AVERAGE.ACCT.AGE</th>\n",
       "      <th>CREDIT.HISTORY.LENGTH</th>\n",
       "      <th>NO.OF_INQUIRIES</th>\n",
       "      <th>loan_default</th>\n",
       "    </tr>\n",
       "  </thead>\n",
       "  <tbody>\n",
       "    <tr>\n",
       "      <th>0</th>\n",
       "      <td>420825</td>\n",
       "      <td>50578</td>\n",
       "      <td>58400</td>\n",
       "      <td>89.55</td>\n",
       "      <td>67</td>\n",
       "      <td>22807</td>\n",
       "      <td>45</td>\n",
       "      <td>1441</td>\n",
       "      <td>1984-01-01</td>\n",
       "      <td>Salaried</td>\n",
       "      <td>...</td>\n",
       "      <td>0</td>\n",
       "      <td>0</td>\n",
       "      <td>0</td>\n",
       "      <td>0</td>\n",
       "      <td>0</td>\n",
       "      <td>0</td>\n",
       "      <td>0yrs 0mon</td>\n",
       "      <td>0yrs 0mon</td>\n",
       "      <td>0</td>\n",
       "      <td>0</td>\n",
       "    </tr>\n",
       "    <tr>\n",
       "      <th>1</th>\n",
       "      <td>417566</td>\n",
       "      <td>53278</td>\n",
       "      <td>61360</td>\n",
       "      <td>89.63</td>\n",
       "      <td>67</td>\n",
       "      <td>22807</td>\n",
       "      <td>45</td>\n",
       "      <td>1497</td>\n",
       "      <td>1985-08-24</td>\n",
       "      <td>Self employed</td>\n",
       "      <td>...</td>\n",
       "      <td>0</td>\n",
       "      <td>0</td>\n",
       "      <td>0</td>\n",
       "      <td>0</td>\n",
       "      <td>0</td>\n",
       "      <td>0</td>\n",
       "      <td>0yrs 0mon</td>\n",
       "      <td>0yrs 0mon</td>\n",
       "      <td>0</td>\n",
       "      <td>0</td>\n",
       "    </tr>\n",
       "    <tr>\n",
       "      <th>2</th>\n",
       "      <td>539055</td>\n",
       "      <td>52378</td>\n",
       "      <td>60300</td>\n",
       "      <td>88.39</td>\n",
       "      <td>67</td>\n",
       "      <td>22807</td>\n",
       "      <td>45</td>\n",
       "      <td>1495</td>\n",
       "      <td>1977-12-09</td>\n",
       "      <td>Self employed</td>\n",
       "      <td>...</td>\n",
       "      <td>0</td>\n",
       "      <td>0</td>\n",
       "      <td>0</td>\n",
       "      <td>0</td>\n",
       "      <td>0</td>\n",
       "      <td>0</td>\n",
       "      <td>0yrs 0mon</td>\n",
       "      <td>0yrs 0mon</td>\n",
       "      <td>1</td>\n",
       "      <td>1</td>\n",
       "    </tr>\n",
       "    <tr>\n",
       "      <th>3</th>\n",
       "      <td>529269</td>\n",
       "      <td>46349</td>\n",
       "      <td>61500</td>\n",
       "      <td>76.42</td>\n",
       "      <td>67</td>\n",
       "      <td>22807</td>\n",
       "      <td>45</td>\n",
       "      <td>1502</td>\n",
       "      <td>1988-06-01</td>\n",
       "      <td>Salaried</td>\n",
       "      <td>...</td>\n",
       "      <td>0</td>\n",
       "      <td>0</td>\n",
       "      <td>0</td>\n",
       "      <td>0</td>\n",
       "      <td>0</td>\n",
       "      <td>0</td>\n",
       "      <td>0yrs 0mon</td>\n",
       "      <td>0yrs 0mon</td>\n",
       "      <td>0</td>\n",
       "      <td>0</td>\n",
       "    </tr>\n",
       "    <tr>\n",
       "      <th>4</th>\n",
       "      <td>563215</td>\n",
       "      <td>43594</td>\n",
       "      <td>78256</td>\n",
       "      <td>57.50</td>\n",
       "      <td>67</td>\n",
       "      <td>22744</td>\n",
       "      <td>86</td>\n",
       "      <td>1499</td>\n",
       "      <td>1994-07-14</td>\n",
       "      <td>Self employed</td>\n",
       "      <td>...</td>\n",
       "      <td>0</td>\n",
       "      <td>0</td>\n",
       "      <td>0</td>\n",
       "      <td>0</td>\n",
       "      <td>0</td>\n",
       "      <td>0</td>\n",
       "      <td>0yrs 0mon</td>\n",
       "      <td>0yrs 0mon</td>\n",
       "      <td>0</td>\n",
       "      <td>0</td>\n",
       "    </tr>\n",
       "  </tbody>\n",
       "</table>\n",
       "<p>5 rows × 41 columns</p>\n",
       "</div>"
      ],
      "text/plain": [
       "   UniqueID  disbursed_amount  asset_cost    ltv  branch_id  supplier_id  \\\n",
       "0    420825             50578       58400  89.55         67        22807   \n",
       "1    417566             53278       61360  89.63         67        22807   \n",
       "2    539055             52378       60300  88.39         67        22807   \n",
       "3    529269             46349       61500  76.42         67        22807   \n",
       "4    563215             43594       78256  57.50         67        22744   \n",
       "\n",
       "   manufacturer_id  Current_pincode_ID Date.of.Birth Employment.Type  ...  \\\n",
       "0               45                1441    1984-01-01        Salaried  ...   \n",
       "1               45                1497    1985-08-24   Self employed  ...   \n",
       "2               45                1495    1977-12-09   Self employed  ...   \n",
       "3               45                1502    1988-06-01        Salaried  ...   \n",
       "4               86                1499    1994-07-14   Self employed  ...   \n",
       "\n",
       "  SEC.SANCTIONED.AMOUNT  SEC.DISBURSED.AMOUNT  PRIMARY.INSTAL.AMT  \\\n",
       "0                     0                     0                   0   \n",
       "1                     0                     0                   0   \n",
       "2                     0                     0                   0   \n",
       "3                     0                     0                   0   \n",
       "4                     0                     0                   0   \n",
       "\n",
       "   SEC.INSTAL.AMT  NEW.ACCTS.IN.LAST.SIX.MONTHS  \\\n",
       "0               0                             0   \n",
       "1               0                             0   \n",
       "2               0                             0   \n",
       "3               0                             0   \n",
       "4               0                             0   \n",
       "\n",
       "   DELINQUENT.ACCTS.IN.LAST.SIX.MONTHS  AVERAGE.ACCT.AGE  \\\n",
       "0                                    0         0yrs 0mon   \n",
       "1                                    0         0yrs 0mon   \n",
       "2                                    0         0yrs 0mon   \n",
       "3                                    0         0yrs 0mon   \n",
       "4                                    0         0yrs 0mon   \n",
       "\n",
       "   CREDIT.HISTORY.LENGTH  NO.OF_INQUIRIES  loan_default  \n",
       "0              0yrs 0mon                0             0  \n",
       "1              0yrs 0mon                0             0  \n",
       "2              0yrs 0mon                1             1  \n",
       "3              0yrs 0mon                0             0  \n",
       "4              0yrs 0mon                0             0  \n",
       "\n",
       "[5 rows x 41 columns]"
      ]
     },
     "execution_count": 3,
     "metadata": {},
     "output_type": "execute_result"
    }
   ],
   "source": [
    "data.head()"
   ]
  },
  {
   "cell_type": "code",
   "execution_count": 4,
   "id": "b51241be",
   "metadata": {},
   "outputs": [
    {
     "data": {
      "text/plain": [
       "(233154, 41)"
      ]
     },
     "execution_count": 4,
     "metadata": {},
     "output_type": "execute_result"
    }
   ],
   "source": [
    "data.shape"
   ]
  },
  {
   "cell_type": "code",
   "execution_count": 5,
   "id": "8d78fa51",
   "metadata": {},
   "outputs": [
    {
     "data": {
      "text/plain": [
       "UniqueID                                  0\n",
       "disbursed_amount                          0\n",
       "asset_cost                                0\n",
       "ltv                                       0\n",
       "branch_id                                 0\n",
       "supplier_id                               0\n",
       "manufacturer_id                           0\n",
       "Current_pincode_ID                        0\n",
       "Date.of.Birth                             0\n",
       "Employment.Type                        7661\n",
       "DisbursalDate                             0\n",
       "State_ID                                  0\n",
       "Employee_code_ID                          0\n",
       "MobileNo_Avl_Flag                         0\n",
       "Aadhar_flag                               0\n",
       "PAN_flag                                  0\n",
       "VoterID_flag                              0\n",
       "Driving_flag                              0\n",
       "Passport_flag                             0\n",
       "PERFORM_CNS.SCORE                         0\n",
       "PERFORM_CNS.SCORE.DESCRIPTION             0\n",
       "PRI.NO.OF.ACCTS                           0\n",
       "PRI.ACTIVE.ACCTS                          0\n",
       "PRI.OVERDUE.ACCTS                         0\n",
       "PRI.CURRENT.BALANCE                       0\n",
       "PRI.SANCTIONED.AMOUNT                     0\n",
       "PRI.DISBURSED.AMOUNT                      0\n",
       "SEC.NO.OF.ACCTS                           0\n",
       "SEC.ACTIVE.ACCTS                          0\n",
       "SEC.OVERDUE.ACCTS                         0\n",
       "SEC.CURRENT.BALANCE                       0\n",
       "SEC.SANCTIONED.AMOUNT                     0\n",
       "SEC.DISBURSED.AMOUNT                      0\n",
       "PRIMARY.INSTAL.AMT                        0\n",
       "SEC.INSTAL.AMT                            0\n",
       "NEW.ACCTS.IN.LAST.SIX.MONTHS              0\n",
       "DELINQUENT.ACCTS.IN.LAST.SIX.MONTHS       0\n",
       "AVERAGE.ACCT.AGE                          0\n",
       "CREDIT.HISTORY.LENGTH                     0\n",
       "NO.OF_INQUIRIES                           0\n",
       "loan_default                              0\n",
       "dtype: int64"
      ]
     },
     "execution_count": 5,
     "metadata": {},
     "output_type": "execute_result"
    }
   ],
   "source": [
    "data.isnull().sum()"
   ]
  },
  {
   "cell_type": "code",
   "execution_count": 6,
   "id": "8e806e67",
   "metadata": {},
   "outputs": [
    {
     "data": {
      "text/plain": [
       "False"
      ]
     },
     "execution_count": 6,
     "metadata": {},
     "output_type": "execute_result"
    }
   ],
   "source": [
    "data.duplicated().any()"
   ]
  },
  {
   "cell_type": "markdown",
   "id": "1e281da6",
   "metadata": {},
   "source": [
    "#### Variable names in the data may not be in accordance with the identifier naming in Python so, change the variable names accordingly"
   ]
  },
  {
   "cell_type": "code",
   "execution_count": 7,
   "id": "136bb6e1",
   "metadata": {},
   "outputs": [
    {
     "data": {
      "text/plain": [
       "Index(['UniqueID', 'disbursed_amount', 'asset_cost', 'ltv', 'branch_id',\n",
       "       'supplier_id', 'manufacturer_id', 'Current_pincode_ID', 'Date.of.Birth',\n",
       "       'Employment.Type', 'DisbursalDate', 'State_ID', 'Employee_code_ID',\n",
       "       'MobileNo_Avl_Flag', 'Aadhar_flag', 'PAN_flag', 'VoterID_flag',\n",
       "       'Driving_flag', 'Passport_flag', 'PERFORM_CNS.SCORE',\n",
       "       'PERFORM_CNS.SCORE.DESCRIPTION', 'PRI.NO.OF.ACCTS', 'PRI.ACTIVE.ACCTS',\n",
       "       'PRI.OVERDUE.ACCTS', 'PRI.CURRENT.BALANCE', 'PRI.SANCTIONED.AMOUNT',\n",
       "       'PRI.DISBURSED.AMOUNT', 'SEC.NO.OF.ACCTS', 'SEC.ACTIVE.ACCTS',\n",
       "       'SEC.OVERDUE.ACCTS', 'SEC.CURRENT.BALANCE', 'SEC.SANCTIONED.AMOUNT',\n",
       "       'SEC.DISBURSED.AMOUNT', 'PRIMARY.INSTAL.AMT', 'SEC.INSTAL.AMT',\n",
       "       'NEW.ACCTS.IN.LAST.SIX.MONTHS', 'DELINQUENT.ACCTS.IN.LAST.SIX.MONTHS',\n",
       "       'AVERAGE.ACCT.AGE', 'CREDIT.HISTORY.LENGTH', 'NO.OF_INQUIRIES',\n",
       "       'loan_default'],\n",
       "      dtype='object')"
      ]
     },
     "execution_count": 7,
     "metadata": {},
     "output_type": "execute_result"
    }
   ],
   "source": [
    "data.columns"
   ]
  },
  {
   "cell_type": "code",
   "execution_count": 8,
   "id": "aaaf1a08",
   "metadata": {},
   "outputs": [],
   "source": [
    "data.columns = ['Unique_ID', 'Disbursed_Amount', 'Asset_Cost', 'ltv', 'Branch_ID',\n",
    "       'Supplier_ID', 'Manufacturer_ID', 'Current_Pincode_ID', 'Date_Of_Birth',\n",
    "       'Employment_Type', 'Disbursal_Date', 'State_ID', 'Employee_Code_ID',\n",
    "       'MobileNo_Avl_Flag', 'Aadhar_Flag', 'PAN_Flag', 'VoterID_Flag',\n",
    "       'Driving_Flag', 'Passport_Flag', 'Perform_CNS_Score',\n",
    "       'Perform_CNS_Score_Description', 'PRI_NO_OF_ACCTS', 'PRI_ACTIVE_ACCTS',\n",
    "       'PRI_OVERDUE_ACCTS', 'PRI_CURRENT_BALANCE', 'PRI_SANCTIONED_AMOUNT',\n",
    "       'PRI_DISBURSED_AMOUNT', 'SEC_NO_OF_ACCTS', 'SEC_ACTIVE_ACCTS',\n",
    "       'SEC_OVERDUE_ACCTS', 'SEC_CURRENT_BALANCE', 'SEC_SANCTIONED_AMOUNT',\n",
    "       'SEC_DISBURSED_AMOUNT', 'PRIMARY_INSTAL_AMT', 'SEC_INSTAL_AMT',\n",
    "       'NEW_ACCTS_IN_LAST_SIX_MONTHS', 'DELINQUENT_ACCTS_IN_LAST_SIX_MONTHS',\n",
    "       'AVERAGE_ACCT_AGE', 'CREDIT_HISTORY_LENGTH', 'NO_OF_INQUIRIES',\n",
    "       'Loan_Default']"
   ]
  },
  {
   "cell_type": "code",
   "execution_count": 9,
   "id": "002d1d3c",
   "metadata": {},
   "outputs": [
    {
     "data": {
      "text/plain": [
       "Index(['Unique_ID', 'Disbursed_Amount', 'Asset_Cost', 'ltv', 'Branch_ID',\n",
       "       'Supplier_ID', 'Manufacturer_ID', 'Current_Pincode_ID', 'Date_Of_Birth',\n",
       "       'Employment_Type', 'Disbursal_Date', 'State_ID', 'Employee_Code_ID',\n",
       "       'MobileNo_Avl_Flag', 'Aadhar_Flag', 'PAN_Flag', 'VoterID_Flag',\n",
       "       'Driving_Flag', 'Passport_Flag', 'Perform_CNS_Score',\n",
       "       'Perform_CNS_Score_Description', 'PRI_NO_OF_ACCTS', 'PRI_ACTIVE_ACCTS',\n",
       "       'PRI_OVERDUE_ACCTS', 'PRI_CURRENT_BALANCE', 'PRI_SANCTIONED_AMOUNT',\n",
       "       'PRI_DISBURSED_AMOUNT', 'SEC_NO_OF_ACCTS', 'SEC_ACTIVE_ACCTS',\n",
       "       'SEC_OVERDUE_ACCTS', 'SEC_CURRENT_BALANCE', 'SEC_SANCTIONED_AMOUNT',\n",
       "       'SEC_DISBURSED_AMOUNT', 'PRIMARY_INSTAL_AMT', 'SEC_INSTAL_AMT',\n",
       "       'NEW_ACCTS_IN_LAST_SIX_MONTHS', 'DELINQUENT_ACCTS_IN_LAST_SIX_MONTHS',\n",
       "       'AVERAGE_ACCT_AGE', 'CREDIT_HISTORY_LENGTH', 'NO_OF_INQUIRIES',\n",
       "       'Loan_Default'],\n",
       "      dtype='object')"
      ]
     },
     "execution_count": 9,
     "metadata": {},
     "output_type": "execute_result"
    }
   ],
   "source": [
    "data.columns.astype('object')"
   ]
  },
  {
   "cell_type": "code",
   "execution_count": 10,
   "id": "218b6a15",
   "metadata": {},
   "outputs": [
    {
     "name": "stdout",
     "output_type": "stream",
     "text": [
      "<class 'pandas.core.frame.DataFrame'>\n",
      "RangeIndex: 233154 entries, 0 to 233153\n",
      "Data columns (total 41 columns):\n",
      " #   Column                               Non-Null Count   Dtype         \n",
      "---  ------                               --------------   -----         \n",
      " 0   Unique_ID                            233154 non-null  int64         \n",
      " 1   Disbursed_Amount                     233154 non-null  int64         \n",
      " 2   Asset_Cost                           233154 non-null  int64         \n",
      " 3   ltv                                  233154 non-null  float64       \n",
      " 4   Branch_ID                            233154 non-null  int64         \n",
      " 5   Supplier_ID                          233154 non-null  int64         \n",
      " 6   Manufacturer_ID                      233154 non-null  int64         \n",
      " 7   Current_Pincode_ID                   233154 non-null  int64         \n",
      " 8   Date_Of_Birth                        233154 non-null  datetime64[ns]\n",
      " 9   Employment_Type                      225493 non-null  object        \n",
      " 10  Disbursal_Date                       233154 non-null  datetime64[ns]\n",
      " 11  State_ID                             233154 non-null  int64         \n",
      " 12  Employee_Code_ID                     233154 non-null  int64         \n",
      " 13  MobileNo_Avl_Flag                    233154 non-null  int64         \n",
      " 14  Aadhar_Flag                          233154 non-null  int64         \n",
      " 15  PAN_Flag                             233154 non-null  int64         \n",
      " 16  VoterID_Flag                         233154 non-null  int64         \n",
      " 17  Driving_Flag                         233154 non-null  int64         \n",
      " 18  Passport_Flag                        233154 non-null  int64         \n",
      " 19  Perform_CNS_Score                    233154 non-null  int64         \n",
      " 20  Perform_CNS_Score_Description        233154 non-null  object        \n",
      " 21  PRI_NO_OF_ACCTS                      233154 non-null  int64         \n",
      " 22  PRI_ACTIVE_ACCTS                     233154 non-null  int64         \n",
      " 23  PRI_OVERDUE_ACCTS                    233154 non-null  int64         \n",
      " 24  PRI_CURRENT_BALANCE                  233154 non-null  int64         \n",
      " 25  PRI_SANCTIONED_AMOUNT                233154 non-null  int64         \n",
      " 26  PRI_DISBURSED_AMOUNT                 233154 non-null  int64         \n",
      " 27  SEC_NO_OF_ACCTS                      233154 non-null  int64         \n",
      " 28  SEC_ACTIVE_ACCTS                     233154 non-null  int64         \n",
      " 29  SEC_OVERDUE_ACCTS                    233154 non-null  int64         \n",
      " 30  SEC_CURRENT_BALANCE                  233154 non-null  int64         \n",
      " 31  SEC_SANCTIONED_AMOUNT                233154 non-null  int64         \n",
      " 32  SEC_DISBURSED_AMOUNT                 233154 non-null  int64         \n",
      " 33  PRIMARY_INSTAL_AMT                   233154 non-null  int64         \n",
      " 34  SEC_INSTAL_AMT                       233154 non-null  int64         \n",
      " 35  NEW_ACCTS_IN_LAST_SIX_MONTHS         233154 non-null  int64         \n",
      " 36  DELINQUENT_ACCTS_IN_LAST_SIX_MONTHS  233154 non-null  int64         \n",
      " 37  AVERAGE_ACCT_AGE                     233154 non-null  object        \n",
      " 38  CREDIT_HISTORY_LENGTH                233154 non-null  object        \n",
      " 39  NO_OF_INQUIRIES                      233154 non-null  int64         \n",
      " 40  Loan_Default                         233154 non-null  int64         \n",
      "dtypes: datetime64[ns](2), float64(1), int64(34), object(4)\n",
      "memory usage: 72.9+ MB\n"
     ]
    }
   ],
   "source": [
    "data.info()"
   ]
  },
  {
   "cell_type": "markdown",
   "id": "52278908",
   "metadata": {},
   "source": [
    "#### The presented data might also contain some missing values therefore, exploration will also lead to devising strategies to fill in the missing values while exploring the data"
   ]
  },
  {
   "cell_type": "code",
   "execution_count": 11,
   "id": "09aff127",
   "metadata": {},
   "outputs": [
    {
     "data": {
      "text/plain": [
       "Self employed    127635\n",
       "Salaried          97858\n",
       "Name: Employment_Type, dtype: int64"
      ]
     },
     "execution_count": 11,
     "metadata": {},
     "output_type": "execute_result"
    }
   ],
   "source": [
    "data['Employment_Type'].value_counts()"
   ]
  },
  {
   "cell_type": "code",
   "execution_count": 12,
   "id": "a4dbd35a",
   "metadata": {},
   "outputs": [],
   "source": [
    "data['Employment_Type'].fillna(\"Self employed\", inplace = True) "
   ]
  },
  {
   "cell_type": "code",
   "execution_count": 164,
   "id": "64384edc-37ad-438b-ad2e-4051e7c7eb1e",
   "metadata": {},
   "outputs": [],
   "source": [
    "data['Employment_Type'].to_excel('Employment_Typesr.xlsx')"
   ]
  },
  {
   "cell_type": "code",
   "execution_count": 13,
   "id": "59bfa3e1",
   "metadata": {},
   "outputs": [
    {
     "data": {
      "text/html": [
       "<div>\n",
       "<style scoped>\n",
       "    .dataframe tbody tr th:only-of-type {\n",
       "        vertical-align: middle;\n",
       "    }\n",
       "\n",
       "    .dataframe tbody tr th {\n",
       "        vertical-align: top;\n",
       "    }\n",
       "\n",
       "    .dataframe thead th {\n",
       "        text-align: right;\n",
       "    }\n",
       "</style>\n",
       "<table border=\"1\" class=\"dataframe\">\n",
       "  <thead>\n",
       "    <tr style=\"text-align: right;\">\n",
       "      <th></th>\n",
       "      <th>Unique_ID</th>\n",
       "      <th>Disbursed_Amount</th>\n",
       "      <th>Asset_Cost</th>\n",
       "      <th>ltv</th>\n",
       "      <th>Branch_ID</th>\n",
       "      <th>Supplier_ID</th>\n",
       "      <th>Manufacturer_ID</th>\n",
       "      <th>Current_Pincode_ID</th>\n",
       "      <th>Date_Of_Birth</th>\n",
       "      <th>Employment_Type</th>\n",
       "      <th>...</th>\n",
       "      <th>SEC_SANCTIONED_AMOUNT</th>\n",
       "      <th>SEC_DISBURSED_AMOUNT</th>\n",
       "      <th>PRIMARY_INSTAL_AMT</th>\n",
       "      <th>SEC_INSTAL_AMT</th>\n",
       "      <th>NEW_ACCTS_IN_LAST_SIX_MONTHS</th>\n",
       "      <th>DELINQUENT_ACCTS_IN_LAST_SIX_MONTHS</th>\n",
       "      <th>AVERAGE_ACCT_AGE</th>\n",
       "      <th>CREDIT_HISTORY_LENGTH</th>\n",
       "      <th>NO_OF_INQUIRIES</th>\n",
       "      <th>Loan_Default</th>\n",
       "    </tr>\n",
       "  </thead>\n",
       "  <tbody>\n",
       "    <tr>\n",
       "      <th>0</th>\n",
       "      <td>False</td>\n",
       "      <td>False</td>\n",
       "      <td>False</td>\n",
       "      <td>False</td>\n",
       "      <td>False</td>\n",
       "      <td>False</td>\n",
       "      <td>False</td>\n",
       "      <td>False</td>\n",
       "      <td>False</td>\n",
       "      <td>False</td>\n",
       "      <td>...</td>\n",
       "      <td>False</td>\n",
       "      <td>False</td>\n",
       "      <td>False</td>\n",
       "      <td>False</td>\n",
       "      <td>False</td>\n",
       "      <td>False</td>\n",
       "      <td>False</td>\n",
       "      <td>False</td>\n",
       "      <td>False</td>\n",
       "      <td>False</td>\n",
       "    </tr>\n",
       "    <tr>\n",
       "      <th>1</th>\n",
       "      <td>False</td>\n",
       "      <td>False</td>\n",
       "      <td>False</td>\n",
       "      <td>False</td>\n",
       "      <td>False</td>\n",
       "      <td>False</td>\n",
       "      <td>False</td>\n",
       "      <td>False</td>\n",
       "      <td>False</td>\n",
       "      <td>False</td>\n",
       "      <td>...</td>\n",
       "      <td>False</td>\n",
       "      <td>False</td>\n",
       "      <td>False</td>\n",
       "      <td>False</td>\n",
       "      <td>False</td>\n",
       "      <td>False</td>\n",
       "      <td>False</td>\n",
       "      <td>False</td>\n",
       "      <td>False</td>\n",
       "      <td>False</td>\n",
       "    </tr>\n",
       "    <tr>\n",
       "      <th>2</th>\n",
       "      <td>False</td>\n",
       "      <td>False</td>\n",
       "      <td>False</td>\n",
       "      <td>False</td>\n",
       "      <td>False</td>\n",
       "      <td>False</td>\n",
       "      <td>False</td>\n",
       "      <td>False</td>\n",
       "      <td>False</td>\n",
       "      <td>False</td>\n",
       "      <td>...</td>\n",
       "      <td>False</td>\n",
       "      <td>False</td>\n",
       "      <td>False</td>\n",
       "      <td>False</td>\n",
       "      <td>False</td>\n",
       "      <td>False</td>\n",
       "      <td>False</td>\n",
       "      <td>False</td>\n",
       "      <td>False</td>\n",
       "      <td>False</td>\n",
       "    </tr>\n",
       "    <tr>\n",
       "      <th>3</th>\n",
       "      <td>False</td>\n",
       "      <td>False</td>\n",
       "      <td>False</td>\n",
       "      <td>False</td>\n",
       "      <td>False</td>\n",
       "      <td>False</td>\n",
       "      <td>False</td>\n",
       "      <td>False</td>\n",
       "      <td>False</td>\n",
       "      <td>False</td>\n",
       "      <td>...</td>\n",
       "      <td>False</td>\n",
       "      <td>False</td>\n",
       "      <td>False</td>\n",
       "      <td>False</td>\n",
       "      <td>False</td>\n",
       "      <td>False</td>\n",
       "      <td>False</td>\n",
       "      <td>False</td>\n",
       "      <td>False</td>\n",
       "      <td>False</td>\n",
       "    </tr>\n",
       "    <tr>\n",
       "      <th>4</th>\n",
       "      <td>False</td>\n",
       "      <td>False</td>\n",
       "      <td>False</td>\n",
       "      <td>False</td>\n",
       "      <td>False</td>\n",
       "      <td>False</td>\n",
       "      <td>False</td>\n",
       "      <td>False</td>\n",
       "      <td>False</td>\n",
       "      <td>False</td>\n",
       "      <td>...</td>\n",
       "      <td>False</td>\n",
       "      <td>False</td>\n",
       "      <td>False</td>\n",
       "      <td>False</td>\n",
       "      <td>False</td>\n",
       "      <td>False</td>\n",
       "      <td>False</td>\n",
       "      <td>False</td>\n",
       "      <td>False</td>\n",
       "      <td>False</td>\n",
       "    </tr>\n",
       "    <tr>\n",
       "      <th>...</th>\n",
       "      <td>...</td>\n",
       "      <td>...</td>\n",
       "      <td>...</td>\n",
       "      <td>...</td>\n",
       "      <td>...</td>\n",
       "      <td>...</td>\n",
       "      <td>...</td>\n",
       "      <td>...</td>\n",
       "      <td>...</td>\n",
       "      <td>...</td>\n",
       "      <td>...</td>\n",
       "      <td>...</td>\n",
       "      <td>...</td>\n",
       "      <td>...</td>\n",
       "      <td>...</td>\n",
       "      <td>...</td>\n",
       "      <td>...</td>\n",
       "      <td>...</td>\n",
       "      <td>...</td>\n",
       "      <td>...</td>\n",
       "      <td>...</td>\n",
       "    </tr>\n",
       "    <tr>\n",
       "      <th>233149</th>\n",
       "      <td>False</td>\n",
       "      <td>False</td>\n",
       "      <td>False</td>\n",
       "      <td>False</td>\n",
       "      <td>False</td>\n",
       "      <td>False</td>\n",
       "      <td>False</td>\n",
       "      <td>False</td>\n",
       "      <td>False</td>\n",
       "      <td>False</td>\n",
       "      <td>...</td>\n",
       "      <td>False</td>\n",
       "      <td>False</td>\n",
       "      <td>False</td>\n",
       "      <td>False</td>\n",
       "      <td>False</td>\n",
       "      <td>False</td>\n",
       "      <td>False</td>\n",
       "      <td>False</td>\n",
       "      <td>False</td>\n",
       "      <td>False</td>\n",
       "    </tr>\n",
       "    <tr>\n",
       "      <th>233150</th>\n",
       "      <td>False</td>\n",
       "      <td>False</td>\n",
       "      <td>False</td>\n",
       "      <td>False</td>\n",
       "      <td>False</td>\n",
       "      <td>False</td>\n",
       "      <td>False</td>\n",
       "      <td>False</td>\n",
       "      <td>False</td>\n",
       "      <td>False</td>\n",
       "      <td>...</td>\n",
       "      <td>False</td>\n",
       "      <td>False</td>\n",
       "      <td>False</td>\n",
       "      <td>False</td>\n",
       "      <td>False</td>\n",
       "      <td>False</td>\n",
       "      <td>False</td>\n",
       "      <td>False</td>\n",
       "      <td>False</td>\n",
       "      <td>False</td>\n",
       "    </tr>\n",
       "    <tr>\n",
       "      <th>233151</th>\n",
       "      <td>False</td>\n",
       "      <td>False</td>\n",
       "      <td>False</td>\n",
       "      <td>False</td>\n",
       "      <td>False</td>\n",
       "      <td>False</td>\n",
       "      <td>False</td>\n",
       "      <td>False</td>\n",
       "      <td>False</td>\n",
       "      <td>False</td>\n",
       "      <td>...</td>\n",
       "      <td>False</td>\n",
       "      <td>False</td>\n",
       "      <td>False</td>\n",
       "      <td>False</td>\n",
       "      <td>False</td>\n",
       "      <td>False</td>\n",
       "      <td>False</td>\n",
       "      <td>False</td>\n",
       "      <td>False</td>\n",
       "      <td>False</td>\n",
       "    </tr>\n",
       "    <tr>\n",
       "      <th>233152</th>\n",
       "      <td>False</td>\n",
       "      <td>False</td>\n",
       "      <td>False</td>\n",
       "      <td>False</td>\n",
       "      <td>False</td>\n",
       "      <td>False</td>\n",
       "      <td>False</td>\n",
       "      <td>False</td>\n",
       "      <td>False</td>\n",
       "      <td>False</td>\n",
       "      <td>...</td>\n",
       "      <td>False</td>\n",
       "      <td>False</td>\n",
       "      <td>False</td>\n",
       "      <td>False</td>\n",
       "      <td>False</td>\n",
       "      <td>False</td>\n",
       "      <td>False</td>\n",
       "      <td>False</td>\n",
       "      <td>False</td>\n",
       "      <td>False</td>\n",
       "    </tr>\n",
       "    <tr>\n",
       "      <th>233153</th>\n",
       "      <td>False</td>\n",
       "      <td>False</td>\n",
       "      <td>False</td>\n",
       "      <td>False</td>\n",
       "      <td>False</td>\n",
       "      <td>False</td>\n",
       "      <td>False</td>\n",
       "      <td>False</td>\n",
       "      <td>False</td>\n",
       "      <td>False</td>\n",
       "      <td>...</td>\n",
       "      <td>False</td>\n",
       "      <td>False</td>\n",
       "      <td>False</td>\n",
       "      <td>False</td>\n",
       "      <td>False</td>\n",
       "      <td>False</td>\n",
       "      <td>False</td>\n",
       "      <td>False</td>\n",
       "      <td>False</td>\n",
       "      <td>False</td>\n",
       "    </tr>\n",
       "  </tbody>\n",
       "</table>\n",
       "<p>233154 rows × 41 columns</p>\n",
       "</div>"
      ],
      "text/plain": [
       "        Unique_ID  Disbursed_Amount  Asset_Cost    ltv  Branch_ID  \\\n",
       "0           False             False       False  False      False   \n",
       "1           False             False       False  False      False   \n",
       "2           False             False       False  False      False   \n",
       "3           False             False       False  False      False   \n",
       "4           False             False       False  False      False   \n",
       "...           ...               ...         ...    ...        ...   \n",
       "233149      False             False       False  False      False   \n",
       "233150      False             False       False  False      False   \n",
       "233151      False             False       False  False      False   \n",
       "233152      False             False       False  False      False   \n",
       "233153      False             False       False  False      False   \n",
       "\n",
       "        Supplier_ID  Manufacturer_ID  Current_Pincode_ID  Date_Of_Birth  \\\n",
       "0             False            False               False          False   \n",
       "1             False            False               False          False   \n",
       "2             False            False               False          False   \n",
       "3             False            False               False          False   \n",
       "4             False            False               False          False   \n",
       "...             ...              ...                 ...            ...   \n",
       "233149        False            False               False          False   \n",
       "233150        False            False               False          False   \n",
       "233151        False            False               False          False   \n",
       "233152        False            False               False          False   \n",
       "233153        False            False               False          False   \n",
       "\n",
       "        Employment_Type  ...  SEC_SANCTIONED_AMOUNT  SEC_DISBURSED_AMOUNT  \\\n",
       "0                 False  ...                  False                 False   \n",
       "1                 False  ...                  False                 False   \n",
       "2                 False  ...                  False                 False   \n",
       "3                 False  ...                  False                 False   \n",
       "4                 False  ...                  False                 False   \n",
       "...                 ...  ...                    ...                   ...   \n",
       "233149            False  ...                  False                 False   \n",
       "233150            False  ...                  False                 False   \n",
       "233151            False  ...                  False                 False   \n",
       "233152            False  ...                  False                 False   \n",
       "233153            False  ...                  False                 False   \n",
       "\n",
       "        PRIMARY_INSTAL_AMT  SEC_INSTAL_AMT  NEW_ACCTS_IN_LAST_SIX_MONTHS  \\\n",
       "0                    False           False                         False   \n",
       "1                    False           False                         False   \n",
       "2                    False           False                         False   \n",
       "3                    False           False                         False   \n",
       "4                    False           False                         False   \n",
       "...                    ...             ...                           ...   \n",
       "233149               False           False                         False   \n",
       "233150               False           False                         False   \n",
       "233151               False           False                         False   \n",
       "233152               False           False                         False   \n",
       "233153               False           False                         False   \n",
       "\n",
       "        DELINQUENT_ACCTS_IN_LAST_SIX_MONTHS  AVERAGE_ACCT_AGE  \\\n",
       "0                                     False             False   \n",
       "1                                     False             False   \n",
       "2                                     False             False   \n",
       "3                                     False             False   \n",
       "4                                     False             False   \n",
       "...                                     ...               ...   \n",
       "233149                                False             False   \n",
       "233150                                False             False   \n",
       "233151                                False             False   \n",
       "233152                                False             False   \n",
       "233153                                False             False   \n",
       "\n",
       "        CREDIT_HISTORY_LENGTH  NO_OF_INQUIRIES  Loan_Default  \n",
       "0                       False            False         False  \n",
       "1                       False            False         False  \n",
       "2                       False            False         False  \n",
       "3                       False            False         False  \n",
       "4                       False            False         False  \n",
       "...                       ...              ...           ...  \n",
       "233149                  False            False         False  \n",
       "233150                  False            False         False  \n",
       "233151                  False            False         False  \n",
       "233152                  False            False         False  \n",
       "233153                  False            False         False  \n",
       "\n",
       "[233154 rows x 41 columns]"
      ]
     },
     "execution_count": 13,
     "metadata": {},
     "output_type": "execute_result"
    }
   ],
   "source": [
    "data.isnull()"
   ]
  },
  {
   "cell_type": "code",
   "execution_count": 14,
   "id": "4f63f59b",
   "metadata": {},
   "outputs": [
    {
     "name": "stdout",
     "output_type": "stream",
     "text": [
      "<class 'pandas.core.frame.DataFrame'>\n",
      "RangeIndex: 233154 entries, 0 to 233153\n",
      "Data columns (total 41 columns):\n",
      " #   Column                               Non-Null Count   Dtype         \n",
      "---  ------                               --------------   -----         \n",
      " 0   Unique_ID                            233154 non-null  int64         \n",
      " 1   Disbursed_Amount                     233154 non-null  int64         \n",
      " 2   Asset_Cost                           233154 non-null  int64         \n",
      " 3   ltv                                  233154 non-null  float64       \n",
      " 4   Branch_ID                            233154 non-null  int64         \n",
      " 5   Supplier_ID                          233154 non-null  int64         \n",
      " 6   Manufacturer_ID                      233154 non-null  int64         \n",
      " 7   Current_Pincode_ID                   233154 non-null  int64         \n",
      " 8   Date_Of_Birth                        233154 non-null  datetime64[ns]\n",
      " 9   Employment_Type                      233154 non-null  object        \n",
      " 10  Disbursal_Date                       233154 non-null  datetime64[ns]\n",
      " 11  State_ID                             233154 non-null  int64         \n",
      " 12  Employee_Code_ID                     233154 non-null  int64         \n",
      " 13  MobileNo_Avl_Flag                    233154 non-null  int64         \n",
      " 14  Aadhar_Flag                          233154 non-null  int64         \n",
      " 15  PAN_Flag                             233154 non-null  int64         \n",
      " 16  VoterID_Flag                         233154 non-null  int64         \n",
      " 17  Driving_Flag                         233154 non-null  int64         \n",
      " 18  Passport_Flag                        233154 non-null  int64         \n",
      " 19  Perform_CNS_Score                    233154 non-null  int64         \n",
      " 20  Perform_CNS_Score_Description        233154 non-null  object        \n",
      " 21  PRI_NO_OF_ACCTS                      233154 non-null  int64         \n",
      " 22  PRI_ACTIVE_ACCTS                     233154 non-null  int64         \n",
      " 23  PRI_OVERDUE_ACCTS                    233154 non-null  int64         \n",
      " 24  PRI_CURRENT_BALANCE                  233154 non-null  int64         \n",
      " 25  PRI_SANCTIONED_AMOUNT                233154 non-null  int64         \n",
      " 26  PRI_DISBURSED_AMOUNT                 233154 non-null  int64         \n",
      " 27  SEC_NO_OF_ACCTS                      233154 non-null  int64         \n",
      " 28  SEC_ACTIVE_ACCTS                     233154 non-null  int64         \n",
      " 29  SEC_OVERDUE_ACCTS                    233154 non-null  int64         \n",
      " 30  SEC_CURRENT_BALANCE                  233154 non-null  int64         \n",
      " 31  SEC_SANCTIONED_AMOUNT                233154 non-null  int64         \n",
      " 32  SEC_DISBURSED_AMOUNT                 233154 non-null  int64         \n",
      " 33  PRIMARY_INSTAL_AMT                   233154 non-null  int64         \n",
      " 34  SEC_INSTAL_AMT                       233154 non-null  int64         \n",
      " 35  NEW_ACCTS_IN_LAST_SIX_MONTHS         233154 non-null  int64         \n",
      " 36  DELINQUENT_ACCTS_IN_LAST_SIX_MONTHS  233154 non-null  int64         \n",
      " 37  AVERAGE_ACCT_AGE                     233154 non-null  object        \n",
      " 38  CREDIT_HISTORY_LENGTH                233154 non-null  object        \n",
      " 39  NO_OF_INQUIRIES                      233154 non-null  int64         \n",
      " 40  Loan_Default                         233154 non-null  int64         \n",
      "dtypes: datetime64[ns](2), float64(1), int64(34), object(4)\n",
      "memory usage: 72.9+ MB\n"
     ]
    }
   ],
   "source": [
    "data.info()"
   ]
  },
  {
   "cell_type": "markdown",
   "id": "10a434b2",
   "metadata": {},
   "source": [
    "#### Performing EDA:"
   ]
  },
  {
   "cell_type": "markdown",
   "id": "4c083766-34d3-4d2a-98d5-62be94675132",
   "metadata": {
    "tags": []
   },
   "source": [
    "### Provide the statistical description of the quantitative data variables"
   ]
  },
  {
   "cell_type": "code",
   "execution_count": 15,
   "id": "baf46550",
   "metadata": {},
   "outputs": [
    {
     "data": {
      "text/html": [
       "<div>\n",
       "<style scoped>\n",
       "    .dataframe tbody tr th:only-of-type {\n",
       "        vertical-align: middle;\n",
       "    }\n",
       "\n",
       "    .dataframe tbody tr th {\n",
       "        vertical-align: top;\n",
       "    }\n",
       "\n",
       "    .dataframe thead th {\n",
       "        text-align: right;\n",
       "    }\n",
       "</style>\n",
       "<table border=\"1\" class=\"dataframe\">\n",
       "  <thead>\n",
       "    <tr style=\"text-align: right;\">\n",
       "      <th></th>\n",
       "      <th>Unique_ID</th>\n",
       "      <th>Disbursed_Amount</th>\n",
       "      <th>Asset_Cost</th>\n",
       "      <th>ltv</th>\n",
       "      <th>Branch_ID</th>\n",
       "      <th>Supplier_ID</th>\n",
       "      <th>Manufacturer_ID</th>\n",
       "      <th>Current_Pincode_ID</th>\n",
       "      <th>State_ID</th>\n",
       "      <th>Employee_Code_ID</th>\n",
       "      <th>...</th>\n",
       "      <th>SEC_OVERDUE_ACCTS</th>\n",
       "      <th>SEC_CURRENT_BALANCE</th>\n",
       "      <th>SEC_SANCTIONED_AMOUNT</th>\n",
       "      <th>SEC_DISBURSED_AMOUNT</th>\n",
       "      <th>PRIMARY_INSTAL_AMT</th>\n",
       "      <th>SEC_INSTAL_AMT</th>\n",
       "      <th>NEW_ACCTS_IN_LAST_SIX_MONTHS</th>\n",
       "      <th>DELINQUENT_ACCTS_IN_LAST_SIX_MONTHS</th>\n",
       "      <th>NO_OF_INQUIRIES</th>\n",
       "      <th>Loan_Default</th>\n",
       "    </tr>\n",
       "  </thead>\n",
       "  <tbody>\n",
       "    <tr>\n",
       "      <th>count</th>\n",
       "      <td>233154.000000</td>\n",
       "      <td>233154.000000</td>\n",
       "      <td>2.331540e+05</td>\n",
       "      <td>233154.000000</td>\n",
       "      <td>233154.000000</td>\n",
       "      <td>233154.000000</td>\n",
       "      <td>233154.000000</td>\n",
       "      <td>233154.000000</td>\n",
       "      <td>233154.000000</td>\n",
       "      <td>233154.000000</td>\n",
       "      <td>...</td>\n",
       "      <td>233154.000000</td>\n",
       "      <td>2.331540e+05</td>\n",
       "      <td>2.331540e+05</td>\n",
       "      <td>2.331540e+05</td>\n",
       "      <td>2.331540e+05</td>\n",
       "      <td>2.331540e+05</td>\n",
       "      <td>233154.000000</td>\n",
       "      <td>233154.000000</td>\n",
       "      <td>233154.000000</td>\n",
       "      <td>233154.000000</td>\n",
       "    </tr>\n",
       "    <tr>\n",
       "      <th>mean</th>\n",
       "      <td>535917.573376</td>\n",
       "      <td>54356.993528</td>\n",
       "      <td>7.586507e+04</td>\n",
       "      <td>74.746530</td>\n",
       "      <td>72.936094</td>\n",
       "      <td>19638.635035</td>\n",
       "      <td>69.028054</td>\n",
       "      <td>3396.880247</td>\n",
       "      <td>7.262243</td>\n",
       "      <td>1549.477148</td>\n",
       "      <td>...</td>\n",
       "      <td>0.007244</td>\n",
       "      <td>5.427793e+03</td>\n",
       "      <td>7.295923e+03</td>\n",
       "      <td>7.179998e+03</td>\n",
       "      <td>1.310548e+04</td>\n",
       "      <td>3.232684e+02</td>\n",
       "      <td>0.381833</td>\n",
       "      <td>0.097481</td>\n",
       "      <td>0.206615</td>\n",
       "      <td>0.217071</td>\n",
       "    </tr>\n",
       "    <tr>\n",
       "      <th>std</th>\n",
       "      <td>68315.693711</td>\n",
       "      <td>12971.314171</td>\n",
       "      <td>1.894478e+04</td>\n",
       "      <td>11.456636</td>\n",
       "      <td>69.834995</td>\n",
       "      <td>3491.949566</td>\n",
       "      <td>22.141304</td>\n",
       "      <td>2238.147502</td>\n",
       "      <td>4.482230</td>\n",
       "      <td>975.261278</td>\n",
       "      <td>...</td>\n",
       "      <td>0.111079</td>\n",
       "      <td>1.702370e+05</td>\n",
       "      <td>1.831560e+05</td>\n",
       "      <td>1.825925e+05</td>\n",
       "      <td>1.513679e+05</td>\n",
       "      <td>1.555369e+04</td>\n",
       "      <td>0.955107</td>\n",
       "      <td>0.384439</td>\n",
       "      <td>0.706498</td>\n",
       "      <td>0.412252</td>\n",
       "    </tr>\n",
       "    <tr>\n",
       "      <th>min</th>\n",
       "      <td>417428.000000</td>\n",
       "      <td>13320.000000</td>\n",
       "      <td>3.700000e+04</td>\n",
       "      <td>10.030000</td>\n",
       "      <td>1.000000</td>\n",
       "      <td>10524.000000</td>\n",
       "      <td>45.000000</td>\n",
       "      <td>1.000000</td>\n",
       "      <td>1.000000</td>\n",
       "      <td>1.000000</td>\n",
       "      <td>...</td>\n",
       "      <td>0.000000</td>\n",
       "      <td>-5.746470e+05</td>\n",
       "      <td>0.000000e+00</td>\n",
       "      <td>0.000000e+00</td>\n",
       "      <td>0.000000e+00</td>\n",
       "      <td>0.000000e+00</td>\n",
       "      <td>0.000000</td>\n",
       "      <td>0.000000</td>\n",
       "      <td>0.000000</td>\n",
       "      <td>0.000000</td>\n",
       "    </tr>\n",
       "    <tr>\n",
       "      <th>25%</th>\n",
       "      <td>476786.250000</td>\n",
       "      <td>47145.000000</td>\n",
       "      <td>6.571700e+04</td>\n",
       "      <td>68.880000</td>\n",
       "      <td>14.000000</td>\n",
       "      <td>16535.000000</td>\n",
       "      <td>48.000000</td>\n",
       "      <td>1511.000000</td>\n",
       "      <td>4.000000</td>\n",
       "      <td>713.000000</td>\n",
       "      <td>...</td>\n",
       "      <td>0.000000</td>\n",
       "      <td>0.000000e+00</td>\n",
       "      <td>0.000000e+00</td>\n",
       "      <td>0.000000e+00</td>\n",
       "      <td>0.000000e+00</td>\n",
       "      <td>0.000000e+00</td>\n",
       "      <td>0.000000</td>\n",
       "      <td>0.000000</td>\n",
       "      <td>0.000000</td>\n",
       "      <td>0.000000</td>\n",
       "    </tr>\n",
       "    <tr>\n",
       "      <th>50%</th>\n",
       "      <td>535978.500000</td>\n",
       "      <td>53803.000000</td>\n",
       "      <td>7.094600e+04</td>\n",
       "      <td>76.800000</td>\n",
       "      <td>61.000000</td>\n",
       "      <td>20333.000000</td>\n",
       "      <td>86.000000</td>\n",
       "      <td>2970.000000</td>\n",
       "      <td>6.000000</td>\n",
       "      <td>1451.000000</td>\n",
       "      <td>...</td>\n",
       "      <td>0.000000</td>\n",
       "      <td>0.000000e+00</td>\n",
       "      <td>0.000000e+00</td>\n",
       "      <td>0.000000e+00</td>\n",
       "      <td>0.000000e+00</td>\n",
       "      <td>0.000000e+00</td>\n",
       "      <td>0.000000</td>\n",
       "      <td>0.000000</td>\n",
       "      <td>0.000000</td>\n",
       "      <td>0.000000</td>\n",
       "    </tr>\n",
       "    <tr>\n",
       "      <th>75%</th>\n",
       "      <td>595039.750000</td>\n",
       "      <td>60413.000000</td>\n",
       "      <td>7.920175e+04</td>\n",
       "      <td>83.670000</td>\n",
       "      <td>130.000000</td>\n",
       "      <td>23000.000000</td>\n",
       "      <td>86.000000</td>\n",
       "      <td>5677.000000</td>\n",
       "      <td>10.000000</td>\n",
       "      <td>2362.000000</td>\n",
       "      <td>...</td>\n",
       "      <td>0.000000</td>\n",
       "      <td>0.000000e+00</td>\n",
       "      <td>0.000000e+00</td>\n",
       "      <td>0.000000e+00</td>\n",
       "      <td>1.999000e+03</td>\n",
       "      <td>0.000000e+00</td>\n",
       "      <td>0.000000</td>\n",
       "      <td>0.000000</td>\n",
       "      <td>0.000000</td>\n",
       "      <td>0.000000</td>\n",
       "    </tr>\n",
       "    <tr>\n",
       "      <th>max</th>\n",
       "      <td>671084.000000</td>\n",
       "      <td>990572.000000</td>\n",
       "      <td>1.628992e+06</td>\n",
       "      <td>95.000000</td>\n",
       "      <td>261.000000</td>\n",
       "      <td>24803.000000</td>\n",
       "      <td>156.000000</td>\n",
       "      <td>7345.000000</td>\n",
       "      <td>22.000000</td>\n",
       "      <td>3795.000000</td>\n",
       "      <td>...</td>\n",
       "      <td>8.000000</td>\n",
       "      <td>3.603285e+07</td>\n",
       "      <td>3.000000e+07</td>\n",
       "      <td>3.000000e+07</td>\n",
       "      <td>2.564281e+07</td>\n",
       "      <td>4.170901e+06</td>\n",
       "      <td>35.000000</td>\n",
       "      <td>20.000000</td>\n",
       "      <td>36.000000</td>\n",
       "      <td>1.000000</td>\n",
       "    </tr>\n",
       "  </tbody>\n",
       "</table>\n",
       "<p>8 rows × 35 columns</p>\n",
       "</div>"
      ],
      "text/plain": [
       "           Unique_ID  Disbursed_Amount    Asset_Cost            ltv  \\\n",
       "count  233154.000000     233154.000000  2.331540e+05  233154.000000   \n",
       "mean   535917.573376      54356.993528  7.586507e+04      74.746530   \n",
       "std     68315.693711      12971.314171  1.894478e+04      11.456636   \n",
       "min    417428.000000      13320.000000  3.700000e+04      10.030000   \n",
       "25%    476786.250000      47145.000000  6.571700e+04      68.880000   \n",
       "50%    535978.500000      53803.000000  7.094600e+04      76.800000   \n",
       "75%    595039.750000      60413.000000  7.920175e+04      83.670000   \n",
       "max    671084.000000     990572.000000  1.628992e+06      95.000000   \n",
       "\n",
       "           Branch_ID    Supplier_ID  Manufacturer_ID  Current_Pincode_ID  \\\n",
       "count  233154.000000  233154.000000    233154.000000       233154.000000   \n",
       "mean       72.936094   19638.635035        69.028054         3396.880247   \n",
       "std        69.834995    3491.949566        22.141304         2238.147502   \n",
       "min         1.000000   10524.000000        45.000000            1.000000   \n",
       "25%        14.000000   16535.000000        48.000000         1511.000000   \n",
       "50%        61.000000   20333.000000        86.000000         2970.000000   \n",
       "75%       130.000000   23000.000000        86.000000         5677.000000   \n",
       "max       261.000000   24803.000000       156.000000         7345.000000   \n",
       "\n",
       "            State_ID  Employee_Code_ID  ...  SEC_OVERDUE_ACCTS  \\\n",
       "count  233154.000000     233154.000000  ...      233154.000000   \n",
       "mean        7.262243       1549.477148  ...           0.007244   \n",
       "std         4.482230        975.261278  ...           0.111079   \n",
       "min         1.000000          1.000000  ...           0.000000   \n",
       "25%         4.000000        713.000000  ...           0.000000   \n",
       "50%         6.000000       1451.000000  ...           0.000000   \n",
       "75%        10.000000       2362.000000  ...           0.000000   \n",
       "max        22.000000       3795.000000  ...           8.000000   \n",
       "\n",
       "       SEC_CURRENT_BALANCE  SEC_SANCTIONED_AMOUNT  SEC_DISBURSED_AMOUNT  \\\n",
       "count         2.331540e+05           2.331540e+05          2.331540e+05   \n",
       "mean          5.427793e+03           7.295923e+03          7.179998e+03   \n",
       "std           1.702370e+05           1.831560e+05          1.825925e+05   \n",
       "min          -5.746470e+05           0.000000e+00          0.000000e+00   \n",
       "25%           0.000000e+00           0.000000e+00          0.000000e+00   \n",
       "50%           0.000000e+00           0.000000e+00          0.000000e+00   \n",
       "75%           0.000000e+00           0.000000e+00          0.000000e+00   \n",
       "max           3.603285e+07           3.000000e+07          3.000000e+07   \n",
       "\n",
       "       PRIMARY_INSTAL_AMT  SEC_INSTAL_AMT  NEW_ACCTS_IN_LAST_SIX_MONTHS  \\\n",
       "count        2.331540e+05    2.331540e+05                 233154.000000   \n",
       "mean         1.310548e+04    3.232684e+02                      0.381833   \n",
       "std          1.513679e+05    1.555369e+04                      0.955107   \n",
       "min          0.000000e+00    0.000000e+00                      0.000000   \n",
       "25%          0.000000e+00    0.000000e+00                      0.000000   \n",
       "50%          0.000000e+00    0.000000e+00                      0.000000   \n",
       "75%          1.999000e+03    0.000000e+00                      0.000000   \n",
       "max          2.564281e+07    4.170901e+06                     35.000000   \n",
       "\n",
       "       DELINQUENT_ACCTS_IN_LAST_SIX_MONTHS  NO_OF_INQUIRIES   Loan_Default  \n",
       "count                        233154.000000    233154.000000  233154.000000  \n",
       "mean                              0.097481         0.206615       0.217071  \n",
       "std                               0.384439         0.706498       0.412252  \n",
       "min                               0.000000         0.000000       0.000000  \n",
       "25%                               0.000000         0.000000       0.000000  \n",
       "50%                               0.000000         0.000000       0.000000  \n",
       "75%                               0.000000         0.000000       0.000000  \n",
       "max                              20.000000        36.000000       1.000000  \n",
       "\n",
       "[8 rows x 35 columns]"
      ]
     },
     "execution_count": 15,
     "metadata": {},
     "output_type": "execute_result"
    }
   ],
   "source": [
    "data.describe()"
   ]
  },
  {
   "cell_type": "markdown",
   "id": "d3bf402d-3013-46d4-b3ca-e301332cb3be",
   "metadata": {},
   "source": [
    "#### Explain how is the target variable distributed overall\n",
    "#### Study the distribution of the target variable across various categories like branch, city, state, branch, supplier, manufacturer, etc."
   ]
  },
  {
   "cell_type": "code",
   "execution_count": 16,
   "id": "debbfacb",
   "metadata": {},
   "outputs": [
    {
     "data": {
      "text/plain": [
       "Index(['Unique_ID', 'Disbursed_Amount', 'Asset_Cost', 'ltv', 'Branch_ID',\n",
       "       'Supplier_ID', 'Manufacturer_ID', 'Current_Pincode_ID', 'Date_Of_Birth',\n",
       "       'Employment_Type', 'Disbursal_Date', 'State_ID', 'Employee_Code_ID',\n",
       "       'MobileNo_Avl_Flag', 'Aadhar_Flag', 'PAN_Flag', 'VoterID_Flag',\n",
       "       'Driving_Flag', 'Passport_Flag', 'Perform_CNS_Score',\n",
       "       'Perform_CNS_Score_Description', 'PRI_NO_OF_ACCTS', 'PRI_ACTIVE_ACCTS',\n",
       "       'PRI_OVERDUE_ACCTS', 'PRI_CURRENT_BALANCE', 'PRI_SANCTIONED_AMOUNT',\n",
       "       'PRI_DISBURSED_AMOUNT', 'SEC_NO_OF_ACCTS', 'SEC_ACTIVE_ACCTS',\n",
       "       'SEC_OVERDUE_ACCTS', 'SEC_CURRENT_BALANCE', 'SEC_SANCTIONED_AMOUNT',\n",
       "       'SEC_DISBURSED_AMOUNT', 'PRIMARY_INSTAL_AMT', 'SEC_INSTAL_AMT',\n",
       "       'NEW_ACCTS_IN_LAST_SIX_MONTHS', 'DELINQUENT_ACCTS_IN_LAST_SIX_MONTHS',\n",
       "       'AVERAGE_ACCT_AGE', 'CREDIT_HISTORY_LENGTH', 'NO_OF_INQUIRIES',\n",
       "       'Loan_Default'],\n",
       "      dtype='object')"
      ]
     },
     "execution_count": 16,
     "metadata": {},
     "output_type": "execute_result"
    }
   ],
   "source": [
    "data.columns"
   ]
  },
  {
   "cell_type": "code",
   "execution_count": 17,
   "id": "0375dad2",
   "metadata": {},
   "outputs": [],
   "source": [
    "import seaborn as sns\n",
    "import matplotlib as plt\n",
    "%matplotlib inline"
   ]
  },
  {
   "cell_type": "code",
   "execution_count": 18,
   "id": "42d45951",
   "metadata": {},
   "outputs": [
    {
     "data": {
      "text/plain": [
       "<AxesSubplot:>"
      ]
     },
     "execution_count": 18,
     "metadata": {},
     "output_type": "execute_result"
    },
    {
     "data": {
      "image/png": "[encoded data removed]",
      "text/plain": [
       "<Figure size 432x288 with 1 Axes>"
      ]
     },
     "metadata": {
      "needs_background": "light"
     },
     "output_type": "display_data"
    }
   ],
   "source": [
    "data['Loan_Default'].value_counts().plot(kind='bar')"
   ]
  },
  {
   "cell_type": "code",
   "execution_count": 19,
   "id": "4e1210e6",
   "metadata": {},
   "outputs": [
    {
     "data": {
      "text/plain": [
       "<AxesSubplot:xlabel='Loan_Default', ylabel='Density'>"
      ]
     },
     "execution_count": 19,
     "metadata": {},
     "output_type": "execute_result"
    },
    {
     "data": {
      "image/png": "[encoded data removed]",
      "text/plain": [
       "<Figure size 432x288 with 1 Axes>"
      ]
     },
     "metadata": {
      "needs_background": "light"
     },
     "output_type": "display_data"
    }
   ],
   "source": [
    "sns.distplot(data.Loan_Default.value_counts())"
   ]
  },
  {
   "cell_type": "code",
   "execution_count": 20,
   "id": "dcb0d74b",
   "metadata": {},
   "outputs": [
    {
     "data": {
      "text/plain": [
       "Index(['Unique_ID', 'Disbursed_Amount', 'Asset_Cost', 'ltv', 'Branch_ID',\n",
       "       'Supplier_ID', 'Manufacturer_ID', 'Current_Pincode_ID', 'Date_Of_Birth',\n",
       "       'Employment_Type', 'Disbursal_Date', 'State_ID', 'Employee_Code_ID',\n",
       "       'MobileNo_Avl_Flag', 'Aadhar_Flag', 'PAN_Flag', 'VoterID_Flag',\n",
       "       'Driving_Flag', 'Passport_Flag', 'Perform_CNS_Score',\n",
       "       'Perform_CNS_Score_Description', 'PRI_NO_OF_ACCTS', 'PRI_ACTIVE_ACCTS',\n",
       "       'PRI_OVERDUE_ACCTS', 'PRI_CURRENT_BALANCE', 'PRI_SANCTIONED_AMOUNT',\n",
       "       'PRI_DISBURSED_AMOUNT', 'SEC_NO_OF_ACCTS', 'SEC_ACTIVE_ACCTS',\n",
       "       'SEC_OVERDUE_ACCTS', 'SEC_CURRENT_BALANCE', 'SEC_SANCTIONED_AMOUNT',\n",
       "       'SEC_DISBURSED_AMOUNT', 'PRIMARY_INSTAL_AMT', 'SEC_INSTAL_AMT',\n",
       "       'NEW_ACCTS_IN_LAST_SIX_MONTHS', 'DELINQUENT_ACCTS_IN_LAST_SIX_MONTHS',\n",
       "       'AVERAGE_ACCT_AGE', 'CREDIT_HISTORY_LENGTH', 'NO_OF_INQUIRIES',\n",
       "       'Loan_Default'],\n",
       "      dtype='object')"
      ]
     },
     "execution_count": 20,
     "metadata": {},
     "output_type": "execute_result"
    }
   ],
   "source": [
    "data.columns"
   ]
  },
  {
   "cell_type": "code",
   "execution_count": 21,
   "id": "77d62a4e-9aa3-423b-b882-40ceecbf7d61",
   "metadata": {},
   "outputs": [],
   "source": [
    "from sklearn.preprocessing import LabelEncoder"
   ]
  },
  {
   "cell_type": "code",
   "execution_count": 22,
   "id": "f7d79177-46f7-4874-b3a5-f99c84366398",
   "metadata": {},
   "outputs": [],
   "source": [
    "Le = LabelEncoder()\n",
    "\n",
    "data['Branch_ID'] = Le.fit_transform(data['Branch_ID'])\n",
    "\n",
    "data['Supplier_ID'] = Le.fit_transform(data['Supplier_ID'])\n",
    "\n",
    "data['Manufacturer_ID'] = Le.fit_transform(data['Manufacturer_ID'])\n",
    "\n",
    "data['Current_Pincode_ID'] = Le.fit_transform(data['Current_Pincode_ID'])\n",
    "\n",
    "data['State_ID'] = Le.fit_transform(data['State_ID'])"
   ]
  },
  {
   "cell_type": "code",
   "execution_count": 23,
   "id": "f63dc2eb-4fe4-4788-9705-6004a72840a0",
   "metadata": {},
   "outputs": [
    {
     "data": {
      "text/html": [
       "<div>\n",
       "<style scoped>\n",
       "    .dataframe tbody tr th:only-of-type {\n",
       "        vertical-align: middle;\n",
       "    }\n",
       "\n",
       "    .dataframe tbody tr th {\n",
       "        vertical-align: top;\n",
       "    }\n",
       "\n",
       "    .dataframe thead th {\n",
       "        text-align: right;\n",
       "    }\n",
       "</style>\n",
       "<table border=\"1\" class=\"dataframe\">\n",
       "  <thead>\n",
       "    <tr style=\"text-align: right;\">\n",
       "      <th></th>\n",
       "      <th>Unique_ID</th>\n",
       "      <th>Disbursed_Amount</th>\n",
       "      <th>Asset_Cost</th>\n",
       "      <th>ltv</th>\n",
       "      <th>Branch_ID</th>\n",
       "      <th>Supplier_ID</th>\n",
       "      <th>Manufacturer_ID</th>\n",
       "      <th>Current_Pincode_ID</th>\n",
       "      <th>Date_Of_Birth</th>\n",
       "      <th>Employment_Type</th>\n",
       "      <th>...</th>\n",
       "      <th>SEC_SANCTIONED_AMOUNT</th>\n",
       "      <th>SEC_DISBURSED_AMOUNT</th>\n",
       "      <th>PRIMARY_INSTAL_AMT</th>\n",
       "      <th>SEC_INSTAL_AMT</th>\n",
       "      <th>NEW_ACCTS_IN_LAST_SIX_MONTHS</th>\n",
       "      <th>DELINQUENT_ACCTS_IN_LAST_SIX_MONTHS</th>\n",
       "      <th>AVERAGE_ACCT_AGE</th>\n",
       "      <th>CREDIT_HISTORY_LENGTH</th>\n",
       "      <th>NO_OF_INQUIRIES</th>\n",
       "      <th>Loan_Default</th>\n",
       "    </tr>\n",
       "  </thead>\n",
       "  <tbody>\n",
       "    <tr>\n",
       "      <th>0</th>\n",
       "      <td>420825</td>\n",
       "      <td>50578</td>\n",
       "      <td>58400</td>\n",
       "      <td>89.55</td>\n",
       "      <td>30</td>\n",
       "      <td>1415</td>\n",
       "      <td>0</td>\n",
       "      <td>1339</td>\n",
       "      <td>1984-01-01</td>\n",
       "      <td>Salaried</td>\n",
       "      <td>...</td>\n",
       "      <td>0</td>\n",
       "      <td>0</td>\n",
       "      <td>0</td>\n",
       "      <td>0</td>\n",
       "      <td>0</td>\n",
       "      <td>0</td>\n",
       "      <td>0yrs 0mon</td>\n",
       "      <td>0yrs 0mon</td>\n",
       "      <td>0</td>\n",
       "      <td>0</td>\n",
       "    </tr>\n",
       "    <tr>\n",
       "      <th>1</th>\n",
       "      <td>417566</td>\n",
       "      <td>53278</td>\n",
       "      <td>61360</td>\n",
       "      <td>89.63</td>\n",
       "      <td>30</td>\n",
       "      <td>1415</td>\n",
       "      <td>0</td>\n",
       "      <td>1392</td>\n",
       "      <td>1985-08-24</td>\n",
       "      <td>Self employed</td>\n",
       "      <td>...</td>\n",
       "      <td>0</td>\n",
       "      <td>0</td>\n",
       "      <td>0</td>\n",
       "      <td>0</td>\n",
       "      <td>0</td>\n",
       "      <td>0</td>\n",
       "      <td>0yrs 0mon</td>\n",
       "      <td>0yrs 0mon</td>\n",
       "      <td>0</td>\n",
       "      <td>0</td>\n",
       "    </tr>\n",
       "    <tr>\n",
       "      <th>2</th>\n",
       "      <td>539055</td>\n",
       "      <td>52378</td>\n",
       "      <td>60300</td>\n",
       "      <td>88.39</td>\n",
       "      <td>30</td>\n",
       "      <td>1415</td>\n",
       "      <td>0</td>\n",
       "      <td>1391</td>\n",
       "      <td>1977-12-09</td>\n",
       "      <td>Self employed</td>\n",
       "      <td>...</td>\n",
       "      <td>0</td>\n",
       "      <td>0</td>\n",
       "      <td>0</td>\n",
       "      <td>0</td>\n",
       "      <td>0</td>\n",
       "      <td>0</td>\n",
       "      <td>0yrs 0mon</td>\n",
       "      <td>0yrs 0mon</td>\n",
       "      <td>1</td>\n",
       "      <td>1</td>\n",
       "    </tr>\n",
       "    <tr>\n",
       "      <th>3</th>\n",
       "      <td>529269</td>\n",
       "      <td>46349</td>\n",
       "      <td>61500</td>\n",
       "      <td>76.42</td>\n",
       "      <td>30</td>\n",
       "      <td>1415</td>\n",
       "      <td>0</td>\n",
       "      <td>1397</td>\n",
       "      <td>1988-06-01</td>\n",
       "      <td>Salaried</td>\n",
       "      <td>...</td>\n",
       "      <td>0</td>\n",
       "      <td>0</td>\n",
       "      <td>0</td>\n",
       "      <td>0</td>\n",
       "      <td>0</td>\n",
       "      <td>0</td>\n",
       "      <td>0yrs 0mon</td>\n",
       "      <td>0yrs 0mon</td>\n",
       "      <td>0</td>\n",
       "      <td>0</td>\n",
       "    </tr>\n",
       "    <tr>\n",
       "      <th>4</th>\n",
       "      <td>563215</td>\n",
       "      <td>43594</td>\n",
       "      <td>78256</td>\n",
       "      <td>57.50</td>\n",
       "      <td>30</td>\n",
       "      <td>1378</td>\n",
       "      <td>5</td>\n",
       "      <td>1394</td>\n",
       "      <td>1994-07-14</td>\n",
       "      <td>Self employed</td>\n",
       "      <td>...</td>\n",
       "      <td>0</td>\n",
       "      <td>0</td>\n",
       "      <td>0</td>\n",
       "      <td>0</td>\n",
       "      <td>0</td>\n",
       "      <td>0</td>\n",
       "      <td>0yrs 0mon</td>\n",
       "      <td>0yrs 0mon</td>\n",
       "      <td>0</td>\n",
       "      <td>0</td>\n",
       "    </tr>\n",
       "    <tr>\n",
       "      <th>...</th>\n",
       "      <td>...</td>\n",
       "      <td>...</td>\n",
       "      <td>...</td>\n",
       "      <td>...</td>\n",
       "      <td>...</td>\n",
       "      <td>...</td>\n",
       "      <td>...</td>\n",
       "      <td>...</td>\n",
       "      <td>...</td>\n",
       "      <td>...</td>\n",
       "      <td>...</td>\n",
       "      <td>...</td>\n",
       "      <td>...</td>\n",
       "      <td>...</td>\n",
       "      <td>...</td>\n",
       "      <td>...</td>\n",
       "      <td>...</td>\n",
       "      <td>...</td>\n",
       "      <td>...</td>\n",
       "      <td>...</td>\n",
       "      <td>...</td>\n",
       "    </tr>\n",
       "    <tr>\n",
       "      <th>233149</th>\n",
       "      <td>561031</td>\n",
       "      <td>57759</td>\n",
       "      <td>76350</td>\n",
       "      <td>77.28</td>\n",
       "      <td>3</td>\n",
       "      <td>1237</td>\n",
       "      <td>3</td>\n",
       "      <td>2876</td>\n",
       "      <td>1981-11-10</td>\n",
       "      <td>Self employed</td>\n",
       "      <td>...</td>\n",
       "      <td>0</td>\n",
       "      <td>0</td>\n",
       "      <td>0</td>\n",
       "      <td>0</td>\n",
       "      <td>0</td>\n",
       "      <td>0</td>\n",
       "      <td>2yrs 4mon</td>\n",
       "      <td>2yrs 4mon</td>\n",
       "      <td>0</td>\n",
       "      <td>0</td>\n",
       "    </tr>\n",
       "    <tr>\n",
       "      <th>233150</th>\n",
       "      <td>649600</td>\n",
       "      <td>55009</td>\n",
       "      <td>71200</td>\n",
       "      <td>78.72</td>\n",
       "      <td>57</td>\n",
       "      <td>606</td>\n",
       "      <td>3</td>\n",
       "      <td>2935</td>\n",
       "      <td>1992-10-15</td>\n",
       "      <td>Self employed</td>\n",
       "      <td>...</td>\n",
       "      <td>0</td>\n",
       "      <td>0</td>\n",
       "      <td>15209</td>\n",
       "      <td>0</td>\n",
       "      <td>0</td>\n",
       "      <td>0</td>\n",
       "      <td>1yrs 5mon</td>\n",
       "      <td>1yrs 5mon</td>\n",
       "      <td>1</td>\n",
       "      <td>0</td>\n",
       "    </tr>\n",
       "    <tr>\n",
       "      <th>233151</th>\n",
       "      <td>603445</td>\n",
       "      <td>58513</td>\n",
       "      <td>68000</td>\n",
       "      <td>88.24</td>\n",
       "      <td>55</td>\n",
       "      <td>1775</td>\n",
       "      <td>0</td>\n",
       "      <td>1688</td>\n",
       "      <td>1981-12-19</td>\n",
       "      <td>Self employed</td>\n",
       "      <td>...</td>\n",
       "      <td>0</td>\n",
       "      <td>0</td>\n",
       "      <td>257948</td>\n",
       "      <td>0</td>\n",
       "      <td>35</td>\n",
       "      <td>5</td>\n",
       "      <td>0yrs 9mon</td>\n",
       "      <td>3yrs 10mon</td>\n",
       "      <td>1</td>\n",
       "      <td>0</td>\n",
       "    </tr>\n",
       "    <tr>\n",
       "      <th>233152</th>\n",
       "      <td>442948</td>\n",
       "      <td>22824</td>\n",
       "      <td>40458</td>\n",
       "      <td>61.79</td>\n",
       "      <td>65</td>\n",
       "      <td>387</td>\n",
       "      <td>1</td>\n",
       "      <td>95</td>\n",
       "      <td>1989-07-31</td>\n",
       "      <td>Self employed</td>\n",
       "      <td>...</td>\n",
       "      <td>0</td>\n",
       "      <td>0</td>\n",
       "      <td>26046</td>\n",
       "      <td>0</td>\n",
       "      <td>9</td>\n",
       "      <td>1</td>\n",
       "      <td>1yrs 2mon</td>\n",
       "      <td>3yrs 2mon</td>\n",
       "      <td>0</td>\n",
       "      <td>0</td>\n",
       "    </tr>\n",
       "    <tr>\n",
       "      <th>233153</th>\n",
       "      <td>545300</td>\n",
       "      <td>35299</td>\n",
       "      <td>72698</td>\n",
       "      <td>52.27</td>\n",
       "      <td>2</td>\n",
       "      <td>133</td>\n",
       "      <td>0</td>\n",
       "      <td>16</td>\n",
       "      <td>1968-08-01</td>\n",
       "      <td>Self employed</td>\n",
       "      <td>...</td>\n",
       "      <td>0</td>\n",
       "      <td>0</td>\n",
       "      <td>293886</td>\n",
       "      <td>0</td>\n",
       "      <td>5</td>\n",
       "      <td>0</td>\n",
       "      <td>2yrs 11mon</td>\n",
       "      <td>5yrs 4mon</td>\n",
       "      <td>0</td>\n",
       "      <td>0</td>\n",
       "    </tr>\n",
       "  </tbody>\n",
       "</table>\n",
       "<p>233154 rows × 41 columns</p>\n",
       "</div>"
      ],
      "text/plain": [
       "        Unique_ID  Disbursed_Amount  Asset_Cost    ltv  Branch_ID  \\\n",
       "0          420825             50578       58400  89.55         30   \n",
       "1          417566             53278       61360  89.63         30   \n",
       "2          539055             52378       60300  88.39         30   \n",
       "3          529269             46349       61500  76.42         30   \n",
       "4          563215             43594       78256  57.50         30   \n",
       "...           ...               ...         ...    ...        ...   \n",
       "233149     561031             57759       76350  77.28          3   \n",
       "233150     649600             55009       71200  78.72         57   \n",
       "233151     603445             58513       68000  88.24         55   \n",
       "233152     442948             22824       40458  61.79         65   \n",
       "233153     545300             35299       72698  52.27          2   \n",
       "\n",
       "        Supplier_ID  Manufacturer_ID  Current_Pincode_ID Date_Of_Birth  \\\n",
       "0              1415                0                1339    1984-01-01   \n",
       "1              1415                0                1392    1985-08-24   \n",
       "2              1415                0                1391    1977-12-09   \n",
       "3              1415                0                1397    1988-06-01   \n",
       "4              1378                5                1394    1994-07-14   \n",
       "...             ...              ...                 ...           ...   \n",
       "233149         1237                3                2876    1981-11-10   \n",
       "233150          606                3                2935    1992-10-15   \n",
       "233151         1775                0                1688    1981-12-19   \n",
       "233152          387                1                  95    1989-07-31   \n",
       "233153          133                0                  16    1968-08-01   \n",
       "\n",
       "       Employment_Type  ... SEC_SANCTIONED_AMOUNT  SEC_DISBURSED_AMOUNT  \\\n",
       "0             Salaried  ...                     0                     0   \n",
       "1        Self employed  ...                     0                     0   \n",
       "2        Self employed  ...                     0                     0   \n",
       "3             Salaried  ...                     0                     0   \n",
       "4        Self employed  ...                     0                     0   \n",
       "...                ...  ...                   ...                   ...   \n",
       "233149   Self employed  ...                     0                     0   \n",
       "233150   Self employed  ...                     0                     0   \n",
       "233151   Self employed  ...                     0                     0   \n",
       "233152   Self employed  ...                     0                     0   \n",
       "233153   Self employed  ...                     0                     0   \n",
       "\n",
       "        PRIMARY_INSTAL_AMT  SEC_INSTAL_AMT  NEW_ACCTS_IN_LAST_SIX_MONTHS  \\\n",
       "0                        0               0                             0   \n",
       "1                        0               0                             0   \n",
       "2                        0               0                             0   \n",
       "3                        0               0                             0   \n",
       "4                        0               0                             0   \n",
       "...                    ...             ...                           ...   \n",
       "233149                   0               0                             0   \n",
       "233150               15209               0                             0   \n",
       "233151              257948               0                            35   \n",
       "233152               26046               0                             9   \n",
       "233153              293886               0                             5   \n",
       "\n",
       "        DELINQUENT_ACCTS_IN_LAST_SIX_MONTHS  AVERAGE_ACCT_AGE  \\\n",
       "0                                         0         0yrs 0mon   \n",
       "1                                         0         0yrs 0mon   \n",
       "2                                         0         0yrs 0mon   \n",
       "3                                         0         0yrs 0mon   \n",
       "4                                         0         0yrs 0mon   \n",
       "...                                     ...               ...   \n",
       "233149                                    0         2yrs 4mon   \n",
       "233150                                    0         1yrs 5mon   \n",
       "233151                                    5         0yrs 9mon   \n",
       "233152                                    1         1yrs 2mon   \n",
       "233153                                    0        2yrs 11mon   \n",
       "\n",
       "        CREDIT_HISTORY_LENGTH  NO_OF_INQUIRIES  Loan_Default  \n",
       "0                   0yrs 0mon                0             0  \n",
       "1                   0yrs 0mon                0             0  \n",
       "2                   0yrs 0mon                1             1  \n",
       "3                   0yrs 0mon                0             0  \n",
       "4                   0yrs 0mon                0             0  \n",
       "...                       ...              ...           ...  \n",
       "233149              2yrs 4mon                0             0  \n",
       "233150              1yrs 5mon                1             0  \n",
       "233151             3yrs 10mon                1             0  \n",
       "233152              3yrs 2mon                0             0  \n",
       "233153              5yrs 4mon                0             0  \n",
       "\n",
       "[233154 rows x 41 columns]"
      ]
     },
     "execution_count": 23,
     "metadata": {},
     "output_type": "execute_result"
    }
   ],
   "source": [
    "data"
   ]
  },
  {
   "cell_type": "code",
   "execution_count": 24,
   "id": "544c777d-6760-47b0-be02-f9e550cc4427",
   "metadata": {},
   "outputs": [],
   "source": [
    "x = (data.Branch_ID, data.Supplier_ID, data.Manufacturer_ID, data.Current_Pincode_ID, data.State_ID)\n",
    "\n",
    "y = (data.Loan_Default)"
   ]
  },
  {
   "cell_type": "code",
   "execution_count": 25,
   "id": "21d60a5d-159e-4975-81e5-ef8209267b9b",
   "metadata": {},
   "outputs": [
    {
     "data": {
      "text/plain": [
       "<AxesSubplot:ylabel='Density'>"
      ]
     },
     "execution_count": 25,
     "metadata": {},
     "output_type": "execute_result"
    },
    {
     "data": {
      "image/png": "[encoded data removed]",
      "text/plain": [
       "<Figure size 432x288 with 1 Axes>"
      ]
     },
     "metadata": {
      "needs_background": "light"
     },
     "output_type": "display_data"
    }
   ],
   "source": [
    "sns.distplot(x)"
   ]
  },
  {
   "cell_type": "code",
   "execution_count": 26,
   "id": "5a94f662-515d-4437-8fe1-75879ba920a9",
   "metadata": {},
   "outputs": [
    {
     "data": {
      "text/plain": [
       "<seaborn.axisgrid.FacetGrid at 0x7f82c71b9fd0>"
      ]
     },
     "execution_count": 26,
     "metadata": {},
     "output_type": "execute_result"
    },
    {
     "data": {
      "image/png": "[encoded data removed]",
      "text/plain": [
       "<Figure size 360x360 with 1 Axes>"
      ]
     },
     "metadata": {
      "needs_background": "light"
     },
     "output_type": "display_data"
    }
   ],
   "source": [
    "sns.displot(x=data.Supplier_ID, y=data.Loan_Default)"
   ]
  },
  {
   "cell_type": "code",
   "execution_count": 27,
   "id": "3bcf61d2-72bc-4701-aa11-ac1bf93a05e0",
   "metadata": {},
   "outputs": [
    {
     "data": {
      "text/plain": [
       "<AxesSubplot:xlabel='Manufacturer_ID', ylabel='Loan_Default'>"
      ]
     },
     "execution_count": 27,
     "metadata": {},
     "output_type": "execute_result"
    },
    {
     "data": {
      "image/png": "[encoded data removed]",
      "text/plain": [
       "<Figure size 432x288 with 1 Axes>"
      ]
     },
     "metadata": {
      "needs_background": "light"
     },
     "output_type": "display_data"
    }
   ],
   "source": [
    "sns.barplot(x=data.Manufacturer_ID, y=data.Loan_Default)"
   ]
  },
  {
   "cell_type": "code",
   "execution_count": 28,
   "id": "e631acff-5ee2-48fb-91f5-ff94081e48d7",
   "metadata": {},
   "outputs": [
    {
     "data": {
      "text/plain": [
       "<AxesSubplot:xlabel='Current_Pincode_ID', ylabel='Loan_Default'>"
      ]
     },
     "execution_count": 28,
     "metadata": {},
     "output_type": "execute_result"
    },
    {
     "data": {
      "image/png": "[encoded data removed]",
      "text/plain": [
       "<Figure size 432x288 with 1 Axes>"
      ]
     },
     "metadata": {
      "needs_background": "light"
     },
     "output_type": "display_data"
    }
   ],
   "source": [
    "sns.histplot(x=data.Current_Pincode_ID, y=data.Loan_Default)"
   ]
  },
  {
   "cell_type": "code",
   "execution_count": 29,
   "id": "8024aa99-51b9-4b01-a07d-7b45c3087eb0",
   "metadata": {},
   "outputs": [
    {
     "data": {
      "image/png": "[encoded data removed]",
      "text/plain": [
       "<Figure size 432x288 with 1 Axes>"
      ]
     },
     "metadata": {
      "needs_background": "light"
     },
     "output_type": "display_data"
    }
   ],
   "source": [
    "sns.countplot(data['State_ID']);"
   ]
  },
  {
   "cell_type": "markdown",
   "id": "a485a1ce-ee58-481f-af9f-4bfcfc28b15f",
   "metadata": {
    "tags": []
   },
   "source": [
    "#### What are the different employment types given in the data? Can a strategy be developed to fill in the missing values (if any)? \n"
   ]
  },
  {
   "cell_type": "code",
   "execution_count": 30,
   "id": "88528845-40de-4234-bfb8-f23afbd8f333",
   "metadata": {},
   "outputs": [
    {
     "data": {
      "text/plain": [
       "array(['Salaried', 'Self employed'], dtype=object)"
      ]
     },
     "execution_count": 30,
     "metadata": {},
     "output_type": "execute_result"
    }
   ],
   "source": [
    "data['Employment_Type'].unique()"
   ]
  },
  {
   "cell_type": "code",
   "execution_count": 31,
   "id": "aa590db4-4b53-47f7-b601-f73081ddc5b1",
   "metadata": {},
   "outputs": [
    {
     "data": {
      "text/plain": [
       "False"
      ]
     },
     "execution_count": 31,
     "metadata": {},
     "output_type": "execute_result"
    }
   ],
   "source": [
    "data['Employment_Type'].isna().any()"
   ]
  },
  {
   "cell_type": "markdown",
   "id": "d02dc5a5-f2c4-434d-a393-bed10b7697e3",
   "metadata": {
    "tags": []
   },
   "source": [
    "#### Missing values already treated above with mode"
   ]
  },
  {
   "cell_type": "markdown",
   "id": "f0670239-8339-4723-93ca-c6ec1bcb10dc",
   "metadata": {},
   "source": [
    "### Use pie charts to express how different types of employment defines defaulter and non-defaulters."
   ]
  },
  {
   "cell_type": "code",
   "execution_count": 32,
   "id": "895eb712-29ce-4581-b534-e3f4e29cdf4b",
   "metadata": {},
   "outputs": [
    {
     "data": {
      "text/plain": [
       "Employment_Type  Loan_Default\n",
       "Salaried         0                77948\n",
       "                 1                19910\n",
       "Self employed    0               104595\n",
       "                 1                30701\n",
       "Name: Loan_Default, dtype: int64"
      ]
     },
     "execution_count": 32,
     "metadata": {},
     "output_type": "execute_result"
    }
   ],
   "source": [
    "data['Loan_Default'].groupby(data['Employment_Type']).value_counts()"
   ]
  },
  {
   "cell_type": "code",
   "execution_count": 33,
   "id": "269059c5-8b4d-43d3-b8ea-9f785deb306e",
   "metadata": {},
   "outputs": [
    {
     "data": {
      "image/png": "[encoded data removed]",
      "text/plain": [
       "<Figure size 432x288 with 1 Axes>"
      ]
     },
     "metadata": {},
     "output_type": "display_data"
    }
   ],
   "source": [
    "data['Loan_Default'].groupby(data['Employment_Type']).value_counts().plot(kind='pie',autopct='%.0f%%');"
   ]
  },
  {
   "cell_type": "code",
   "execution_count": 34,
   "id": "0d2dd44a-e624-4c54-933b-7c8704fecd55",
   "metadata": {},
   "outputs": [
    {
     "data": {
      "text/html": [
       "<div>\n",
       "<style scoped>\n",
       "    .dataframe tbody tr th:only-of-type {\n",
       "        vertical-align: middle;\n",
       "    }\n",
       "\n",
       "    .dataframe tbody tr th {\n",
       "        vertical-align: top;\n",
       "    }\n",
       "\n",
       "    .dataframe thead th {\n",
       "        text-align: right;\n",
       "    }\n",
       "</style>\n",
       "<table border=\"1\" class=\"dataframe\">\n",
       "  <thead>\n",
       "    <tr style=\"text-align: right;\">\n",
       "      <th></th>\n",
       "      <th>Unique_ID</th>\n",
       "      <th>Disbursed_Amount</th>\n",
       "      <th>Asset_Cost</th>\n",
       "      <th>ltv</th>\n",
       "      <th>Branch_ID</th>\n",
       "      <th>Supplier_ID</th>\n",
       "      <th>Manufacturer_ID</th>\n",
       "      <th>Current_Pincode_ID</th>\n",
       "      <th>Date_Of_Birth</th>\n",
       "      <th>Employment_Type</th>\n",
       "      <th>...</th>\n",
       "      <th>SEC_SANCTIONED_AMOUNT</th>\n",
       "      <th>SEC_DISBURSED_AMOUNT</th>\n",
       "      <th>PRIMARY_INSTAL_AMT</th>\n",
       "      <th>SEC_INSTAL_AMT</th>\n",
       "      <th>NEW_ACCTS_IN_LAST_SIX_MONTHS</th>\n",
       "      <th>DELINQUENT_ACCTS_IN_LAST_SIX_MONTHS</th>\n",
       "      <th>AVERAGE_ACCT_AGE</th>\n",
       "      <th>CREDIT_HISTORY_LENGTH</th>\n",
       "      <th>NO_OF_INQUIRIES</th>\n",
       "      <th>Loan_Default</th>\n",
       "    </tr>\n",
       "  </thead>\n",
       "  <tbody>\n",
       "    <tr>\n",
       "      <th>0</th>\n",
       "      <td>420825</td>\n",
       "      <td>50578</td>\n",
       "      <td>58400</td>\n",
       "      <td>89.55</td>\n",
       "      <td>30</td>\n",
       "      <td>1415</td>\n",
       "      <td>0</td>\n",
       "      <td>1339</td>\n",
       "      <td>1984-01-01</td>\n",
       "      <td>Salaried</td>\n",
       "      <td>...</td>\n",
       "      <td>0</td>\n",
       "      <td>0</td>\n",
       "      <td>0</td>\n",
       "      <td>0</td>\n",
       "      <td>0</td>\n",
       "      <td>0</td>\n",
       "      <td>0yrs 0mon</td>\n",
       "      <td>0yrs 0mon</td>\n",
       "      <td>0</td>\n",
       "      <td>0</td>\n",
       "    </tr>\n",
       "  </tbody>\n",
       "</table>\n",
       "<p>1 rows × 41 columns</p>\n",
       "</div>"
      ],
      "text/plain": [
       "   Unique_ID  Disbursed_Amount  Asset_Cost    ltv  Branch_ID  Supplier_ID  \\\n",
       "0     420825             50578       58400  89.55         30         1415   \n",
       "\n",
       "   Manufacturer_ID  Current_Pincode_ID Date_Of_Birth Employment_Type  ...  \\\n",
       "0                0                1339    1984-01-01        Salaried  ...   \n",
       "\n",
       "  SEC_SANCTIONED_AMOUNT  SEC_DISBURSED_AMOUNT  PRIMARY_INSTAL_AMT  \\\n",
       "0                     0                     0                   0   \n",
       "\n",
       "   SEC_INSTAL_AMT  NEW_ACCTS_IN_LAST_SIX_MONTHS  \\\n",
       "0               0                             0   \n",
       "\n",
       "   DELINQUENT_ACCTS_IN_LAST_SIX_MONTHS  AVERAGE_ACCT_AGE  \\\n",
       "0                                    0         0yrs 0mon   \n",
       "\n",
       "   CREDIT_HISTORY_LENGTH  NO_OF_INQUIRIES  Loan_Default  \n",
       "0              0yrs 0mon                0             0  \n",
       "\n",
       "[1 rows x 41 columns]"
      ]
     },
     "execution_count": 34,
     "metadata": {},
     "output_type": "execute_result"
    }
   ],
   "source": [
    "data.head(1)"
   ]
  },
  {
   "cell_type": "code",
   "execution_count": 35,
   "id": "0d35e22c-82f1-4755-b850-c54c2d6785a2",
   "metadata": {},
   "outputs": [
    {
     "name": "stdout",
     "output_type": "stream",
     "text": [
      "<class 'pandas.core.frame.DataFrame'>\n",
      "RangeIndex: 233154 entries, 0 to 233153\n",
      "Data columns (total 41 columns):\n",
      " #   Column                               Non-Null Count   Dtype         \n",
      "---  ------                               --------------   -----         \n",
      " 0   Unique_ID                            233154 non-null  int64         \n",
      " 1   Disbursed_Amount                     233154 non-null  int64         \n",
      " 2   Asset_Cost                           233154 non-null  int64         \n",
      " 3   ltv                                  233154 non-null  float64       \n",
      " 4   Branch_ID                            233154 non-null  int64         \n",
      " 5   Supplier_ID                          233154 non-null  int64         \n",
      " 6   Manufacturer_ID                      233154 non-null  int64         \n",
      " 7   Current_Pincode_ID                   233154 non-null  int64         \n",
      " 8   Date_Of_Birth                        233154 non-null  datetime64[ns]\n",
      " 9   Employment_Type                      233154 non-null  object        \n",
      " 10  Disbursal_Date                       233154 non-null  datetime64[ns]\n",
      " 11  State_ID                             233154 non-null  int64         \n",
      " 12  Employee_Code_ID                     233154 non-null  int64         \n",
      " 13  MobileNo_Avl_Flag                    233154 non-null  int64         \n",
      " 14  Aadhar_Flag                          233154 non-null  int64         \n",
      " 15  PAN_Flag                             233154 non-null  int64         \n",
      " 16  VoterID_Flag                         233154 non-null  int64         \n",
      " 17  Driving_Flag                         233154 non-null  int64         \n",
      " 18  Passport_Flag                        233154 non-null  int64         \n",
      " 19  Perform_CNS_Score                    233154 non-null  int64         \n",
      " 20  Perform_CNS_Score_Description        233154 non-null  object        \n",
      " 21  PRI_NO_OF_ACCTS                      233154 non-null  int64         \n",
      " 22  PRI_ACTIVE_ACCTS                     233154 non-null  int64         \n",
      " 23  PRI_OVERDUE_ACCTS                    233154 non-null  int64         \n",
      " 24  PRI_CURRENT_BALANCE                  233154 non-null  int64         \n",
      " 25  PRI_SANCTIONED_AMOUNT                233154 non-null  int64         \n",
      " 26  PRI_DISBURSED_AMOUNT                 233154 non-null  int64         \n",
      " 27  SEC_NO_OF_ACCTS                      233154 non-null  int64         \n",
      " 28  SEC_ACTIVE_ACCTS                     233154 non-null  int64         \n",
      " 29  SEC_OVERDUE_ACCTS                    233154 non-null  int64         \n",
      " 30  SEC_CURRENT_BALANCE                  233154 non-null  int64         \n",
      " 31  SEC_SANCTIONED_AMOUNT                233154 non-null  int64         \n",
      " 32  SEC_DISBURSED_AMOUNT                 233154 non-null  int64         \n",
      " 33  PRIMARY_INSTAL_AMT                   233154 non-null  int64         \n",
      " 34  SEC_INSTAL_AMT                       233154 non-null  int64         \n",
      " 35  NEW_ACCTS_IN_LAST_SIX_MONTHS         233154 non-null  int64         \n",
      " 36  DELINQUENT_ACCTS_IN_LAST_SIX_MONTHS  233154 non-null  int64         \n",
      " 37  AVERAGE_ACCT_AGE                     233154 non-null  object        \n",
      " 38  CREDIT_HISTORY_LENGTH                233154 non-null  object        \n",
      " 39  NO_OF_INQUIRIES                      233154 non-null  int64         \n",
      " 40  Loan_Default                         233154 non-null  int64         \n",
      "dtypes: datetime64[ns](2), float64(1), int64(34), object(4)\n",
      "memory usage: 72.9+ MB\n"
     ]
    }
   ],
   "source": [
    "data.info()"
   ]
  },
  {
   "cell_type": "code",
   "execution_count": 36,
   "id": "7ad007d1-0d56-4589-822e-e628165e2e59",
   "metadata": {},
   "outputs": [
    {
     "data": {
      "text/plain": [
       "dtype('<M8[ns]')"
      ]
     },
     "execution_count": 36,
     "metadata": {},
     "output_type": "execute_result"
    }
   ],
   "source": [
    "data['Date_Of_Birth'].dtype"
   ]
  },
  {
   "cell_type": "markdown",
   "id": "5618c680-e213-4d97-92a1-ef0ffac27f43",
   "metadata": {
    "tags": []
   },
   "source": [
    "#### Converting Date_of_birth to Age"
   ]
  },
  {
   "cell_type": "code",
   "execution_count": 37,
   "id": "feae05ae-f80d-4f75-8a21-3926459a1aae",
   "metadata": {},
   "outputs": [],
   "source": [
    "now = pd.Timestamp('now')\n",
    "\n",
    "data['Date_Of_Birth'] = pd.to_datetime(data['Date_Of_Birth'], format='%d-%m-%y')\n",
    "\n",
    "data['Date_Of_Birth'] = data['Date_Of_Birth'].where(data['Date_Of_Birth'] < now, data['Date_Of_Birth'] - np.timedelta64(100,'Y'))\n",
    "\n",
    "data['Age'] = (now - data['Date_Of_Birth']).astype('<m8[Y]')"
   ]
  },
  {
   "cell_type": "code",
   "execution_count": 38,
   "id": "09013717-0ec1-4202-b3f9-9fec717dda26",
   "metadata": {},
   "outputs": [
    {
     "data": {
      "text/html": [
       "<div>\n",
       "<style scoped>\n",
       "    .dataframe tbody tr th:only-of-type {\n",
       "        vertical-align: middle;\n",
       "    }\n",
       "\n",
       "    .dataframe tbody tr th {\n",
       "        vertical-align: top;\n",
       "    }\n",
       "\n",
       "    .dataframe thead th {\n",
       "        text-align: right;\n",
       "    }\n",
       "</style>\n",
       "<table border=\"1\" class=\"dataframe\">\n",
       "  <thead>\n",
       "    <tr style=\"text-align: right;\">\n",
       "      <th></th>\n",
       "      <th>Unique_ID</th>\n",
       "      <th>Disbursed_Amount</th>\n",
       "      <th>Asset_Cost</th>\n",
       "      <th>ltv</th>\n",
       "      <th>Branch_ID</th>\n",
       "      <th>Supplier_ID</th>\n",
       "      <th>Manufacturer_ID</th>\n",
       "      <th>Current_Pincode_ID</th>\n",
       "      <th>Date_Of_Birth</th>\n",
       "      <th>Employment_Type</th>\n",
       "      <th>...</th>\n",
       "      <th>SEC_DISBURSED_AMOUNT</th>\n",
       "      <th>PRIMARY_INSTAL_AMT</th>\n",
       "      <th>SEC_INSTAL_AMT</th>\n",
       "      <th>NEW_ACCTS_IN_LAST_SIX_MONTHS</th>\n",
       "      <th>DELINQUENT_ACCTS_IN_LAST_SIX_MONTHS</th>\n",
       "      <th>AVERAGE_ACCT_AGE</th>\n",
       "      <th>CREDIT_HISTORY_LENGTH</th>\n",
       "      <th>NO_OF_INQUIRIES</th>\n",
       "      <th>Loan_Default</th>\n",
       "      <th>Age</th>\n",
       "    </tr>\n",
       "  </thead>\n",
       "  <tbody>\n",
       "    <tr>\n",
       "      <th>0</th>\n",
       "      <td>420825</td>\n",
       "      <td>50578</td>\n",
       "      <td>58400</td>\n",
       "      <td>89.55</td>\n",
       "      <td>30</td>\n",
       "      <td>1415</td>\n",
       "      <td>0</td>\n",
       "      <td>1339</td>\n",
       "      <td>1984-01-01</td>\n",
       "      <td>Salaried</td>\n",
       "      <td>...</td>\n",
       "      <td>0</td>\n",
       "      <td>0</td>\n",
       "      <td>0</td>\n",
       "      <td>0</td>\n",
       "      <td>0</td>\n",
       "      <td>0yrs 0mon</td>\n",
       "      <td>0yrs 0mon</td>\n",
       "      <td>0</td>\n",
       "      <td>0</td>\n",
       "      <td>38.0</td>\n",
       "    </tr>\n",
       "    <tr>\n",
       "      <th>1</th>\n",
       "      <td>417566</td>\n",
       "      <td>53278</td>\n",
       "      <td>61360</td>\n",
       "      <td>89.63</td>\n",
       "      <td>30</td>\n",
       "      <td>1415</td>\n",
       "      <td>0</td>\n",
       "      <td>1392</td>\n",
       "      <td>1985-08-24</td>\n",
       "      <td>Self employed</td>\n",
       "      <td>...</td>\n",
       "      <td>0</td>\n",
       "      <td>0</td>\n",
       "      <td>0</td>\n",
       "      <td>0</td>\n",
       "      <td>0</td>\n",
       "      <td>0yrs 0mon</td>\n",
       "      <td>0yrs 0mon</td>\n",
       "      <td>0</td>\n",
       "      <td>0</td>\n",
       "      <td>36.0</td>\n",
       "    </tr>\n",
       "  </tbody>\n",
       "</table>\n",
       "<p>2 rows × 42 columns</p>\n",
       "</div>"
      ],
      "text/plain": [
       "   Unique_ID  Disbursed_Amount  Asset_Cost    ltv  Branch_ID  Supplier_ID  \\\n",
       "0     420825             50578       58400  89.55         30         1415   \n",
       "1     417566             53278       61360  89.63         30         1415   \n",
       "\n",
       "   Manufacturer_ID  Current_Pincode_ID Date_Of_Birth Employment_Type  ...  \\\n",
       "0                0                1339    1984-01-01        Salaried  ...   \n",
       "1                0                1392    1985-08-24   Self employed  ...   \n",
       "\n",
       "  SEC_DISBURSED_AMOUNT  PRIMARY_INSTAL_AMT  SEC_INSTAL_AMT  \\\n",
       "0                    0                   0               0   \n",
       "1                    0                   0               0   \n",
       "\n",
       "   NEW_ACCTS_IN_LAST_SIX_MONTHS  DELINQUENT_ACCTS_IN_LAST_SIX_MONTHS  \\\n",
       "0                             0                                    0   \n",
       "1                             0                                    0   \n",
       "\n",
       "   AVERAGE_ACCT_AGE  CREDIT_HISTORY_LENGTH  NO_OF_INQUIRIES  Loan_Default  \\\n",
       "0         0yrs 0mon              0yrs 0mon                0             0   \n",
       "1         0yrs 0mon              0yrs 0mon                0             0   \n",
       "\n",
       "    Age  \n",
       "0  38.0  \n",
       "1  36.0  \n",
       "\n",
       "[2 rows x 42 columns]"
      ]
     },
     "execution_count": 38,
     "metadata": {},
     "output_type": "execute_result"
    }
   ],
   "source": [
    "data.head(2)"
   ]
  },
  {
   "cell_type": "markdown",
   "id": "5f6f077f-b067-4c69-be76-43b92913163d",
   "metadata": {},
   "source": [
    "#### Has age got anything to do with defaulting? What is the distribution of age w.r.t. to the defaulters and non-defaulters?"
   ]
  },
  {
   "cell_type": "code",
   "execution_count": 39,
   "id": "3a04c74b-e2bb-4ced-b46a-231d4f11e7e4",
   "metadata": {},
   "outputs": [
    {
     "data": {
      "text/plain": [
       "Age   Loan_Default\n",
       "21.0  0                 66\n",
       "      1                 20\n",
       "22.0  0                838\n",
       "      1                285\n",
       "23.0  0               1359\n",
       "                      ... \n",
       "67.0  0                 95\n",
       "      1                 17\n",
       "68.0  0                  5\n",
       "      1                  1\n",
       "72.0  0                  1\n",
       "Name: Loan_Default, Length: 97, dtype: int64"
      ]
     },
     "execution_count": 39,
     "metadata": {},
     "output_type": "execute_result"
    }
   ],
   "source": [
    "data['Loan_Default'].groupby(data['Age']).value_counts()"
   ]
  },
  {
   "cell_type": "code",
   "execution_count": 40,
   "id": "9b5cc800-e576-45e7-a626-8f752a66e6ab",
   "metadata": {},
   "outputs": [
    {
     "data": {
      "image/png": "[encoded data removed]",
      "text/plain": [
       "<Figure size 432x288 with 1 Axes>"
      ]
     },
     "metadata": {
      "needs_background": "light"
     },
     "output_type": "display_data"
    }
   ],
   "source": [
    "data['Loan_Default'].groupby(data['Age']).value_counts().plot(kind='hist');"
   ]
  },
  {
   "cell_type": "code",
   "execution_count": 41,
   "id": "17e57502-e8cc-44db-843f-a22ec4d71e2d",
   "metadata": {},
   "outputs": [
    {
     "data": {
      "image/png": "[encoded data removed]",
      "text/plain": [
       "<Figure size 432x288 with 1 Axes>"
      ]
     },
     "metadata": {
      "needs_background": "light"
     },
     "output_type": "display_data"
    }
   ],
   "source": [
    "sns.distplot(data['Loan_Default'].groupby(data['Age']).value_counts());"
   ]
  },
  {
   "cell_type": "code",
   "execution_count": 42,
   "id": "87114ee6-ba1f-4de6-92dc-c0b35007746a",
   "metadata": {},
   "outputs": [
    {
     "data": {
      "image/png": "[encoded data removed]",
      "text/plain": [
       "<Figure size 432x288 with 1 Axes>"
      ]
     },
     "metadata": {
      "needs_background": "light"
     },
     "output_type": "display_data"
    }
   ],
   "source": [
    "sns.distplot(data['Age']);"
   ]
  },
  {
   "cell_type": "code",
   "execution_count": 43,
   "id": "4c987f8f-7a90-44db-a820-19b168c3eebe",
   "metadata": {},
   "outputs": [
    {
     "data": {
      "text/html": [
       "<div>\n",
       "<style scoped>\n",
       "    .dataframe tbody tr th:only-of-type {\n",
       "        vertical-align: middle;\n",
       "    }\n",
       "\n",
       "    .dataframe tbody tr th {\n",
       "        vertical-align: top;\n",
       "    }\n",
       "\n",
       "    .dataframe thead th {\n",
       "        text-align: right;\n",
       "    }\n",
       "</style>\n",
       "<table border=\"1\" class=\"dataframe\">\n",
       "  <thead>\n",
       "    <tr style=\"text-align: right;\">\n",
       "      <th></th>\n",
       "      <th>Loan_Default</th>\n",
       "      <th>Age</th>\n",
       "    </tr>\n",
       "  </thead>\n",
       "  <tbody>\n",
       "    <tr>\n",
       "      <th>Loan_Default</th>\n",
       "      <td>1.000000</td>\n",
       "      <td>-0.036306</td>\n",
       "    </tr>\n",
       "    <tr>\n",
       "      <th>Age</th>\n",
       "      <td>-0.036306</td>\n",
       "      <td>1.000000</td>\n",
       "    </tr>\n",
       "  </tbody>\n",
       "</table>\n",
       "</div>"
      ],
      "text/plain": [
       "              Loan_Default       Age\n",
       "Loan_Default      1.000000 -0.036306\n",
       "Age              -0.036306  1.000000"
      ]
     },
     "execution_count": 43,
     "metadata": {},
     "output_type": "execute_result"
    }
   ],
   "source": [
    "data[[\"Loan_Default\", \"Age\"]].corr()"
   ]
  },
  {
   "cell_type": "code",
   "execution_count": 44,
   "id": "48f9938c-a457-4943-8973-508cbd4024f5",
   "metadata": {},
   "outputs": [
    {
     "data": {
      "text/plain": [
       "<AxesSubplot:xlabel='Age', ylabel='Loan_Default'>"
      ]
     },
     "execution_count": 44,
     "metadata": {},
     "output_type": "execute_result"
    },
    {
     "data": {
      "image/png": "[encoded data removed]",
      "text/plain": [
       "<Figure size 432x288 with 1 Axes>"
      ]
     },
     "metadata": {
      "needs_background": "light"
     },
     "output_type": "display_data"
    }
   ],
   "source": [
    "sns.regplot(x=data['Age'], y=data['Loan_Default']) "
   ]
  },
  {
   "cell_type": "markdown",
   "id": "dc21c323-c6d2-47a3-84ea-09abd6bc49e6",
   "metadata": {},
   "source": [
    "#### What type of ID was presented by most of the customers for proof?"
   ]
  },
  {
   "cell_type": "code",
   "execution_count": 45,
   "id": "00c19a3a-e0ff-46e3-b54d-7521736da60d",
   "metadata": {},
   "outputs": [
    {
     "data": {
      "text/plain": [
       "Index(['Unique_ID', 'Disbursed_Amount', 'Asset_Cost', 'ltv', 'Branch_ID',\n",
       "       'Supplier_ID', 'Manufacturer_ID', 'Current_Pincode_ID', 'Date_Of_Birth',\n",
       "       'Employment_Type', 'Disbursal_Date', 'State_ID', 'Employee_Code_ID',\n",
       "       'MobileNo_Avl_Flag', 'Aadhar_Flag', 'PAN_Flag', 'VoterID_Flag',\n",
       "       'Driving_Flag', 'Passport_Flag', 'Perform_CNS_Score',\n",
       "       'Perform_CNS_Score_Description', 'PRI_NO_OF_ACCTS', 'PRI_ACTIVE_ACCTS',\n",
       "       'PRI_OVERDUE_ACCTS', 'PRI_CURRENT_BALANCE', 'PRI_SANCTIONED_AMOUNT',\n",
       "       'PRI_DISBURSED_AMOUNT', 'SEC_NO_OF_ACCTS', 'SEC_ACTIVE_ACCTS',\n",
       "       'SEC_OVERDUE_ACCTS', 'SEC_CURRENT_BALANCE', 'SEC_SANCTIONED_AMOUNT',\n",
       "       'SEC_DISBURSED_AMOUNT', 'PRIMARY_INSTAL_AMT', 'SEC_INSTAL_AMT',\n",
       "       'NEW_ACCTS_IN_LAST_SIX_MONTHS', 'DELINQUENT_ACCTS_IN_LAST_SIX_MONTHS',\n",
       "       'AVERAGE_ACCT_AGE', 'CREDIT_HISTORY_LENGTH', 'NO_OF_INQUIRIES',\n",
       "       'Loan_Default', 'Age'],\n",
       "      dtype='object')"
      ]
     },
     "execution_count": 45,
     "metadata": {},
     "output_type": "execute_result"
    }
   ],
   "source": [
    "data.columns"
   ]
  },
  {
   "cell_type": "code",
   "execution_count": 46,
   "id": "55c16da4-b808-4ede-abe8-6beb67c08106",
   "metadata": {},
   "outputs": [
    {
     "name": "stdout",
     "output_type": "stream",
     "text": [
      "1    195924\n",
      "0     37230\n",
      "Name: Aadhar_Flag, dtype: int64\n",
      "0    215533\n",
      "1     17621\n",
      "Name: PAN_Flag, dtype: int64\n",
      "0    199360\n",
      "1     33794\n",
      "Name: VoterID_Flag, dtype: int64\n",
      "0    227735\n",
      "1      5419\n",
      "Name: Driving_Flag, dtype: int64\n",
      "0    232658\n",
      "1       496\n",
      "Name: Passport_Flag, dtype: int64\n"
     ]
    }
   ],
   "source": [
    "print(data['Aadhar_Flag'].value_counts())\n",
    "\n",
    "print(data['PAN_Flag'].value_counts())\n",
    "\n",
    "print(data['VoterID_Flag'].value_counts())\n",
    "\n",
    "print(data['Driving_Flag'].value_counts())\n",
    "\n",
    "print(data['Passport_Flag'].value_counts())"
   ]
  },
  {
   "cell_type": "code",
   "execution_count": 47,
   "id": "f808aaaf-f1f7-4ba1-8b17-a1d4ffec2241",
   "metadata": {},
   "outputs": [
    {
     "data": {
      "text/plain": [
       "<AxesSubplot:>"
      ]
     },
     "execution_count": 47,
     "metadata": {},
     "output_type": "execute_result"
    },
    {
     "data": {
      "image/png": "[encoded data removed]",
      "text/plain": [
       "<Figure size 432x288 with 1 Axes>"
      ]
     },
     "metadata": {
      "needs_background": "light"
     },
     "output_type": "display_data"
    }
   ],
   "source": [
    "data['Aadhar_Flag'].value_counts().plot(kind='bar')"
   ]
  },
  {
   "cell_type": "code",
   "execution_count": 48,
   "id": "9bd6f0b6-c25f-4ead-82ea-e108c321858e",
   "metadata": {},
   "outputs": [
    {
     "data": {
      "text/plain": [
       "<AxesSubplot:>"
      ]
     },
     "execution_count": 48,
     "metadata": {},
     "output_type": "execute_result"
    },
    {
     "data": {
      "image/png": "[encoded data removed]",
      "text/plain": [
       "<Figure size 432x288 with 1 Axes>"
      ]
     },
     "metadata": {
      "needs_background": "light"
     },
     "output_type": "display_data"
    }
   ],
   "source": [
    "data['PAN_Flag'].value_counts().plot(kind='bar')"
   ]
  },
  {
   "cell_type": "code",
   "execution_count": 49,
   "id": "e408cd7d-e622-4fe0-a9fd-dd73ae6e4c33",
   "metadata": {},
   "outputs": [
    {
     "data": {
      "text/plain": [
       "<AxesSubplot:>"
      ]
     },
     "execution_count": 49,
     "metadata": {},
     "output_type": "execute_result"
    },
    {
     "data": {
      "image/png": "[encoded data removed]",
      "text/plain": [
       "<Figure size 432x288 with 1 Axes>"
      ]
     },
     "metadata": {
      "needs_background": "light"
     },
     "output_type": "display_data"
    }
   ],
   "source": [
    "data['VoterID_Flag'].value_counts().plot(kind='bar')"
   ]
  },
  {
   "cell_type": "code",
   "execution_count": 50,
   "id": "ef00920e-5af9-4d97-9b61-4ba9894dd6e5",
   "metadata": {},
   "outputs": [
    {
     "data": {
      "text/plain": [
       "<AxesSubplot:>"
      ]
     },
     "execution_count": 50,
     "metadata": {},
     "output_type": "execute_result"
    },
    {
     "data": {
      "image/png": "[encoded data removed]",
      "text/plain": [
       "<Figure size 432x288 with 1 Axes>"
      ]
     },
     "metadata": {
      "needs_background": "light"
     },
     "output_type": "display_data"
    }
   ],
   "source": [
    "data['Driving_Flag'].value_counts().plot(kind='bar')"
   ]
  },
  {
   "cell_type": "code",
   "execution_count": 51,
   "id": "4ad4185c-a4d0-4ead-b574-a851000c241e",
   "metadata": {},
   "outputs": [
    {
     "data": {
      "text/plain": [
       "<AxesSubplot:>"
      ]
     },
     "execution_count": 51,
     "metadata": {},
     "output_type": "execute_result"
    },
    {
     "data": {
      "image/png": "[encoded data removed]",
      "text/plain": [
       "<Figure size 432x288 with 1 Axes>"
      ]
     },
     "metadata": {
      "needs_background": "light"
     },
     "output_type": "display_data"
    }
   ],
   "source": [
    "data['Passport_Flag'].value_counts().plot(kind='bar')"
   ]
  },
  {
   "cell_type": "markdown",
   "id": "38cee39b-fad6-44f5-a76a-ab40828d5e9b",
   "metadata": {},
   "source": [
    "### Adhar was presented by most of the customers for proof "
   ]
  },
  {
   "cell_type": "markdown",
   "id": "d83cdbd7-1918-41be-a6e8-366cd187f8ef",
   "metadata": {
    "tags": []
   },
   "source": [
    "#### Project Task: Week 2\n",
    "\n",
    "Performing EDA and Modeling:\n"
   ]
  },
  {
   "cell_type": "markdown",
   "id": "01b90004-a62b-41fb-9525-01c9aa21c938",
   "metadata": {},
   "source": [
    "#### Study the credit bureau score distribution. Compare the distribution for defaulters vs. non-defaulters. Explore in detail."
   ]
  },
  {
   "cell_type": "code",
   "execution_count": 52,
   "id": "5715b0b5-dca6-49f7-b494-3e5b24260375",
   "metadata": {},
   "outputs": [
    {
     "data": {
      "text/plain": [
       "0      116950\n",
       "300      8776\n",
       "738      8662\n",
       "825      7393\n",
       "15       3765\n",
       "        ...  \n",
       "863         1\n",
       "847         1\n",
       "867         1\n",
       "834         1\n",
       "884         1\n",
       "Name: Perform_CNS_Score, Length: 573, dtype: int64"
      ]
     },
     "execution_count": 52,
     "metadata": {},
     "output_type": "execute_result"
    }
   ],
   "source": [
    "data['Perform_CNS_Score'].value_counts()"
   ]
  },
  {
   "cell_type": "code",
   "execution_count": 53,
   "id": "3ae9c4ff-0f6b-4c89-b903-8132f4d4284c",
   "metadata": {},
   "outputs": [
    {
     "data": {
      "text/plain": [
       "<AxesSubplot:ylabel='Frequency'>"
      ]
     },
     "execution_count": 53,
     "metadata": {},
     "output_type": "execute_result"
    },
    {
     "data": {
      "image/png": "[encoded data removed]",
      "text/plain": [
       "<Figure size 432x288 with 1 Axes>"
      ]
     },
     "metadata": {
      "needs_background": "light"
     },
     "output_type": "display_data"
    }
   ],
   "source": [
    "data['Perform_CNS_Score'].plot(kind='hist')"
   ]
  },
  {
   "cell_type": "code",
   "execution_count": 54,
   "id": "59a60dd2-c3b0-4f96-a874-5b39c806bc23",
   "metadata": {},
   "outputs": [
    {
     "data": {
      "text/plain": [
       "<AxesSubplot:xlabel='Perform_CNS_Score', ylabel='Density'>"
      ]
     },
     "execution_count": 54,
     "metadata": {},
     "output_type": "execute_result"
    },
    {
     "data": {
      "image/png": "[encoded data removed]",
      "text/plain": [
       "<Figure size 432x288 with 1 Axes>"
      ]
     },
     "metadata": {
      "needs_background": "light"
     },
     "output_type": "display_data"
    }
   ],
   "source": [
    "sns.distplot(data['Perform_CNS_Score'])"
   ]
  },
  {
   "cell_type": "code",
   "execution_count": 55,
   "id": "bb4864a6-3b80-4ee0-ba81-f8ef60308ce8",
   "metadata": {},
   "outputs": [
    {
     "data": {
      "text/plain": [
       "array(['No Bureau History Available', 'No Bureau History Available',\n",
       "       'No Bureau History Available', ...,\n",
       "       'Not Scored: More than 50 active Accounts found',\n",
       "       'Not Scored: More than 50 active Accounts found',\n",
       "       'Not Scored: More than 50 active Accounts found'], dtype=object)"
      ]
     },
     "execution_count": 55,
     "metadata": {},
     "output_type": "execute_result"
    }
   ],
   "source": [
    "data['Perform_CNS_Score_Description'].values"
   ]
  },
  {
   "cell_type": "code",
   "execution_count": 56,
   "id": "ef33ca53-8950-4d4b-ad28-369d2f1fa553",
   "metadata": {},
   "outputs": [
    {
     "data": {
      "text/plain": [
       "No Bureau History Available                                116950\n",
       "C-Very Low Risk                                             16045\n",
       "A-Very Low Risk                                             14124\n",
       "D-Very Low Risk                                             11358\n",
       "B-Very Low Risk                                              9201\n",
       "M-Very High Risk                                             8776\n",
       "F-Low Risk                                                   8485\n",
       "K-High Risk                                                  8277\n",
       "H-Medium Risk                                                6855\n",
       "E-Low Risk                                                   5821\n",
       "I-Medium Risk                                                5557\n",
       "G-Low Risk                                                   3988\n",
       "Not Scored: Sufficient History Not Available                 3765\n",
       "J-High Risk                                                  3748\n",
       "Not Scored: Not Enough Info available on the customer        3672\n",
       "Not Scored: No Activity seen on the customer (Inactive)      2885\n",
       "Not Scored: No Updates available in last 36 months           1534\n",
       "L-Very High Risk                                             1134\n",
       "Not Scored: Only a Guarantor                                  976\n",
       "Not Scored: More than 50 active Accounts found                  3\n",
       "Name: Perform_CNS_Score_Description, dtype: int64"
      ]
     },
     "execution_count": 56,
     "metadata": {},
     "output_type": "execute_result"
    }
   ],
   "source": [
    "data['Perform_CNS_Score_Description'].value_counts()"
   ]
  },
  {
   "cell_type": "code",
   "execution_count": 57,
   "id": "02566514-947d-47b9-8e77-927fa13984a3",
   "metadata": {},
   "outputs": [
    {
     "data": {
      "text/plain": [
       "<AxesSubplot:xlabel='Perform_CNS_Score_Description', ylabel='Density'>"
      ]
     },
     "execution_count": 57,
     "metadata": {},
     "output_type": "execute_result"
    },
    {
     "data": {
      "image/png": "[encoded data removed]",
      "text/plain": [
       "<Figure size 432x288 with 1 Axes>"
      ]
     },
     "metadata": {
      "needs_background": "light"
     },
     "output_type": "display_data"
    }
   ],
   "source": [
    "sns.distplot(data['Perform_CNS_Score_Description'].value_counts())"
   ]
  },
  {
   "cell_type": "code",
   "execution_count": 58,
   "id": "7da1a588-a0b3-453e-ba76-062f2c28ad98",
   "metadata": {},
   "outputs": [
    {
     "data": {
      "text/plain": [
       "<AxesSubplot:xlabel='Perform_CNS_Score', ylabel='Density'>"
      ]
     },
     "execution_count": 58,
     "metadata": {},
     "output_type": "execute_result"
    },
    {
     "data": {
      "image/png": "[encoded data removed]",
      "text/plain": [
       "<Figure size 432x288 with 1 Axes>"
      ]
     },
     "metadata": {
      "needs_background": "light"
     },
     "output_type": "display_data"
    }
   ],
   "source": [
    "sns.distplot(data['Perform_CNS_Score'].value_counts())"
   ]
  },
  {
   "cell_type": "code",
   "execution_count": 59,
   "id": "f7cc16a4-3f1a-43ac-a029-1fa89b0cc652",
   "metadata": {},
   "outputs": [
    {
     "data": {
      "text/plain": [
       "0    182543\n",
       "1     50611\n",
       "Name: Loan_Default, dtype: int64"
      ]
     },
     "execution_count": 59,
     "metadata": {},
     "output_type": "execute_result"
    }
   ],
   "source": [
    "data['Loan_Default'].value_counts()"
   ]
  },
  {
   "cell_type": "code",
   "execution_count": 60,
   "id": "7eea8c81-34dd-499c-9893-7d27cee4de60",
   "metadata": {},
   "outputs": [
    {
     "data": {
      "text/plain": [
       "<AxesSubplot:xlabel='Perform_CNS_Score', ylabel='Density'>"
      ]
     },
     "execution_count": 60,
     "metadata": {},
     "output_type": "execute_result"
    },
    {
     "data": {
      "image/png": "[encoded data removed]",
      "text/plain": [
       "<Figure size 432x288 with 1 Axes>"
      ]
     },
     "metadata": {
      "needs_background": "light"
     },
     "output_type": "display_data"
    }
   ],
   "source": [
    "sns.distplot(data[data['Loan_Default']==0]['Perform_CNS_Score'],color='r',label=0)"
   ]
  },
  {
   "cell_type": "code",
   "execution_count": 61,
   "id": "6bf32ab6-4620-4e66-a05b-6fe07da5c909",
   "metadata": {},
   "outputs": [
    {
     "data": {
      "text/plain": [
       "<AxesSubplot:xlabel='Perform_CNS_Score', ylabel='Density'>"
      ]
     },
     "execution_count": 61,
     "metadata": {},
     "output_type": "execute_result"
    },
    {
     "data": {
      "image/png": "[encoded data removed]",
      "text/plain": [
       "<Figure size 432x288 with 1 Axes>"
      ]
     },
     "metadata": {
      "needs_background": "light"
     },
     "output_type": "display_data"
    }
   ],
   "source": [
    "sns.distplot(data[data['Loan_Default']==1]['Perform_CNS_Score'],color='r',label=0)"
   ]
  },
  {
   "cell_type": "code",
   "execution_count": 62,
   "id": "5a2adaa0-498c-4107-820d-b564833de377",
   "metadata": {},
   "outputs": [
    {
     "data": {
      "text/plain": [
       "<AxesSubplot:xlabel='Perform_CNS_Score', ylabel='Density'>"
      ]
     },
     "execution_count": 62,
     "metadata": {},
     "output_type": "execute_result"
    },
    {
     "data": {
      "image/png": "[encoded data removed]",
      "text/plain": [
       "<Figure size 432x288 with 1 Axes>"
      ]
     },
     "metadata": {
      "needs_background": "light"
     },
     "output_type": "display_data"
    }
   ],
   "source": [
    "sns.distplot(data[data['Loan_Default']==0]['Perform_CNS_Score'],color='g',label=0)\n",
    "sns.distplot(data[data['Loan_Default']==1]['Perform_CNS_Score'],color='r',label=1)"
   ]
  },
  {
   "cell_type": "markdown",
   "id": "90f6dc94-da27-4ae1-acd6-58b8cb2854dd",
   "metadata": {},
   "source": [
    "### CNS score is lower for defaulter as compared to non - defaulters"
   ]
  },
  {
   "cell_type": "markdown",
   "id": "ad845c18-8f23-4daf-93b7-20a11f06d21c",
   "metadata": {},
   "source": [
    "#### Explore the primary and secondary account details. Is the information in some way related to the loan default probability?"
   ]
  },
  {
   "cell_type": "code",
   "execution_count": 63,
   "id": "58c171a2-dcfd-4402-925c-06b09320990d",
   "metadata": {},
   "outputs": [
    {
     "data": {
      "text/plain": [
       "array([  0,   0,   0, ...,  68,  72, 194])"
      ]
     },
     "execution_count": 63,
     "metadata": {},
     "output_type": "execute_result"
    }
   ],
   "source": [
    "data['PRI_NO_OF_ACCTS'].values"
   ]
  },
  {
   "cell_type": "code",
   "execution_count": 64,
   "id": "b7e03929-4ba0-492c-876f-42cfb8983de4",
   "metadata": {},
   "outputs": [
    {
     "data": {
      "text/html": [
       "<div>\n",
       "<style scoped>\n",
       "    .dataframe tbody tr th:only-of-type {\n",
       "        vertical-align: middle;\n",
       "    }\n",
       "\n",
       "    .dataframe tbody tr th {\n",
       "        vertical-align: top;\n",
       "    }\n",
       "\n",
       "    .dataframe thead th {\n",
       "        text-align: right;\n",
       "    }\n",
       "</style>\n",
       "<table border=\"1\" class=\"dataframe\">\n",
       "  <thead>\n",
       "    <tr style=\"text-align: right;\">\n",
       "      <th></th>\n",
       "      <th>Loan_Default</th>\n",
       "      <th>PRI_NO_OF_ACCTS</th>\n",
       "    </tr>\n",
       "  </thead>\n",
       "  <tbody>\n",
       "    <tr>\n",
       "      <th>Loan_Default</th>\n",
       "      <td>1.000000</td>\n",
       "      <td>-0.035456</td>\n",
       "    </tr>\n",
       "    <tr>\n",
       "      <th>PRI_NO_OF_ACCTS</th>\n",
       "      <td>-0.035456</td>\n",
       "      <td>1.000000</td>\n",
       "    </tr>\n",
       "  </tbody>\n",
       "</table>\n",
       "</div>"
      ],
      "text/plain": [
       "                 Loan_Default  PRI_NO_OF_ACCTS\n",
       "Loan_Default         1.000000        -0.035456\n",
       "PRI_NO_OF_ACCTS     -0.035456         1.000000"
      ]
     },
     "execution_count": 64,
     "metadata": {},
     "output_type": "execute_result"
    }
   ],
   "source": [
    "data[['Loan_Default','PRI_NO_OF_ACCTS']].corr()"
   ]
  },
  {
   "cell_type": "code",
   "execution_count": 65,
   "id": "2bdc1e6d-bc42-4188-8013-d8bbc0e6ff2f",
   "metadata": {},
   "outputs": [
    {
     "data": {
      "text/plain": [
       "<AxesSubplot:xlabel='PRI_NO_OF_ACCTS', ylabel='Loan_Default'>"
      ]
     },
     "execution_count": 65,
     "metadata": {},
     "output_type": "execute_result"
    },
    {
     "data": {
      "image/png": "[encoded data removed]",
      "text/plain": [
       "<Figure size 432x288 with 1 Axes>"
      ]
     },
     "metadata": {
      "needs_background": "light"
     },
     "output_type": "display_data"
    }
   ],
   "source": [
    "sns.regplot(y=data['Loan_Default'], x=data['PRI_NO_OF_ACCTS'])"
   ]
  },
  {
   "cell_type": "code",
   "execution_count": 66,
   "id": "c3836fd8-b05c-4d7d-b19a-2ea03589aa35",
   "metadata": {},
   "outputs": [
    {
     "data": {
      "text/html": [
       "<div>\n",
       "<style scoped>\n",
       "    .dataframe tbody tr th:only-of-type {\n",
       "        vertical-align: middle;\n",
       "    }\n",
       "\n",
       "    .dataframe tbody tr th {\n",
       "        vertical-align: top;\n",
       "    }\n",
       "\n",
       "    .dataframe thead th {\n",
       "        text-align: right;\n",
       "    }\n",
       "</style>\n",
       "<table border=\"1\" class=\"dataframe\">\n",
       "  <thead>\n",
       "    <tr style=\"text-align: right;\">\n",
       "      <th></th>\n",
       "      <th>Loan_Default</th>\n",
       "      <th>SEC_NO_OF_ACCTS</th>\n",
       "    </tr>\n",
       "  </thead>\n",
       "  <tbody>\n",
       "    <tr>\n",
       "      <th>Loan_Default</th>\n",
       "      <td>1.000000</td>\n",
       "      <td>-0.008385</td>\n",
       "    </tr>\n",
       "    <tr>\n",
       "      <th>SEC_NO_OF_ACCTS</th>\n",
       "      <td>-0.008385</td>\n",
       "      <td>1.000000</td>\n",
       "    </tr>\n",
       "  </tbody>\n",
       "</table>\n",
       "</div>"
      ],
      "text/plain": [
       "                 Loan_Default  SEC_NO_OF_ACCTS\n",
       "Loan_Default         1.000000        -0.008385\n",
       "SEC_NO_OF_ACCTS     -0.008385         1.000000"
      ]
     },
     "execution_count": 66,
     "metadata": {},
     "output_type": "execute_result"
    }
   ],
   "source": [
    "data[['Loan_Default','SEC_NO_OF_ACCTS']].corr()"
   ]
  },
  {
   "cell_type": "code",
   "execution_count": 67,
   "id": "b571b0df-026b-4dec-b8a1-9cb1be088134",
   "metadata": {},
   "outputs": [
    {
     "data": {
      "text/plain": [
       "<AxesSubplot:xlabel='SEC_NO_OF_ACCTS', ylabel='Loan_Default'>"
      ]
     },
     "execution_count": 67,
     "metadata": {},
     "output_type": "execute_result"
    },
    {
     "data": {
      "image/png": "[encoded data removed]",
      "text/plain": [
       "<Figure size 432x288 with 1 Axes>"
      ]
     },
     "metadata": {
      "needs_background": "light"
     },
     "output_type": "display_data"
    }
   ],
   "source": [
    "sns.regplot(x=data['SEC_NO_OF_ACCTS'], y=data['Loan_Default']) "
   ]
  },
  {
   "cell_type": "code",
   "execution_count": 68,
   "id": "de859b4d-afe1-4fd1-a058-a198ce47d359",
   "metadata": {},
   "outputs": [
    {
     "data": {
      "text/html": [
       "<div>\n",
       "<style scoped>\n",
       "    .dataframe tbody tr th:only-of-type {\n",
       "        vertical-align: middle;\n",
       "    }\n",
       "\n",
       "    .dataframe tbody tr th {\n",
       "        vertical-align: top;\n",
       "    }\n",
       "\n",
       "    .dataframe thead th {\n",
       "        text-align: right;\n",
       "    }\n",
       "</style>\n",
       "<table border=\"1\" class=\"dataframe\">\n",
       "  <thead>\n",
       "    <tr style=\"text-align: right;\">\n",
       "      <th></th>\n",
       "      <th>PRI_NO_OF_ACCTS</th>\n",
       "      <th>SEC_NO_OF_ACCTS</th>\n",
       "    </tr>\n",
       "  </thead>\n",
       "  <tbody>\n",
       "    <tr>\n",
       "      <th>PRI_NO_OF_ACCTS</th>\n",
       "      <td>1.000000</td>\n",
       "      <td>0.056434</td>\n",
       "    </tr>\n",
       "    <tr>\n",
       "      <th>SEC_NO_OF_ACCTS</th>\n",
       "      <td>0.056434</td>\n",
       "      <td>1.000000</td>\n",
       "    </tr>\n",
       "  </tbody>\n",
       "</table>\n",
       "</div>"
      ],
      "text/plain": [
       "                 PRI_NO_OF_ACCTS  SEC_NO_OF_ACCTS\n",
       "PRI_NO_OF_ACCTS         1.000000         0.056434\n",
       "SEC_NO_OF_ACCTS         0.056434         1.000000"
      ]
     },
     "execution_count": 68,
     "metadata": {},
     "output_type": "execute_result"
    }
   ],
   "source": [
    "data[['PRI_NO_OF_ACCTS','SEC_NO_OF_ACCTS']].corr()"
   ]
  },
  {
   "cell_type": "code",
   "execution_count": 69,
   "id": "127fea32-de42-474f-bbce-68be979a8b73",
   "metadata": {},
   "outputs": [
    {
     "data": {
      "text/plain": [
       "<AxesSubplot:xlabel='PRI_NO_OF_ACCTS', ylabel='SEC_NO_OF_ACCTS'>"
      ]
     },
     "execution_count": 69,
     "metadata": {},
     "output_type": "execute_result"
    },
    {
     "data": {
      "image/png": "[encoded data removed]",
      "text/plain": [
       "<Figure size 432x288 with 1 Axes>"
      ]
     },
     "metadata": {
      "needs_background": "light"
     },
     "output_type": "display_data"
    }
   ],
   "source": [
    "sns.regplot(x=data['PRI_NO_OF_ACCTS'], y=data['SEC_NO_OF_ACCTS'])"
   ]
  },
  {
   "cell_type": "markdown",
   "id": "8a7854b4-5ad3-4540-ba62-227b3cd71b55",
   "metadata": {},
   "source": [
    "#### Is there a difference between the sanctioned and disbursed amount of primary and secondary loans? Study the difference by providing appropriate statistics and graphs."
   ]
  },
  {
   "cell_type": "code",
   "execution_count": 70,
   "id": "eadfe98a-98e4-4054-a223-7412c6d8d58a",
   "metadata": {},
   "outputs": [
    {
     "data": {
      "text/plain": [
       "count    2.331540e+05\n",
       "mean     2.185039e+05\n",
       "std      2.374794e+06\n",
       "min      0.000000e+00\n",
       "25%      0.000000e+00\n",
       "50%      0.000000e+00\n",
       "75%      6.250000e+04\n",
       "max      1.000000e+09\n",
       "Name: PRI_SANCTIONED_AMOUNT, dtype: float64"
      ]
     },
     "execution_count": 70,
     "metadata": {},
     "output_type": "execute_result"
    }
   ],
   "source": [
    "data['PRI_SANCTIONED_AMOUNT'].describe()"
   ]
  },
  {
   "cell_type": "code",
   "execution_count": 71,
   "id": "dfc26f1b-4207-4876-9da8-183db385c1ce",
   "metadata": {},
   "outputs": [
    {
     "data": {
      "text/plain": [
       "count    2.331540e+05\n",
       "mean     2.180659e+05\n",
       "std      2.377744e+06\n",
       "min      0.000000e+00\n",
       "25%      0.000000e+00\n",
       "50%      0.000000e+00\n",
       "75%      6.080000e+04\n",
       "max      1.000000e+09\n",
       "Name: PRI_DISBURSED_AMOUNT, dtype: float64"
      ]
     },
     "execution_count": 71,
     "metadata": {},
     "output_type": "execute_result"
    }
   ],
   "source": [
    "data['PRI_DISBURSED_AMOUNT'].describe()"
   ]
  },
  {
   "cell_type": "code",
   "execution_count": 72,
   "id": "f7c67e46-270c-445e-a512-00c7f68b99ec",
   "metadata": {},
   "outputs": [
    {
     "data": {
      "text/plain": [
       "323.69721207047974"
      ]
     },
     "execution_count": 72,
     "metadata": {},
     "output_type": "execute_result"
    }
   ],
   "source": [
    "data['PRI_SANCTIONED_AMOUNT'].skew()"
   ]
  },
  {
   "cell_type": "code",
   "execution_count": 73,
   "id": "e3a1ce98-6af7-488f-ae69-cd7abbbeb201",
   "metadata": {},
   "outputs": [
    {
     "data": {
      "text/plain": [
       "322.5414945101688"
      ]
     },
     "execution_count": 73,
     "metadata": {},
     "output_type": "execute_result"
    }
   ],
   "source": [
    "data['PRI_DISBURSED_AMOUNT'].skew()"
   ]
  },
  {
   "cell_type": "code",
   "execution_count": 74,
   "id": "da98d01d-0c58-4b70-8e7e-89d925956f5b",
   "metadata": {},
   "outputs": [
    {
     "data": {
      "text/plain": [
       "count    2.331540e+05\n",
       "mean     7.295923e+03\n",
       "std      1.831560e+05\n",
       "min      0.000000e+00\n",
       "25%      0.000000e+00\n",
       "50%      0.000000e+00\n",
       "75%      0.000000e+00\n",
       "max      3.000000e+07\n",
       "Name: SEC_SANCTIONED_AMOUNT, dtype: float64"
      ]
     },
     "execution_count": 74,
     "metadata": {},
     "output_type": "execute_result"
    }
   ],
   "source": [
    "data['SEC_SANCTIONED_AMOUNT'].describe()"
   ]
  },
  {
   "cell_type": "code",
   "execution_count": 75,
   "id": "a2cccdf4-95df-4366-9518-8fc26ee45b34",
   "metadata": {},
   "outputs": [
    {
     "data": {
      "text/plain": [
       "count    2.331540e+05\n",
       "mean     7.179998e+03\n",
       "std      1.825925e+05\n",
       "min      0.000000e+00\n",
       "25%      0.000000e+00\n",
       "50%      0.000000e+00\n",
       "75%      0.000000e+00\n",
       "max      3.000000e+07\n",
       "Name: SEC_DISBURSED_AMOUNT, dtype: float64"
      ]
     },
     "execution_count": 75,
     "metadata": {},
     "output_type": "execute_result"
    }
   ],
   "source": [
    "data['SEC_DISBURSED_AMOUNT'].describe()"
   ]
  },
  {
   "cell_type": "code",
   "execution_count": 76,
   "id": "de21cd0e-06a1-4f96-8964-43d3b33e60df",
   "metadata": {},
   "outputs": [
    {
     "data": {
      "text/plain": [
       "75.25493196054583"
      ]
     },
     "execution_count": 76,
     "metadata": {},
     "output_type": "execute_result"
    }
   ],
   "source": [
    "data['SEC_SANCTIONED_AMOUNT'].skew()"
   ]
  },
  {
   "cell_type": "code",
   "execution_count": 77,
   "id": "d88ee5e9-4f13-4f53-a658-292e7e449114",
   "metadata": {},
   "outputs": [
    {
     "data": {
      "text/plain": [
       "75.76425191107285"
      ]
     },
     "execution_count": 77,
     "metadata": {},
     "output_type": "execute_result"
    }
   ],
   "source": [
    "data['SEC_DISBURSED_AMOUNT'].skew()"
   ]
  },
  {
   "cell_type": "code",
   "execution_count": 78,
   "id": "07bece5d-5910-48dd-8b3b-a9e26f6ea37b",
   "metadata": {},
   "outputs": [
    {
     "data": {
      "text/plain": [
       "<AxesSubplot:xlabel='PRI_SANCTIONED_AMOUNT'>"
      ]
     },
     "execution_count": 78,
     "metadata": {},
     "output_type": "execute_result"
    },
    {
     "data": {
      "image/png": "[encoded data removed]",
      "text/plain": [
       "<Figure size 432x288 with 1 Axes>"
      ]
     },
     "metadata": {
      "needs_background": "light"
     },
     "output_type": "display_data"
    }
   ],
   "source": [
    "sns.boxplot(data['PRI_SANCTIONED_AMOUNT'])"
   ]
  },
  {
   "cell_type": "code",
   "execution_count": 79,
   "id": "d2395173-04e0-467c-9087-4fe646b3457c",
   "metadata": {},
   "outputs": [
    {
     "data": {
      "text/plain": [
       "<AxesSubplot:xlabel='PRI_DISBURSED_AMOUNT'>"
      ]
     },
     "execution_count": 79,
     "metadata": {},
     "output_type": "execute_result"
    },
    {
     "data": {
      "image/png": "[encoded data removed]",
      "text/plain": [
       "<Figure size 432x288 with 1 Axes>"
      ]
     },
     "metadata": {
      "needs_background": "light"
     },
     "output_type": "display_data"
    }
   ],
   "source": [
    "sns.boxplot(data['PRI_DISBURSED_AMOUNT'])"
   ]
  },
  {
   "cell_type": "code",
   "execution_count": 80,
   "id": "c0a769e0-5737-43ef-b729-1fcdd25af460",
   "metadata": {},
   "outputs": [
    {
     "data": {
      "text/plain": [
       "<AxesSubplot:xlabel='SEC_SANCTIONED_AMOUNT'>"
      ]
     },
     "execution_count": 80,
     "metadata": {},
     "output_type": "execute_result"
    },
    {
     "data": {
      "image/png": "[encoded data removed]",
      "text/plain": [
       "<Figure size 432x288 with 1 Axes>"
      ]
     },
     "metadata": {
      "needs_background": "light"
     },
     "output_type": "display_data"
    }
   ],
   "source": [
    "sns.boxplot(data['SEC_SANCTIONED_AMOUNT'])"
   ]
  },
  {
   "cell_type": "code",
   "execution_count": 81,
   "id": "bd9793f8-578f-41bc-ad7a-3b02a694e41a",
   "metadata": {},
   "outputs": [
    {
     "data": {
      "text/plain": [
       "<AxesSubplot:xlabel='SEC_DISBURSED_AMOUNT'>"
      ]
     },
     "execution_count": 81,
     "metadata": {},
     "output_type": "execute_result"
    },
    {
     "data": {
      "image/png": "[encoded data removed]",
      "text/plain": [
       "<Figure size 432x288 with 1 Axes>"
      ]
     },
     "metadata": {
      "needs_background": "light"
     },
     "output_type": "display_data"
    }
   ],
   "source": [
    "sns.boxplot(data['SEC_DISBURSED_AMOUNT'])"
   ]
  },
  {
   "cell_type": "code",
   "execution_count": 82,
   "id": "ef49083b-2124-411c-bf5e-bf12a416242b",
   "metadata": {},
   "outputs": [
    {
     "data": {
      "text/plain": [
       "<AxesSubplot:>"
      ]
     },
     "execution_count": 82,
     "metadata": {},
     "output_type": "execute_result"
    },
    {
     "data": {
      "image/png": "[encoded data removed]",
      "text/plain": [
       "<Figure size 432x288 with 1 Axes>"
      ]
     },
     "metadata": {
      "needs_background": "light"
     },
     "output_type": "display_data"
    }
   ],
   "source": [
    "sns.barplot(data['SEC_SANCTIONED_AMOUNT'].values)"
   ]
  },
  {
   "cell_type": "code",
   "execution_count": 83,
   "id": "ee769905-14e8-4d28-b43a-208bcaccbdb4",
   "metadata": {},
   "outputs": [
    {
     "data": {
      "text/plain": [
       "<AxesSubplot:>"
      ]
     },
     "execution_count": 83,
     "metadata": {},
     "output_type": "execute_result"
    },
    {
     "data": {
      "image/png": "[encoded data removed]",
      "text/plain": [
       "<Figure size 432x288 with 1 Axes>"
      ]
     },
     "metadata": {
      "needs_background": "light"
     },
     "output_type": "display_data"
    }
   ],
   "source": [
    "sns.barplot(data['SEC_DISBURSED_AMOUNT'].values)"
   ]
  },
  {
   "cell_type": "markdown",
   "id": "0265ca41-483a-40cb-87f4-14a5c355af7b",
   "metadata": {
    "tags": []
   },
   "source": [
    "#### Do customer who make higher number of enquiries end up being higher risk candidates? \n"
   ]
  },
  {
   "cell_type": "code",
   "execution_count": 84,
   "id": "a17a4b70-b036-48c7-9e64-e631ab5f717b",
   "metadata": {},
   "outputs": [
    {
     "data": {
      "text/html": [
       "<div>\n",
       "<style scoped>\n",
       "    .dataframe tbody tr th:only-of-type {\n",
       "        vertical-align: middle;\n",
       "    }\n",
       "\n",
       "    .dataframe tbody tr th {\n",
       "        vertical-align: top;\n",
       "    }\n",
       "\n",
       "    .dataframe thead th {\n",
       "        text-align: right;\n",
       "    }\n",
       "</style>\n",
       "<table border=\"1\" class=\"dataframe\">\n",
       "  <thead>\n",
       "    <tr style=\"text-align: right;\">\n",
       "      <th></th>\n",
       "      <th>Loan_Default</th>\n",
       "      <th>NO_OF_INQUIRIES</th>\n",
       "    </tr>\n",
       "  </thead>\n",
       "  <tbody>\n",
       "    <tr>\n",
       "      <th>Loan_Default</th>\n",
       "      <td>1.000000</td>\n",
       "      <td>0.043678</td>\n",
       "    </tr>\n",
       "    <tr>\n",
       "      <th>NO_OF_INQUIRIES</th>\n",
       "      <td>0.043678</td>\n",
       "      <td>1.000000</td>\n",
       "    </tr>\n",
       "  </tbody>\n",
       "</table>\n",
       "</div>"
      ],
      "text/plain": [
       "                 Loan_Default  NO_OF_INQUIRIES\n",
       "Loan_Default         1.000000         0.043678\n",
       "NO_OF_INQUIRIES      0.043678         1.000000"
      ]
     },
     "execution_count": 84,
     "metadata": {},
     "output_type": "execute_result"
    }
   ],
   "source": [
    "data[['Loan_Default','NO_OF_INQUIRIES']].corr()"
   ]
  },
  {
   "cell_type": "code",
   "execution_count": 85,
   "id": "5f7a03ed-7987-4e08-bf86-825ca6d096a6",
   "metadata": {},
   "outputs": [
    {
     "data": {
      "text/plain": [
       "<AxesSubplot:xlabel='Loan_Default', ylabel='NO_OF_INQUIRIES'>"
      ]
     },
     "execution_count": 85,
     "metadata": {},
     "output_type": "execute_result"
    },
    {
     "data": {
      "image/png": "[encoded data removed]",
      "text/plain": [
       "<Figure size 432x288 with 1 Axes>"
      ]
     },
     "metadata": {
      "needs_background": "light"
     },
     "output_type": "display_data"
    }
   ],
   "source": [
    "sns.regplot(y=data['NO_OF_INQUIRIES'], x=data['Loan_Default'])"
   ]
  },
  {
   "cell_type": "code",
   "execution_count": 86,
   "id": "1e76a81d-65aa-42e9-b0f2-2a8999194aa4",
   "metadata": {},
   "outputs": [
    {
     "data": {
      "text/plain": [
       "0     201961\n",
       "1      22285\n",
       "2       5409\n",
       "3       1767\n",
       "4        760\n",
       "5        343\n",
       "6        239\n",
       "7        135\n",
       "8        105\n",
       "9         44\n",
       "10        34\n",
       "11        15\n",
       "12        14\n",
       "14         8\n",
       "15         7\n",
       "19         6\n",
       "13         6\n",
       "17         4\n",
       "18         4\n",
       "16         3\n",
       "28         1\n",
       "20         1\n",
       "23         1\n",
       "36         1\n",
       "22         1\n",
       "Name: NO_OF_INQUIRIES, dtype: int64"
      ]
     },
     "execution_count": 86,
     "metadata": {},
     "output_type": "execute_result"
    }
   ],
   "source": [
    "data['NO_OF_INQUIRIES'].value_counts()"
   ]
  },
  {
   "cell_type": "code",
   "execution_count": 87,
   "id": "499eade6-52e1-4881-9cc3-f48c0a0de933",
   "metadata": {},
   "outputs": [
    {
     "data": {
      "text/plain": [
       "<AxesSubplot:ylabel='Frequency'>"
      ]
     },
     "execution_count": 87,
     "metadata": {},
     "output_type": "execute_result"
    },
    {
     "data": {
      "image/png": "[encoded data removed]",
      "text/plain": [
       "<Figure size 432x288 with 1 Axes>"
      ]
     },
     "metadata": {
      "needs_background": "light"
     },
     "output_type": "display_data"
    }
   ],
   "source": [
    "data['NO_OF_INQUIRIES'].plot(kind='hist')"
   ]
  },
  {
   "cell_type": "code",
   "execution_count": 88,
   "id": "31820aa3-a19d-46f5-88d6-76a2555ff6c4",
   "metadata": {},
   "outputs": [
    {
     "data": {
      "text/plain": [
       "<AxesSubplot:xlabel='NO_OF_INQUIRIES', ylabel='Density'>"
      ]
     },
     "execution_count": 88,
     "metadata": {},
     "output_type": "execute_result"
    },
    {
     "data": {
      "image/png": "[encoded data removed]",
      "text/plain": [
       "<Figure size 432x288 with 1 Axes>"
      ]
     },
     "metadata": {
      "needs_background": "light"
     },
     "output_type": "display_data"
    }
   ],
   "source": [
    "sns.distplot(data['NO_OF_INQUIRIES'].value_counts())"
   ]
  },
  {
   "cell_type": "markdown",
   "id": "050b73b2-cc77-4b92-b1e7-5eab66eed223",
   "metadata": {},
   "source": [
    "#### Is credit history, that is new loans in last six months, loans defaulted in last six months, time since first loan, etc., a significant factor in estimating probability of loan defaulters?"
   ]
  },
  {
   "cell_type": "code",
   "execution_count": 89,
   "id": "237b6f5c-882d-4721-9082-37c55d0d34e8",
   "metadata": {},
   "outputs": [
    {
     "data": {
      "text/html": [
       "<div>\n",
       "<style scoped>\n",
       "    .dataframe tbody tr th:only-of-type {\n",
       "        vertical-align: middle;\n",
       "    }\n",
       "\n",
       "    .dataframe tbody tr th {\n",
       "        vertical-align: top;\n",
       "    }\n",
       "\n",
       "    .dataframe thead th {\n",
       "        text-align: right;\n",
       "    }\n",
       "</style>\n",
       "<table border=\"1\" class=\"dataframe\">\n",
       "  <thead>\n",
       "    <tr style=\"text-align: right;\">\n",
       "      <th></th>\n",
       "      <th>Unique_ID</th>\n",
       "      <th>Disbursed_Amount</th>\n",
       "      <th>Asset_Cost</th>\n",
       "      <th>ltv</th>\n",
       "      <th>Branch_ID</th>\n",
       "      <th>Supplier_ID</th>\n",
       "      <th>Manufacturer_ID</th>\n",
       "      <th>Current_Pincode_ID</th>\n",
       "      <th>Date_Of_Birth</th>\n",
       "      <th>Employment_Type</th>\n",
       "      <th>...</th>\n",
       "      <th>SEC_DISBURSED_AMOUNT</th>\n",
       "      <th>PRIMARY_INSTAL_AMT</th>\n",
       "      <th>SEC_INSTAL_AMT</th>\n",
       "      <th>NEW_ACCTS_IN_LAST_SIX_MONTHS</th>\n",
       "      <th>DELINQUENT_ACCTS_IN_LAST_SIX_MONTHS</th>\n",
       "      <th>AVERAGE_ACCT_AGE</th>\n",
       "      <th>CREDIT_HISTORY_LENGTH</th>\n",
       "      <th>NO_OF_INQUIRIES</th>\n",
       "      <th>Loan_Default</th>\n",
       "      <th>Age</th>\n",
       "    </tr>\n",
       "  </thead>\n",
       "  <tbody>\n",
       "    <tr>\n",
       "      <th>0</th>\n",
       "      <td>420825</td>\n",
       "      <td>50578</td>\n",
       "      <td>58400</td>\n",
       "      <td>89.55</td>\n",
       "      <td>30</td>\n",
       "      <td>1415</td>\n",
       "      <td>0</td>\n",
       "      <td>1339</td>\n",
       "      <td>1984-01-01</td>\n",
       "      <td>Salaried</td>\n",
       "      <td>...</td>\n",
       "      <td>0</td>\n",
       "      <td>0</td>\n",
       "      <td>0</td>\n",
       "      <td>0</td>\n",
       "      <td>0</td>\n",
       "      <td>0yrs 0mon</td>\n",
       "      <td>0yrs 0mon</td>\n",
       "      <td>0</td>\n",
       "      <td>0</td>\n",
       "      <td>38.0</td>\n",
       "    </tr>\n",
       "    <tr>\n",
       "      <th>1</th>\n",
       "      <td>417566</td>\n",
       "      <td>53278</td>\n",
       "      <td>61360</td>\n",
       "      <td>89.63</td>\n",
       "      <td>30</td>\n",
       "      <td>1415</td>\n",
       "      <td>0</td>\n",
       "      <td>1392</td>\n",
       "      <td>1985-08-24</td>\n",
       "      <td>Self employed</td>\n",
       "      <td>...</td>\n",
       "      <td>0</td>\n",
       "      <td>0</td>\n",
       "      <td>0</td>\n",
       "      <td>0</td>\n",
       "      <td>0</td>\n",
       "      <td>0yrs 0mon</td>\n",
       "      <td>0yrs 0mon</td>\n",
       "      <td>0</td>\n",
       "      <td>0</td>\n",
       "      <td>36.0</td>\n",
       "    </tr>\n",
       "  </tbody>\n",
       "</table>\n",
       "<p>2 rows × 42 columns</p>\n",
       "</div>"
      ],
      "text/plain": [
       "   Unique_ID  Disbursed_Amount  Asset_Cost    ltv  Branch_ID  Supplier_ID  \\\n",
       "0     420825             50578       58400  89.55         30         1415   \n",
       "1     417566             53278       61360  89.63         30         1415   \n",
       "\n",
       "   Manufacturer_ID  Current_Pincode_ID Date_Of_Birth Employment_Type  ...  \\\n",
       "0                0                1339    1984-01-01        Salaried  ...   \n",
       "1                0                1392    1985-08-24   Self employed  ...   \n",
       "\n",
       "  SEC_DISBURSED_AMOUNT  PRIMARY_INSTAL_AMT  SEC_INSTAL_AMT  \\\n",
       "0                    0                   0               0   \n",
       "1                    0                   0               0   \n",
       "\n",
       "   NEW_ACCTS_IN_LAST_SIX_MONTHS  DELINQUENT_ACCTS_IN_LAST_SIX_MONTHS  \\\n",
       "0                             0                                    0   \n",
       "1                             0                                    0   \n",
       "\n",
       "   AVERAGE_ACCT_AGE  CREDIT_HISTORY_LENGTH  NO_OF_INQUIRIES  Loan_Default  \\\n",
       "0         0yrs 0mon              0yrs 0mon                0             0   \n",
       "1         0yrs 0mon              0yrs 0mon                0             0   \n",
       "\n",
       "    Age  \n",
       "0  38.0  \n",
       "1  36.0  \n",
       "\n",
       "[2 rows x 42 columns]"
      ]
     },
     "execution_count": 89,
     "metadata": {},
     "output_type": "execute_result"
    }
   ],
   "source": [
    "data.head(2)"
   ]
  },
  {
   "cell_type": "code",
   "execution_count": 90,
   "id": "1f231ec5-d18f-4472-8aa6-6121e1c578cb",
   "metadata": {},
   "outputs": [
    {
     "data": {
      "text/plain": [
       "Index(['Unique_ID', 'Disbursed_Amount', 'Asset_Cost', 'ltv', 'Branch_ID',\n",
       "       'Supplier_ID', 'Manufacturer_ID', 'Current_Pincode_ID', 'Date_Of_Birth',\n",
       "       'Employment_Type', 'Disbursal_Date', 'State_ID', 'Employee_Code_ID',\n",
       "       'MobileNo_Avl_Flag', 'Aadhar_Flag', 'PAN_Flag', 'VoterID_Flag',\n",
       "       'Driving_Flag', 'Passport_Flag', 'Perform_CNS_Score',\n",
       "       'Perform_CNS_Score_Description', 'PRI_NO_OF_ACCTS', 'PRI_ACTIVE_ACCTS',\n",
       "       'PRI_OVERDUE_ACCTS', 'PRI_CURRENT_BALANCE', 'PRI_SANCTIONED_AMOUNT',\n",
       "       'PRI_DISBURSED_AMOUNT', 'SEC_NO_OF_ACCTS', 'SEC_ACTIVE_ACCTS',\n",
       "       'SEC_OVERDUE_ACCTS', 'SEC_CURRENT_BALANCE', 'SEC_SANCTIONED_AMOUNT',\n",
       "       'SEC_DISBURSED_AMOUNT', 'PRIMARY_INSTAL_AMT', 'SEC_INSTAL_AMT',\n",
       "       'NEW_ACCTS_IN_LAST_SIX_MONTHS', 'DELINQUENT_ACCTS_IN_LAST_SIX_MONTHS',\n",
       "       'AVERAGE_ACCT_AGE', 'CREDIT_HISTORY_LENGTH', 'NO_OF_INQUIRIES',\n",
       "       'Loan_Default', 'Age'],\n",
       "      dtype='object')"
      ]
     },
     "execution_count": 90,
     "metadata": {},
     "output_type": "execute_result"
    }
   ],
   "source": [
    "data.columns"
   ]
  },
  {
   "cell_type": "code",
   "execution_count": 91,
   "id": "5631d392-4884-4c06-9589-49104cd07d52",
   "metadata": {},
   "outputs": [
    {
     "data": {
      "text/plain": [
       "Unique_ID                              233154\n",
       "Disbursed_Amount                        24565\n",
       "Asset_Cost                              46252\n",
       "ltv                                      6579\n",
       "Branch_ID                                  82\n",
       "Supplier_ID                              2953\n",
       "Manufacturer_ID                            11\n",
       "Current_Pincode_ID                       6698\n",
       "Date_Of_Birth                           15433\n",
       "Employment_Type                             2\n",
       "Disbursal_Date                             84\n",
       "State_ID                                   22\n",
       "Employee_Code_ID                         3270\n",
       "MobileNo_Avl_Flag                           1\n",
       "Aadhar_Flag                                 2\n",
       "PAN_Flag                                    2\n",
       "VoterID_Flag                                2\n",
       "Driving_Flag                                2\n",
       "Passport_Flag                               2\n",
       "Perform_CNS_Score                         573\n",
       "Perform_CNS_Score_Description              20\n",
       "PRI_NO_OF_ACCTS                           108\n",
       "PRI_ACTIVE_ACCTS                           40\n",
       "PRI_OVERDUE_ACCTS                          22\n",
       "PRI_CURRENT_BALANCE                     71341\n",
       "PRI_SANCTIONED_AMOUNT                   44390\n",
       "PRI_DISBURSED_AMOUNT                    47909\n",
       "SEC_NO_OF_ACCTS                            37\n",
       "SEC_ACTIVE_ACCTS                           23\n",
       "SEC_OVERDUE_ACCTS                           9\n",
       "SEC_CURRENT_BALANCE                      3246\n",
       "SEC_SANCTIONED_AMOUNT                    2223\n",
       "SEC_DISBURSED_AMOUNT                     2553\n",
       "PRIMARY_INSTAL_AMT                      28067\n",
       "SEC_INSTAL_AMT                           1918\n",
       "NEW_ACCTS_IN_LAST_SIX_MONTHS               26\n",
       "DELINQUENT_ACCTS_IN_LAST_SIX_MONTHS        14\n",
       "AVERAGE_ACCT_AGE                          192\n",
       "CREDIT_HISTORY_LENGTH                     294\n",
       "NO_OF_INQUIRIES                            25\n",
       "Loan_Default                                2\n",
       "Age                                        49\n",
       "dtype: int64"
      ]
     },
     "execution_count": 91,
     "metadata": {},
     "output_type": "execute_result"
    }
   ],
   "source": [
    "data.nunique()"
   ]
  },
  {
   "cell_type": "code",
   "execution_count": 92,
   "id": "b5416c03-85fc-45d8-b5d9-6d555838003f",
   "metadata": {},
   "outputs": [
    {
     "data": {
      "text/plain": [
       "0        2018-08-03\n",
       "1        2018-08-01\n",
       "2        2018-09-26\n",
       "3        2018-09-23\n",
       "4        2018-10-08\n",
       "            ...    \n",
       "233149   2018-10-06\n",
       "233150   2018-10-31\n",
       "233151   2018-10-23\n",
       "233152   2018-08-17\n",
       "233153   2018-09-28\n",
       "Name: Disbursal_Date, Length: 233154, dtype: datetime64[ns]"
      ]
     },
     "execution_count": 92,
     "metadata": {},
     "output_type": "execute_result"
    }
   ],
   "source": [
    "data['Disbursal_Date']"
   ]
  },
  {
   "cell_type": "markdown",
   "id": "8914a494-1313-4dad-8e7f-8e68c45e3a0a",
   "metadata": {},
   "source": [
    "Yes, credit history, that is new loans in last six months, loans defaulted in last six months, time since first loan, etc., a significant factor in estimating probability of loan defaulters."
   ]
  },
  {
   "cell_type": "code",
   "execution_count": 93,
   "id": "f0d3791a-ad95-4a16-81dd-48389b9f3bad",
   "metadata": {},
   "outputs": [],
   "source": [
    "now = pd.Timestamp('now')\n",
    "data['Disbursal_Date'] = pd.to_datetime(data['Disbursal_Date'], format='%d-%m-%y')\n",
    "data['Disbursal_Date'] = data['Disbursal_Date'].where(data['Disbursal_Date'] < now, data['Disbursal_Date'] -  np.timedelta64(100, 'Y'))\n",
    "data['Time_Since_Loan_Dispursed_In_Yrs'] = (now - data['Disbursal_Date']).astype('<m8[Y]')\n",
    "data=data.drop('Disbursal_Date',axis=1)"
   ]
  },
  {
   "cell_type": "code",
   "execution_count": 94,
   "id": "1b68dc1b-a297-4b72-9060-413fc0a2250a",
   "metadata": {},
   "outputs": [
    {
     "data": {
      "text/html": [
       "<div>\n",
       "<style scoped>\n",
       "    .dataframe tbody tr th:only-of-type {\n",
       "        vertical-align: middle;\n",
       "    }\n",
       "\n",
       "    .dataframe tbody tr th {\n",
       "        vertical-align: top;\n",
       "    }\n",
       "\n",
       "    .dataframe thead th {\n",
       "        text-align: right;\n",
       "    }\n",
       "</style>\n",
       "<table border=\"1\" class=\"dataframe\">\n",
       "  <thead>\n",
       "    <tr style=\"text-align: right;\">\n",
       "      <th></th>\n",
       "      <th>Unique_ID</th>\n",
       "      <th>Disbursed_Amount</th>\n",
       "      <th>Asset_Cost</th>\n",
       "      <th>ltv</th>\n",
       "      <th>Branch_ID</th>\n",
       "      <th>Supplier_ID</th>\n",
       "      <th>Manufacturer_ID</th>\n",
       "      <th>Current_Pincode_ID</th>\n",
       "      <th>Date_Of_Birth</th>\n",
       "      <th>Employment_Type</th>\n",
       "      <th>...</th>\n",
       "      <th>PRIMARY_INSTAL_AMT</th>\n",
       "      <th>SEC_INSTAL_AMT</th>\n",
       "      <th>NEW_ACCTS_IN_LAST_SIX_MONTHS</th>\n",
       "      <th>DELINQUENT_ACCTS_IN_LAST_SIX_MONTHS</th>\n",
       "      <th>AVERAGE_ACCT_AGE</th>\n",
       "      <th>CREDIT_HISTORY_LENGTH</th>\n",
       "      <th>NO_OF_INQUIRIES</th>\n",
       "      <th>Loan_Default</th>\n",
       "      <th>Age</th>\n",
       "      <th>Time_Since_Loan_Dispursed_In_Yrs</th>\n",
       "    </tr>\n",
       "  </thead>\n",
       "  <tbody>\n",
       "    <tr>\n",
       "      <th>0</th>\n",
       "      <td>420825</td>\n",
       "      <td>50578</td>\n",
       "      <td>58400</td>\n",
       "      <td>89.55</td>\n",
       "      <td>30</td>\n",
       "      <td>1415</td>\n",
       "      <td>0</td>\n",
       "      <td>1339</td>\n",
       "      <td>1984-01-01</td>\n",
       "      <td>Salaried</td>\n",
       "      <td>...</td>\n",
       "      <td>0</td>\n",
       "      <td>0</td>\n",
       "      <td>0</td>\n",
       "      <td>0</td>\n",
       "      <td>0yrs 0mon</td>\n",
       "      <td>0yrs 0mon</td>\n",
       "      <td>0</td>\n",
       "      <td>0</td>\n",
       "      <td>38.0</td>\n",
       "      <td>3.0</td>\n",
       "    </tr>\n",
       "    <tr>\n",
       "      <th>1</th>\n",
       "      <td>417566</td>\n",
       "      <td>53278</td>\n",
       "      <td>61360</td>\n",
       "      <td>89.63</td>\n",
       "      <td>30</td>\n",
       "      <td>1415</td>\n",
       "      <td>0</td>\n",
       "      <td>1392</td>\n",
       "      <td>1985-08-24</td>\n",
       "      <td>Self employed</td>\n",
       "      <td>...</td>\n",
       "      <td>0</td>\n",
       "      <td>0</td>\n",
       "      <td>0</td>\n",
       "      <td>0</td>\n",
       "      <td>0yrs 0mon</td>\n",
       "      <td>0yrs 0mon</td>\n",
       "      <td>0</td>\n",
       "      <td>0</td>\n",
       "      <td>36.0</td>\n",
       "      <td>3.0</td>\n",
       "    </tr>\n",
       "    <tr>\n",
       "      <th>2</th>\n",
       "      <td>539055</td>\n",
       "      <td>52378</td>\n",
       "      <td>60300</td>\n",
       "      <td>88.39</td>\n",
       "      <td>30</td>\n",
       "      <td>1415</td>\n",
       "      <td>0</td>\n",
       "      <td>1391</td>\n",
       "      <td>1977-12-09</td>\n",
       "      <td>Self employed</td>\n",
       "      <td>...</td>\n",
       "      <td>0</td>\n",
       "      <td>0</td>\n",
       "      <td>0</td>\n",
       "      <td>0</td>\n",
       "      <td>0yrs 0mon</td>\n",
       "      <td>0yrs 0mon</td>\n",
       "      <td>1</td>\n",
       "      <td>1</td>\n",
       "      <td>44.0</td>\n",
       "      <td>3.0</td>\n",
       "    </tr>\n",
       "    <tr>\n",
       "      <th>3</th>\n",
       "      <td>529269</td>\n",
       "      <td>46349</td>\n",
       "      <td>61500</td>\n",
       "      <td>76.42</td>\n",
       "      <td>30</td>\n",
       "      <td>1415</td>\n",
       "      <td>0</td>\n",
       "      <td>1397</td>\n",
       "      <td>1988-06-01</td>\n",
       "      <td>Salaried</td>\n",
       "      <td>...</td>\n",
       "      <td>0</td>\n",
       "      <td>0</td>\n",
       "      <td>0</td>\n",
       "      <td>0</td>\n",
       "      <td>0yrs 0mon</td>\n",
       "      <td>0yrs 0mon</td>\n",
       "      <td>0</td>\n",
       "      <td>0</td>\n",
       "      <td>34.0</td>\n",
       "      <td>3.0</td>\n",
       "    </tr>\n",
       "    <tr>\n",
       "      <th>4</th>\n",
       "      <td>563215</td>\n",
       "      <td>43594</td>\n",
       "      <td>78256</td>\n",
       "      <td>57.50</td>\n",
       "      <td>30</td>\n",
       "      <td>1378</td>\n",
       "      <td>5</td>\n",
       "      <td>1394</td>\n",
       "      <td>1994-07-14</td>\n",
       "      <td>Self employed</td>\n",
       "      <td>...</td>\n",
       "      <td>0</td>\n",
       "      <td>0</td>\n",
       "      <td>0</td>\n",
       "      <td>0</td>\n",
       "      <td>0yrs 0mon</td>\n",
       "      <td>0yrs 0mon</td>\n",
       "      <td>0</td>\n",
       "      <td>0</td>\n",
       "      <td>28.0</td>\n",
       "      <td>3.0</td>\n",
       "    </tr>\n",
       "  </tbody>\n",
       "</table>\n",
       "<p>5 rows × 42 columns</p>\n",
       "</div>"
      ],
      "text/plain": [
       "   Unique_ID  Disbursed_Amount  Asset_Cost    ltv  Branch_ID  Supplier_ID  \\\n",
       "0     420825             50578       58400  89.55         30         1415   \n",
       "1     417566             53278       61360  89.63         30         1415   \n",
       "2     539055             52378       60300  88.39         30         1415   \n",
       "3     529269             46349       61500  76.42         30         1415   \n",
       "4     563215             43594       78256  57.50         30         1378   \n",
       "\n",
       "   Manufacturer_ID  Current_Pincode_ID Date_Of_Birth Employment_Type  ...  \\\n",
       "0                0                1339    1984-01-01        Salaried  ...   \n",
       "1                0                1392    1985-08-24   Self employed  ...   \n",
       "2                0                1391    1977-12-09   Self employed  ...   \n",
       "3                0                1397    1988-06-01        Salaried  ...   \n",
       "4                5                1394    1994-07-14   Self employed  ...   \n",
       "\n",
       "   PRIMARY_INSTAL_AMT  SEC_INSTAL_AMT  NEW_ACCTS_IN_LAST_SIX_MONTHS  \\\n",
       "0                   0               0                             0   \n",
       "1                   0               0                             0   \n",
       "2                   0               0                             0   \n",
       "3                   0               0                             0   \n",
       "4                   0               0                             0   \n",
       "\n",
       "   DELINQUENT_ACCTS_IN_LAST_SIX_MONTHS  AVERAGE_ACCT_AGE  \\\n",
       "0                                    0         0yrs 0mon   \n",
       "1                                    0         0yrs 0mon   \n",
       "2                                    0         0yrs 0mon   \n",
       "3                                    0         0yrs 0mon   \n",
       "4                                    0         0yrs 0mon   \n",
       "\n",
       "   CREDIT_HISTORY_LENGTH  NO_OF_INQUIRIES  Loan_Default   Age  \\\n",
       "0              0yrs 0mon                0             0  38.0   \n",
       "1              0yrs 0mon                0             0  36.0   \n",
       "2              0yrs 0mon                1             1  44.0   \n",
       "3              0yrs 0mon                0             0  34.0   \n",
       "4              0yrs 0mon                0             0  28.0   \n",
       "\n",
       "  Time_Since_Loan_Dispursed_In_Yrs  \n",
       "0                              3.0  \n",
       "1                              3.0  \n",
       "2                              3.0  \n",
       "3                              3.0  \n",
       "4                              3.0  \n",
       "\n",
       "[5 rows x 42 columns]"
      ]
     },
     "execution_count": 94,
     "metadata": {},
     "output_type": "execute_result"
    }
   ],
   "source": [
    "data.head()"
   ]
  },
  {
   "cell_type": "markdown",
   "id": "19bc504f-476f-48f6-a13b-1a8bd78041a7",
   "metadata": {},
   "source": [
    "### Converting CHL & AAA"
   ]
  },
  {
   "cell_type": "code",
   "execution_count": 95,
   "id": "2c2015ab-fd2a-41ef-adc5-4908c91cd3c1",
   "metadata": {},
   "outputs": [
    {
     "data": {
      "text/plain": [
       "0          0yrs 0mon\n",
       "1          0yrs 0mon\n",
       "2          0yrs 0mon\n",
       "3          0yrs 0mon\n",
       "4          0yrs 0mon\n",
       "             ...    \n",
       "233149     2yrs 4mon\n",
       "233150     1yrs 5mon\n",
       "233151    3yrs 10mon\n",
       "233152     3yrs 2mon\n",
       "233153     5yrs 4mon\n",
       "Name: CREDIT_HISTORY_LENGTH, Length: 233154, dtype: object"
      ]
     },
     "execution_count": 95,
     "metadata": {},
     "output_type": "execute_result"
    }
   ],
   "source": [
    "data['CREDIT_HISTORY_LENGTH']"
   ]
  },
  {
   "cell_type": "code",
   "execution_count": 96,
   "id": "9e781fe3-cc93-4e4c-a749-df70450cae45",
   "metadata": {},
   "outputs": [],
   "source": [
    "data[['CREDIT_HISTORY_LENGTH_1','CREDIT_HISTORY_LENGTH_2']]=data['CREDIT_HISTORY_LENGTH'].str.split(expand=True)\n",
    "data=data.drop(columns ='CREDIT_HISTORY_LENGTH')"
   ]
  },
  {
   "cell_type": "code",
   "execution_count": 97,
   "id": "3e4e49da-82f6-4e2f-818c-e21d30120f41",
   "metadata": {},
   "outputs": [
    {
     "data": {
      "text/html": [
       "<div>\n",
       "<style scoped>\n",
       "    .dataframe tbody tr th:only-of-type {\n",
       "        vertical-align: middle;\n",
       "    }\n",
       "\n",
       "    .dataframe tbody tr th {\n",
       "        vertical-align: top;\n",
       "    }\n",
       "\n",
       "    .dataframe thead th {\n",
       "        text-align: right;\n",
       "    }\n",
       "</style>\n",
       "<table border=\"1\" class=\"dataframe\">\n",
       "  <thead>\n",
       "    <tr style=\"text-align: right;\">\n",
       "      <th></th>\n",
       "      <th>Unique_ID</th>\n",
       "      <th>Disbursed_Amount</th>\n",
       "      <th>Asset_Cost</th>\n",
       "      <th>ltv</th>\n",
       "      <th>Branch_ID</th>\n",
       "      <th>Supplier_ID</th>\n",
       "      <th>Manufacturer_ID</th>\n",
       "      <th>Current_Pincode_ID</th>\n",
       "      <th>Date_Of_Birth</th>\n",
       "      <th>Employment_Type</th>\n",
       "      <th>...</th>\n",
       "      <th>SEC_INSTAL_AMT</th>\n",
       "      <th>NEW_ACCTS_IN_LAST_SIX_MONTHS</th>\n",
       "      <th>DELINQUENT_ACCTS_IN_LAST_SIX_MONTHS</th>\n",
       "      <th>AVERAGE_ACCT_AGE</th>\n",
       "      <th>NO_OF_INQUIRIES</th>\n",
       "      <th>Loan_Default</th>\n",
       "      <th>Age</th>\n",
       "      <th>Time_Since_Loan_Dispursed_In_Yrs</th>\n",
       "      <th>CREDIT_HISTORY_LENGTH_1</th>\n",
       "      <th>CREDIT_HISTORY_LENGTH_2</th>\n",
       "    </tr>\n",
       "  </thead>\n",
       "  <tbody>\n",
       "    <tr>\n",
       "      <th>0</th>\n",
       "      <td>420825</td>\n",
       "      <td>50578</td>\n",
       "      <td>58400</td>\n",
       "      <td>89.55</td>\n",
       "      <td>30</td>\n",
       "      <td>1415</td>\n",
       "      <td>0</td>\n",
       "      <td>1339</td>\n",
       "      <td>1984-01-01</td>\n",
       "      <td>Salaried</td>\n",
       "      <td>...</td>\n",
       "      <td>0</td>\n",
       "      <td>0</td>\n",
       "      <td>0</td>\n",
       "      <td>0yrs 0mon</td>\n",
       "      <td>0</td>\n",
       "      <td>0</td>\n",
       "      <td>38.0</td>\n",
       "      <td>3.0</td>\n",
       "      <td>0yrs</td>\n",
       "      <td>0mon</td>\n",
       "    </tr>\n",
       "    <tr>\n",
       "      <th>1</th>\n",
       "      <td>417566</td>\n",
       "      <td>53278</td>\n",
       "      <td>61360</td>\n",
       "      <td>89.63</td>\n",
       "      <td>30</td>\n",
       "      <td>1415</td>\n",
       "      <td>0</td>\n",
       "      <td>1392</td>\n",
       "      <td>1985-08-24</td>\n",
       "      <td>Self employed</td>\n",
       "      <td>...</td>\n",
       "      <td>0</td>\n",
       "      <td>0</td>\n",
       "      <td>0</td>\n",
       "      <td>0yrs 0mon</td>\n",
       "      <td>0</td>\n",
       "      <td>0</td>\n",
       "      <td>36.0</td>\n",
       "      <td>3.0</td>\n",
       "      <td>0yrs</td>\n",
       "      <td>0mon</td>\n",
       "    </tr>\n",
       "    <tr>\n",
       "      <th>2</th>\n",
       "      <td>539055</td>\n",
       "      <td>52378</td>\n",
       "      <td>60300</td>\n",
       "      <td>88.39</td>\n",
       "      <td>30</td>\n",
       "      <td>1415</td>\n",
       "      <td>0</td>\n",
       "      <td>1391</td>\n",
       "      <td>1977-12-09</td>\n",
       "      <td>Self employed</td>\n",
       "      <td>...</td>\n",
       "      <td>0</td>\n",
       "      <td>0</td>\n",
       "      <td>0</td>\n",
       "      <td>0yrs 0mon</td>\n",
       "      <td>1</td>\n",
       "      <td>1</td>\n",
       "      <td>44.0</td>\n",
       "      <td>3.0</td>\n",
       "      <td>0yrs</td>\n",
       "      <td>0mon</td>\n",
       "    </tr>\n",
       "    <tr>\n",
       "      <th>3</th>\n",
       "      <td>529269</td>\n",
       "      <td>46349</td>\n",
       "      <td>61500</td>\n",
       "      <td>76.42</td>\n",
       "      <td>30</td>\n",
       "      <td>1415</td>\n",
       "      <td>0</td>\n",
       "      <td>1397</td>\n",
       "      <td>1988-06-01</td>\n",
       "      <td>Salaried</td>\n",
       "      <td>...</td>\n",
       "      <td>0</td>\n",
       "      <td>0</td>\n",
       "      <td>0</td>\n",
       "      <td>0yrs 0mon</td>\n",
       "      <td>0</td>\n",
       "      <td>0</td>\n",
       "      <td>34.0</td>\n",
       "      <td>3.0</td>\n",
       "      <td>0yrs</td>\n",
       "      <td>0mon</td>\n",
       "    </tr>\n",
       "    <tr>\n",
       "      <th>4</th>\n",
       "      <td>563215</td>\n",
       "      <td>43594</td>\n",
       "      <td>78256</td>\n",
       "      <td>57.50</td>\n",
       "      <td>30</td>\n",
       "      <td>1378</td>\n",
       "      <td>5</td>\n",
       "      <td>1394</td>\n",
       "      <td>1994-07-14</td>\n",
       "      <td>Self employed</td>\n",
       "      <td>...</td>\n",
       "      <td>0</td>\n",
       "      <td>0</td>\n",
       "      <td>0</td>\n",
       "      <td>0yrs 0mon</td>\n",
       "      <td>0</td>\n",
       "      <td>0</td>\n",
       "      <td>28.0</td>\n",
       "      <td>3.0</td>\n",
       "      <td>0yrs</td>\n",
       "      <td>0mon</td>\n",
       "    </tr>\n",
       "  </tbody>\n",
       "</table>\n",
       "<p>5 rows × 43 columns</p>\n",
       "</div>"
      ],
      "text/plain": [
       "   Unique_ID  Disbursed_Amount  Asset_Cost    ltv  Branch_ID  Supplier_ID  \\\n",
       "0     420825             50578       58400  89.55         30         1415   \n",
       "1     417566             53278       61360  89.63         30         1415   \n",
       "2     539055             52378       60300  88.39         30         1415   \n",
       "3     529269             46349       61500  76.42         30         1415   \n",
       "4     563215             43594       78256  57.50         30         1378   \n",
       "\n",
       "   Manufacturer_ID  Current_Pincode_ID Date_Of_Birth Employment_Type  ...  \\\n",
       "0                0                1339    1984-01-01        Salaried  ...   \n",
       "1                0                1392    1985-08-24   Self employed  ...   \n",
       "2                0                1391    1977-12-09   Self employed  ...   \n",
       "3                0                1397    1988-06-01        Salaried  ...   \n",
       "4                5                1394    1994-07-14   Self employed  ...   \n",
       "\n",
       "   SEC_INSTAL_AMT  NEW_ACCTS_IN_LAST_SIX_MONTHS  \\\n",
       "0               0                             0   \n",
       "1               0                             0   \n",
       "2               0                             0   \n",
       "3               0                             0   \n",
       "4               0                             0   \n",
       "\n",
       "   DELINQUENT_ACCTS_IN_LAST_SIX_MONTHS  AVERAGE_ACCT_AGE  NO_OF_INQUIRIES  \\\n",
       "0                                    0         0yrs 0mon                0   \n",
       "1                                    0         0yrs 0mon                0   \n",
       "2                                    0         0yrs 0mon                1   \n",
       "3                                    0         0yrs 0mon                0   \n",
       "4                                    0         0yrs 0mon                0   \n",
       "\n",
       "   Loan_Default   Age  Time_Since_Loan_Dispursed_In_Yrs  \\\n",
       "0             0  38.0                               3.0   \n",
       "1             0  36.0                               3.0   \n",
       "2             1  44.0                               3.0   \n",
       "3             0  34.0                               3.0   \n",
       "4             0  28.0                               3.0   \n",
       "\n",
       "   CREDIT_HISTORY_LENGTH_1 CREDIT_HISTORY_LENGTH_2  \n",
       "0                     0yrs                    0mon  \n",
       "1                     0yrs                    0mon  \n",
       "2                     0yrs                    0mon  \n",
       "3                     0yrs                    0mon  \n",
       "4                     0yrs                    0mon  \n",
       "\n",
       "[5 rows x 43 columns]"
      ]
     },
     "execution_count": 97,
     "metadata": {},
     "output_type": "execute_result"
    }
   ],
   "source": [
    "data.head()"
   ]
  },
  {
   "cell_type": "code",
   "execution_count": 98,
   "id": "214c65d1-c76c-4a81-9b50-0c13a90808bd",
   "metadata": {},
   "outputs": [],
   "source": [
    "#stripping months and years\n",
    "data['CREDIT_HISTORY_LENGTH_1']=data['CREDIT_HISTORY_LENGTH_1'].str.strip('yrs')"
   ]
  },
  {
   "cell_type": "code",
   "execution_count": 99,
   "id": "8524f2ae-2eb0-402f-8470-70bfc20d833e",
   "metadata": {},
   "outputs": [],
   "source": [
    "#stripping months and years\n",
    "data['CREDIT_HISTORY_LENGTH_2']= data['CREDIT_HISTORY_LENGTH_2'].str.strip('mon')\n",
    "\n",
    "\n",
    "#converting datatype\n",
    "data['CREDIT_HISTORY_LENGTH_1'] = data['CREDIT_HISTORY_LENGTH_1'].astype(int)\n",
    "data['CREDIT_HISTORY_LENGTH_2'] = data['CREDIT_HISTORY_LENGTH_2'].astype(int)\n",
    "\n",
    "# since we need to conctanate month value lets divide by 12 and round them off\n",
    "data['CREDIT_HISTORY_LENGTH_2']=round((data['CREDIT_HISTORY_LENGTH_2']/12),2)\n"
   ]
  },
  {
   "cell_type": "code",
   "execution_count": 100,
   "id": "515f8759-c2b5-4672-a9bb-320548089aec",
   "metadata": {},
   "outputs": [
    {
     "data": {
      "text/html": [
       "<div>\n",
       "<style scoped>\n",
       "    .dataframe tbody tr th:only-of-type {\n",
       "        vertical-align: middle;\n",
       "    }\n",
       "\n",
       "    .dataframe tbody tr th {\n",
       "        vertical-align: top;\n",
       "    }\n",
       "\n",
       "    .dataframe thead th {\n",
       "        text-align: right;\n",
       "    }\n",
       "</style>\n",
       "<table border=\"1\" class=\"dataframe\">\n",
       "  <thead>\n",
       "    <tr style=\"text-align: right;\">\n",
       "      <th></th>\n",
       "      <th>Unique_ID</th>\n",
       "      <th>Disbursed_Amount</th>\n",
       "      <th>Asset_Cost</th>\n",
       "      <th>ltv</th>\n",
       "      <th>Branch_ID</th>\n",
       "      <th>Supplier_ID</th>\n",
       "      <th>Manufacturer_ID</th>\n",
       "      <th>Current_Pincode_ID</th>\n",
       "      <th>Date_Of_Birth</th>\n",
       "      <th>Employment_Type</th>\n",
       "      <th>...</th>\n",
       "      <th>SEC_INSTAL_AMT</th>\n",
       "      <th>NEW_ACCTS_IN_LAST_SIX_MONTHS</th>\n",
       "      <th>DELINQUENT_ACCTS_IN_LAST_SIX_MONTHS</th>\n",
       "      <th>AVERAGE_ACCT_AGE</th>\n",
       "      <th>NO_OF_INQUIRIES</th>\n",
       "      <th>Loan_Default</th>\n",
       "      <th>Age</th>\n",
       "      <th>Time_Since_Loan_Dispursed_In_Yrs</th>\n",
       "      <th>CREDIT_HISTORY_LENGTH_1</th>\n",
       "      <th>CREDIT_HISTORY_LENGTH_2</th>\n",
       "    </tr>\n",
       "  </thead>\n",
       "  <tbody>\n",
       "    <tr>\n",
       "      <th>0</th>\n",
       "      <td>420825</td>\n",
       "      <td>50578</td>\n",
       "      <td>58400</td>\n",
       "      <td>89.55</td>\n",
       "      <td>30</td>\n",
       "      <td>1415</td>\n",
       "      <td>0</td>\n",
       "      <td>1339</td>\n",
       "      <td>1984-01-01</td>\n",
       "      <td>Salaried</td>\n",
       "      <td>...</td>\n",
       "      <td>0</td>\n",
       "      <td>0</td>\n",
       "      <td>0</td>\n",
       "      <td>0yrs 0mon</td>\n",
       "      <td>0</td>\n",
       "      <td>0</td>\n",
       "      <td>38.0</td>\n",
       "      <td>3.0</td>\n",
       "      <td>0</td>\n",
       "      <td>0.0</td>\n",
       "    </tr>\n",
       "    <tr>\n",
       "      <th>1</th>\n",
       "      <td>417566</td>\n",
       "      <td>53278</td>\n",
       "      <td>61360</td>\n",
       "      <td>89.63</td>\n",
       "      <td>30</td>\n",
       "      <td>1415</td>\n",
       "      <td>0</td>\n",
       "      <td>1392</td>\n",
       "      <td>1985-08-24</td>\n",
       "      <td>Self employed</td>\n",
       "      <td>...</td>\n",
       "      <td>0</td>\n",
       "      <td>0</td>\n",
       "      <td>0</td>\n",
       "      <td>0yrs 0mon</td>\n",
       "      <td>0</td>\n",
       "      <td>0</td>\n",
       "      <td>36.0</td>\n",
       "      <td>3.0</td>\n",
       "      <td>0</td>\n",
       "      <td>0.0</td>\n",
       "    </tr>\n",
       "    <tr>\n",
       "      <th>2</th>\n",
       "      <td>539055</td>\n",
       "      <td>52378</td>\n",
       "      <td>60300</td>\n",
       "      <td>88.39</td>\n",
       "      <td>30</td>\n",
       "      <td>1415</td>\n",
       "      <td>0</td>\n",
       "      <td>1391</td>\n",
       "      <td>1977-12-09</td>\n",
       "      <td>Self employed</td>\n",
       "      <td>...</td>\n",
       "      <td>0</td>\n",
       "      <td>0</td>\n",
       "      <td>0</td>\n",
       "      <td>0yrs 0mon</td>\n",
       "      <td>1</td>\n",
       "      <td>1</td>\n",
       "      <td>44.0</td>\n",
       "      <td>3.0</td>\n",
       "      <td>0</td>\n",
       "      <td>0.0</td>\n",
       "    </tr>\n",
       "    <tr>\n",
       "      <th>3</th>\n",
       "      <td>529269</td>\n",
       "      <td>46349</td>\n",
       "      <td>61500</td>\n",
       "      <td>76.42</td>\n",
       "      <td>30</td>\n",
       "      <td>1415</td>\n",
       "      <td>0</td>\n",
       "      <td>1397</td>\n",
       "      <td>1988-06-01</td>\n",
       "      <td>Salaried</td>\n",
       "      <td>...</td>\n",
       "      <td>0</td>\n",
       "      <td>0</td>\n",
       "      <td>0</td>\n",
       "      <td>0yrs 0mon</td>\n",
       "      <td>0</td>\n",
       "      <td>0</td>\n",
       "      <td>34.0</td>\n",
       "      <td>3.0</td>\n",
       "      <td>0</td>\n",
       "      <td>0.0</td>\n",
       "    </tr>\n",
       "    <tr>\n",
       "      <th>4</th>\n",
       "      <td>563215</td>\n",
       "      <td>43594</td>\n",
       "      <td>78256</td>\n",
       "      <td>57.50</td>\n",
       "      <td>30</td>\n",
       "      <td>1378</td>\n",
       "      <td>5</td>\n",
       "      <td>1394</td>\n",
       "      <td>1994-07-14</td>\n",
       "      <td>Self employed</td>\n",
       "      <td>...</td>\n",
       "      <td>0</td>\n",
       "      <td>0</td>\n",
       "      <td>0</td>\n",
       "      <td>0yrs 0mon</td>\n",
       "      <td>0</td>\n",
       "      <td>0</td>\n",
       "      <td>28.0</td>\n",
       "      <td>3.0</td>\n",
       "      <td>0</td>\n",
       "      <td>0.0</td>\n",
       "    </tr>\n",
       "  </tbody>\n",
       "</table>\n",
       "<p>5 rows × 43 columns</p>\n",
       "</div>"
      ],
      "text/plain": [
       "   Unique_ID  Disbursed_Amount  Asset_Cost    ltv  Branch_ID  Supplier_ID  \\\n",
       "0     420825             50578       58400  89.55         30         1415   \n",
       "1     417566             53278       61360  89.63         30         1415   \n",
       "2     539055             52378       60300  88.39         30         1415   \n",
       "3     529269             46349       61500  76.42         30         1415   \n",
       "4     563215             43594       78256  57.50         30         1378   \n",
       "\n",
       "   Manufacturer_ID  Current_Pincode_ID Date_Of_Birth Employment_Type  ...  \\\n",
       "0                0                1339    1984-01-01        Salaried  ...   \n",
       "1                0                1392    1985-08-24   Self employed  ...   \n",
       "2                0                1391    1977-12-09   Self employed  ...   \n",
       "3                0                1397    1988-06-01        Salaried  ...   \n",
       "4                5                1394    1994-07-14   Self employed  ...   \n",
       "\n",
       "   SEC_INSTAL_AMT  NEW_ACCTS_IN_LAST_SIX_MONTHS  \\\n",
       "0               0                             0   \n",
       "1               0                             0   \n",
       "2               0                             0   \n",
       "3               0                             0   \n",
       "4               0                             0   \n",
       "\n",
       "   DELINQUENT_ACCTS_IN_LAST_SIX_MONTHS  AVERAGE_ACCT_AGE  NO_OF_INQUIRIES  \\\n",
       "0                                    0         0yrs 0mon                0   \n",
       "1                                    0         0yrs 0mon                0   \n",
       "2                                    0         0yrs 0mon                1   \n",
       "3                                    0         0yrs 0mon                0   \n",
       "4                                    0         0yrs 0mon                0   \n",
       "\n",
       "   Loan_Default   Age  Time_Since_Loan_Dispursed_In_Yrs  \\\n",
       "0             0  38.0                               3.0   \n",
       "1             0  36.0                               3.0   \n",
       "2             1  44.0                               3.0   \n",
       "3             0  34.0                               3.0   \n",
       "4             0  28.0                               3.0   \n",
       "\n",
       "   CREDIT_HISTORY_LENGTH_1 CREDIT_HISTORY_LENGTH_2  \n",
       "0                        0                     0.0  \n",
       "1                        0                     0.0  \n",
       "2                        0                     0.0  \n",
       "3                        0                     0.0  \n",
       "4                        0                     0.0  \n",
       "\n",
       "[5 rows x 43 columns]"
      ]
     },
     "execution_count": 100,
     "metadata": {},
     "output_type": "execute_result"
    }
   ],
   "source": [
    "data.head()"
   ]
  },
  {
   "cell_type": "code",
   "execution_count": 101,
   "id": "9e575224-3d21-4bc5-a3da-83befb3cb873",
   "metadata": {},
   "outputs": [],
   "source": [
    "data['CREDIT_HISTORY_LENGTH']= data['CREDIT_HISTORY_LENGTH_1'].astype(float) + data['CREDIT_HISTORY_LENGTH_2'].astype(float)"
   ]
  },
  {
   "cell_type": "code",
   "execution_count": 102,
   "id": "86eb4e8b-df63-4129-ba95-fc64360b11c0",
   "metadata": {},
   "outputs": [
    {
     "data": {
      "text/plain": [
       "0         0.00\n",
       "1         0.00\n",
       "2         0.00\n",
       "3         0.00\n",
       "4         0.00\n",
       "          ... \n",
       "233149    2.33\n",
       "233150    1.42\n",
       "233151    3.83\n",
       "233152    3.17\n",
       "233153    5.33\n",
       "Name: CREDIT_HISTORY_LENGTH, Length: 233154, dtype: float64"
      ]
     },
     "execution_count": 102,
     "metadata": {},
     "output_type": "execute_result"
    }
   ],
   "source": [
    "data['CREDIT_HISTORY_LENGTH']"
   ]
  },
  {
   "cell_type": "code",
   "execution_count": 103,
   "id": "e33d1216-7158-4b94-badb-89739ef095db",
   "metadata": {},
   "outputs": [
    {
     "data": {
      "text/plain": [
       "0.00     119127\n",
       "0.50       4761\n",
       "2.08       4745\n",
       "0.58       4017\n",
       "2.00       3833\n",
       "          ...  \n",
       "21.17         1\n",
       "26.92         1\n",
       "28.75         1\n",
       "28.58         1\n",
       "27.33         1\n",
       "Name: CREDIT_HISTORY_LENGTH, Length: 294, dtype: int64"
      ]
     },
     "execution_count": 103,
     "metadata": {},
     "output_type": "execute_result"
    }
   ],
   "source": [
    "data['CREDIT_HISTORY_LENGTH'].value_counts()"
   ]
  },
  {
   "cell_type": "code",
   "execution_count": 104,
   "id": "f869196c-74c1-4f39-a139-516a0f806544",
   "metadata": {},
   "outputs": [
    {
     "data": {
      "text/plain": [
       "0          0yrs 0mon\n",
       "1          0yrs 0mon\n",
       "2          0yrs 0mon\n",
       "3          0yrs 0mon\n",
       "4          0yrs 0mon\n",
       "             ...    \n",
       "233149     2yrs 4mon\n",
       "233150     1yrs 5mon\n",
       "233151     0yrs 9mon\n",
       "233152     1yrs 2mon\n",
       "233153    2yrs 11mon\n",
       "Name: AVERAGE_ACCT_AGE, Length: 233154, dtype: object"
      ]
     },
     "execution_count": 104,
     "metadata": {},
     "output_type": "execute_result"
    }
   ],
   "source": [
    "data['AVERAGE_ACCT_AGE']"
   ]
  },
  {
   "cell_type": "code",
   "execution_count": 105,
   "id": "dc77c669-c6da-4f6d-85ab-0c7b7411ab33",
   "metadata": {},
   "outputs": [],
   "source": [
    "data[['AVERAGE_ACCT_AGE_1','AVERAGE_ACCT_AGE_2']]=data['AVERAGE_ACCT_AGE'].str.split(expand=True)\n",
    "data=data.drop(columns ='AVERAGE_ACCT_AGE')"
   ]
  },
  {
   "cell_type": "code",
   "execution_count": 106,
   "id": "9ac687df-f8a6-4be0-85b1-616372334e3b",
   "metadata": {},
   "outputs": [],
   "source": [
    "#stripping months and years\n",
    "data['AVERAGE_ACCT_AGE_1']=data['AVERAGE_ACCT_AGE_1'].str.strip('yrs')"
   ]
  },
  {
   "cell_type": "code",
   "execution_count": 107,
   "id": "63a44a31-d3b0-4f20-adb9-c815a6d87aca",
   "metadata": {},
   "outputs": [],
   "source": [
    "#stripping months and years\n",
    "data['AVERAGE_ACCT_AGE_2']= data['AVERAGE_ACCT_AGE_2'].str.strip('mon')"
   ]
  },
  {
   "cell_type": "code",
   "execution_count": 108,
   "id": "d16a283c-a603-4e2e-8e99-056cdfd6ab8a",
   "metadata": {},
   "outputs": [],
   "source": [
    "#converting datatype\n",
    "data['AVERAGE_ACCT_AGE_1'] = data['AVERAGE_ACCT_AGE_1'].astype(int)\n",
    "data['AVERAGE_ACCT_AGE_2'] = data['AVERAGE_ACCT_AGE_2'].astype(int)"
   ]
  },
  {
   "cell_type": "code",
   "execution_count": 109,
   "id": "c0eeb2e5-2cfa-43e9-9967-28e44b71effd",
   "metadata": {},
   "outputs": [],
   "source": [
    "# since we need to conctanate month value lets divide by 12 and round them off\n",
    "data['AVERAGE_ACCT_AGE_2']=round((data['AVERAGE_ACCT_AGE_2']/12),2)"
   ]
  },
  {
   "cell_type": "code",
   "execution_count": 110,
   "id": "f3cb6d1a-99de-45a0-aef6-616589d1f106",
   "metadata": {},
   "outputs": [],
   "source": [
    "data['AVERAGE_ACCT_AGE']= data['AVERAGE_ACCT_AGE_1'].astype(float) + data['AVERAGE_ACCT_AGE_2'].astype(float)"
   ]
  },
  {
   "cell_type": "code",
   "execution_count": 111,
   "id": "d999678a-f788-4ca3-beee-e151dbc3816e",
   "metadata": {},
   "outputs": [
    {
     "data": {
      "text/plain": [
       "<seaborn.axisgrid.FacetGrid at 0x7f82b8b35d30>"
      ]
     },
     "execution_count": 111,
     "metadata": {},
     "output_type": "execute_result"
    },
    {
     "data": {
      "image/png": "[encoded data removed]",
      "text/plain": [
       "<Figure size 360x360 with 1 Axes>"
      ]
     },
     "metadata": {
      "needs_background": "light"
     },
     "output_type": "display_data"
    }
   ],
   "source": [
    "sns.displot(data['AVERAGE_ACCT_AGE'])"
   ]
  },
  {
   "cell_type": "code",
   "execution_count": 112,
   "id": "6640613f-8d3d-4e1e-9b7d-f566e707a25b",
   "metadata": {},
   "outputs": [
    {
     "data": {
      "text/plain": [
       "<AxesSubplot:xlabel='CREDIT_HISTORY_LENGTH', ylabel='Density'>"
      ]
     },
     "execution_count": 112,
     "metadata": {},
     "output_type": "execute_result"
    },
    {
     "data": {
      "image/png": "[encoded data removed]",
      "text/plain": [
       "<Figure size 432x288 with 1 Axes>"
      ]
     },
     "metadata": {
      "needs_background": "light"
     },
     "output_type": "display_data"
    }
   ],
   "source": [
    "sns.distplot(data['CREDIT_HISTORY_LENGTH'])"
   ]
  },
  {
   "cell_type": "code",
   "execution_count": 113,
   "id": "479255b8-577d-4773-8394-702e45fc0f49",
   "metadata": {},
   "outputs": [
    {
     "data": {
      "text/html": [
       "<div>\n",
       "<style scoped>\n",
       "    .dataframe tbody tr th:only-of-type {\n",
       "        vertical-align: middle;\n",
       "    }\n",
       "\n",
       "    .dataframe tbody tr th {\n",
       "        vertical-align: top;\n",
       "    }\n",
       "\n",
       "    .dataframe thead th {\n",
       "        text-align: right;\n",
       "    }\n",
       "</style>\n",
       "<table border=\"1\" class=\"dataframe\">\n",
       "  <thead>\n",
       "    <tr style=\"text-align: right;\">\n",
       "      <th></th>\n",
       "      <th>Unique_ID</th>\n",
       "      <th>Disbursed_Amount</th>\n",
       "      <th>Asset_Cost</th>\n",
       "      <th>ltv</th>\n",
       "      <th>Branch_ID</th>\n",
       "      <th>Supplier_ID</th>\n",
       "      <th>Manufacturer_ID</th>\n",
       "      <th>Current_Pincode_ID</th>\n",
       "      <th>Date_Of_Birth</th>\n",
       "      <th>Employment_Type</th>\n",
       "      <th>...</th>\n",
       "      <th>NO_OF_INQUIRIES</th>\n",
       "      <th>Loan_Default</th>\n",
       "      <th>Age</th>\n",
       "      <th>Time_Since_Loan_Dispursed_In_Yrs</th>\n",
       "      <th>CREDIT_HISTORY_LENGTH_1</th>\n",
       "      <th>CREDIT_HISTORY_LENGTH_2</th>\n",
       "      <th>CREDIT_HISTORY_LENGTH</th>\n",
       "      <th>AVERAGE_ACCT_AGE_1</th>\n",
       "      <th>AVERAGE_ACCT_AGE_2</th>\n",
       "      <th>AVERAGE_ACCT_AGE</th>\n",
       "    </tr>\n",
       "  </thead>\n",
       "  <tbody>\n",
       "    <tr>\n",
       "      <th>0</th>\n",
       "      <td>420825</td>\n",
       "      <td>50578</td>\n",
       "      <td>58400</td>\n",
       "      <td>89.55</td>\n",
       "      <td>30</td>\n",
       "      <td>1415</td>\n",
       "      <td>0</td>\n",
       "      <td>1339</td>\n",
       "      <td>1984-01-01</td>\n",
       "      <td>Salaried</td>\n",
       "      <td>...</td>\n",
       "      <td>0</td>\n",
       "      <td>0</td>\n",
       "      <td>38.0</td>\n",
       "      <td>3.0</td>\n",
       "      <td>0</td>\n",
       "      <td>0.0</td>\n",
       "      <td>0.0</td>\n",
       "      <td>0</td>\n",
       "      <td>0.0</td>\n",
       "      <td>0.0</td>\n",
       "    </tr>\n",
       "    <tr>\n",
       "      <th>1</th>\n",
       "      <td>417566</td>\n",
       "      <td>53278</td>\n",
       "      <td>61360</td>\n",
       "      <td>89.63</td>\n",
       "      <td>30</td>\n",
       "      <td>1415</td>\n",
       "      <td>0</td>\n",
       "      <td>1392</td>\n",
       "      <td>1985-08-24</td>\n",
       "      <td>Self employed</td>\n",
       "      <td>...</td>\n",
       "      <td>0</td>\n",
       "      <td>0</td>\n",
       "      <td>36.0</td>\n",
       "      <td>3.0</td>\n",
       "      <td>0</td>\n",
       "      <td>0.0</td>\n",
       "      <td>0.0</td>\n",
       "      <td>0</td>\n",
       "      <td>0.0</td>\n",
       "      <td>0.0</td>\n",
       "    </tr>\n",
       "  </tbody>\n",
       "</table>\n",
       "<p>2 rows × 46 columns</p>\n",
       "</div>"
      ],
      "text/plain": [
       "   Unique_ID  Disbursed_Amount  Asset_Cost    ltv  Branch_ID  Supplier_ID  \\\n",
       "0     420825             50578       58400  89.55         30         1415   \n",
       "1     417566             53278       61360  89.63         30         1415   \n",
       "\n",
       "   Manufacturer_ID  Current_Pincode_ID Date_Of_Birth Employment_Type  ...  \\\n",
       "0                0                1339    1984-01-01        Salaried  ...   \n",
       "1                0                1392    1985-08-24   Self employed  ...   \n",
       "\n",
       "   NO_OF_INQUIRIES  Loan_Default   Age  Time_Since_Loan_Dispursed_In_Yrs  \\\n",
       "0                0             0  38.0                               3.0   \n",
       "1                0             0  36.0                               3.0   \n",
       "\n",
       "   CREDIT_HISTORY_LENGTH_1  CREDIT_HISTORY_LENGTH_2  CREDIT_HISTORY_LENGTH  \\\n",
       "0                        0                      0.0                    0.0   \n",
       "1                        0                      0.0                    0.0   \n",
       "\n",
       "   AVERAGE_ACCT_AGE_1  AVERAGE_ACCT_AGE_2 AVERAGE_ACCT_AGE  \n",
       "0                   0                 0.0              0.0  \n",
       "1                   0                 0.0              0.0  \n",
       "\n",
       "[2 rows x 46 columns]"
      ]
     },
     "execution_count": 113,
     "metadata": {},
     "output_type": "execute_result"
    }
   ],
   "source": [
    "data.head(2)"
   ]
  },
  {
   "cell_type": "code",
   "execution_count": 114,
   "id": "81afc226-14e8-4ac7-9310-68267c5cd1a0",
   "metadata": {},
   "outputs": [],
   "source": [
    "data=data.drop(columns ='CREDIT_HISTORY_LENGTH_1')\n",
    "\n",
    "data=data.drop(columns ='CREDIT_HISTORY_LENGTH_2')\n",
    "\n",
    "data=data.drop(columns ='AVERAGE_ACCT_AGE_1')\n",
    "\n",
    "data=data.drop(columns ='AVERAGE_ACCT_AGE_2')\n",
    "\n",
    "data=data.drop(columns ='Date_Of_Birth')"
   ]
  },
  {
   "cell_type": "code",
   "execution_count": 115,
   "id": "eadc9f35-0fec-4538-8a4c-9dd08fb9dbce",
   "metadata": {},
   "outputs": [
    {
     "data": {
      "text/html": [
       "<div>\n",
       "<style scoped>\n",
       "    .dataframe tbody tr th:only-of-type {\n",
       "        vertical-align: middle;\n",
       "    }\n",
       "\n",
       "    .dataframe tbody tr th {\n",
       "        vertical-align: top;\n",
       "    }\n",
       "\n",
       "    .dataframe thead th {\n",
       "        text-align: right;\n",
       "    }\n",
       "</style>\n",
       "<table border=\"1\" class=\"dataframe\">\n",
       "  <thead>\n",
       "    <tr style=\"text-align: right;\">\n",
       "      <th></th>\n",
       "      <th>Unique_ID</th>\n",
       "      <th>Disbursed_Amount</th>\n",
       "      <th>Asset_Cost</th>\n",
       "      <th>ltv</th>\n",
       "      <th>Branch_ID</th>\n",
       "      <th>Supplier_ID</th>\n",
       "      <th>Manufacturer_ID</th>\n",
       "      <th>Current_Pincode_ID</th>\n",
       "      <th>Employment_Type</th>\n",
       "      <th>State_ID</th>\n",
       "      <th>...</th>\n",
       "      <th>PRIMARY_INSTAL_AMT</th>\n",
       "      <th>SEC_INSTAL_AMT</th>\n",
       "      <th>NEW_ACCTS_IN_LAST_SIX_MONTHS</th>\n",
       "      <th>DELINQUENT_ACCTS_IN_LAST_SIX_MONTHS</th>\n",
       "      <th>NO_OF_INQUIRIES</th>\n",
       "      <th>Loan_Default</th>\n",
       "      <th>Age</th>\n",
       "      <th>Time_Since_Loan_Dispursed_In_Yrs</th>\n",
       "      <th>CREDIT_HISTORY_LENGTH</th>\n",
       "      <th>AVERAGE_ACCT_AGE</th>\n",
       "    </tr>\n",
       "  </thead>\n",
       "  <tbody>\n",
       "    <tr>\n",
       "      <th>0</th>\n",
       "      <td>420825</td>\n",
       "      <td>50578</td>\n",
       "      <td>58400</td>\n",
       "      <td>89.55</td>\n",
       "      <td>30</td>\n",
       "      <td>1415</td>\n",
       "      <td>0</td>\n",
       "      <td>1339</td>\n",
       "      <td>Salaried</td>\n",
       "      <td>5</td>\n",
       "      <td>...</td>\n",
       "      <td>0</td>\n",
       "      <td>0</td>\n",
       "      <td>0</td>\n",
       "      <td>0</td>\n",
       "      <td>0</td>\n",
       "      <td>0</td>\n",
       "      <td>38.0</td>\n",
       "      <td>3.0</td>\n",
       "      <td>0.0</td>\n",
       "      <td>0.0</td>\n",
       "    </tr>\n",
       "    <tr>\n",
       "      <th>1</th>\n",
       "      <td>417566</td>\n",
       "      <td>53278</td>\n",
       "      <td>61360</td>\n",
       "      <td>89.63</td>\n",
       "      <td>30</td>\n",
       "      <td>1415</td>\n",
       "      <td>0</td>\n",
       "      <td>1392</td>\n",
       "      <td>Self employed</td>\n",
       "      <td>5</td>\n",
       "      <td>...</td>\n",
       "      <td>0</td>\n",
       "      <td>0</td>\n",
       "      <td>0</td>\n",
       "      <td>0</td>\n",
       "      <td>0</td>\n",
       "      <td>0</td>\n",
       "      <td>36.0</td>\n",
       "      <td>3.0</td>\n",
       "      <td>0.0</td>\n",
       "      <td>0.0</td>\n",
       "    </tr>\n",
       "    <tr>\n",
       "      <th>2</th>\n",
       "      <td>539055</td>\n",
       "      <td>52378</td>\n",
       "      <td>60300</td>\n",
       "      <td>88.39</td>\n",
       "      <td>30</td>\n",
       "      <td>1415</td>\n",
       "      <td>0</td>\n",
       "      <td>1391</td>\n",
       "      <td>Self employed</td>\n",
       "      <td>5</td>\n",
       "      <td>...</td>\n",
       "      <td>0</td>\n",
       "      <td>0</td>\n",
       "      <td>0</td>\n",
       "      <td>0</td>\n",
       "      <td>1</td>\n",
       "      <td>1</td>\n",
       "      <td>44.0</td>\n",
       "      <td>3.0</td>\n",
       "      <td>0.0</td>\n",
       "      <td>0.0</td>\n",
       "    </tr>\n",
       "    <tr>\n",
       "      <th>3</th>\n",
       "      <td>529269</td>\n",
       "      <td>46349</td>\n",
       "      <td>61500</td>\n",
       "      <td>76.42</td>\n",
       "      <td>30</td>\n",
       "      <td>1415</td>\n",
       "      <td>0</td>\n",
       "      <td>1397</td>\n",
       "      <td>Salaried</td>\n",
       "      <td>5</td>\n",
       "      <td>...</td>\n",
       "      <td>0</td>\n",
       "      <td>0</td>\n",
       "      <td>0</td>\n",
       "      <td>0</td>\n",
       "      <td>0</td>\n",
       "      <td>0</td>\n",
       "      <td>34.0</td>\n",
       "      <td>3.0</td>\n",
       "      <td>0.0</td>\n",
       "      <td>0.0</td>\n",
       "    </tr>\n",
       "    <tr>\n",
       "      <th>4</th>\n",
       "      <td>563215</td>\n",
       "      <td>43594</td>\n",
       "      <td>78256</td>\n",
       "      <td>57.50</td>\n",
       "      <td>30</td>\n",
       "      <td>1378</td>\n",
       "      <td>5</td>\n",
       "      <td>1394</td>\n",
       "      <td>Self employed</td>\n",
       "      <td>5</td>\n",
       "      <td>...</td>\n",
       "      <td>0</td>\n",
       "      <td>0</td>\n",
       "      <td>0</td>\n",
       "      <td>0</td>\n",
       "      <td>0</td>\n",
       "      <td>0</td>\n",
       "      <td>28.0</td>\n",
       "      <td>3.0</td>\n",
       "      <td>0.0</td>\n",
       "      <td>0.0</td>\n",
       "    </tr>\n",
       "  </tbody>\n",
       "</table>\n",
       "<p>5 rows × 41 columns</p>\n",
       "</div>"
      ],
      "text/plain": [
       "   Unique_ID  Disbursed_Amount  Asset_Cost    ltv  Branch_ID  Supplier_ID  \\\n",
       "0     420825             50578       58400  89.55         30         1415   \n",
       "1     417566             53278       61360  89.63         30         1415   \n",
       "2     539055             52378       60300  88.39         30         1415   \n",
       "3     529269             46349       61500  76.42         30         1415   \n",
       "4     563215             43594       78256  57.50         30         1378   \n",
       "\n",
       "   Manufacturer_ID  Current_Pincode_ID Employment_Type  State_ID  ...  \\\n",
       "0                0                1339        Salaried         5  ...   \n",
       "1                0                1392   Self employed         5  ...   \n",
       "2                0                1391   Self employed         5  ...   \n",
       "3                0                1397        Salaried         5  ...   \n",
       "4                5                1394   Self employed         5  ...   \n",
       "\n",
       "   PRIMARY_INSTAL_AMT  SEC_INSTAL_AMT  NEW_ACCTS_IN_LAST_SIX_MONTHS  \\\n",
       "0                   0               0                             0   \n",
       "1                   0               0                             0   \n",
       "2                   0               0                             0   \n",
       "3                   0               0                             0   \n",
       "4                   0               0                             0   \n",
       "\n",
       "   DELINQUENT_ACCTS_IN_LAST_SIX_MONTHS  NO_OF_INQUIRIES  Loan_Default   Age  \\\n",
       "0                                    0                0             0  38.0   \n",
       "1                                    0                0             0  36.0   \n",
       "2                                    0                1             1  44.0   \n",
       "3                                    0                0             0  34.0   \n",
       "4                                    0                0             0  28.0   \n",
       "\n",
       "   Time_Since_Loan_Dispursed_In_Yrs CREDIT_HISTORY_LENGTH  AVERAGE_ACCT_AGE  \n",
       "0                               3.0                   0.0               0.0  \n",
       "1                               3.0                   0.0               0.0  \n",
       "2                               3.0                   0.0               0.0  \n",
       "3                               3.0                   0.0               0.0  \n",
       "4                               3.0                   0.0               0.0  \n",
       "\n",
       "[5 rows x 41 columns]"
      ]
     },
     "execution_count": 115,
     "metadata": {},
     "output_type": "execute_result"
    }
   ],
   "source": [
    "data.head()"
   ]
  },
  {
   "cell_type": "code",
   "execution_count": 116,
   "id": "dfb0c5eb-4af8-453f-ac8a-169b2ca184c0",
   "metadata": {},
   "outputs": [
    {
     "data": {
      "text/plain": [
       "<AxesSubplot:xlabel='Disbursed_Amount', ylabel='Density'>"
      ]
     },
     "execution_count": 116,
     "metadata": {},
     "output_type": "execute_result"
    },
    {
     "data": {
      "image/png": "[encoded data removed]",
      "text/plain": [
       "<Figure size 432x288 with 1 Axes>"
      ]
     },
     "metadata": {
      "needs_background": "light"
     },
     "output_type": "display_data"
    }
   ],
   "source": [
    "sns.distplot(data['Disbursed_Amount'])"
   ]
  },
  {
   "cell_type": "code",
   "execution_count": 117,
   "id": "8f677faf-a672-4903-9dbd-6dde2e6c252f",
   "metadata": {},
   "outputs": [
    {
     "data": {
      "text/plain": [
       "<AxesSubplot:xlabel='Asset_Cost', ylabel='Density'>"
      ]
     },
     "execution_count": 117,
     "metadata": {},
     "output_type": "execute_result"
    },
    {
     "data": {
      "image/png": "[encoded data removed]",
      "text/plain": [
       "<Figure size 432x288 with 1 Axes>"
      ]
     },
     "metadata": {
      "needs_background": "light"
     },
     "output_type": "display_data"
    }
   ],
   "source": [
    "sns.distplot(data['Asset_Cost'])"
   ]
  },
  {
   "cell_type": "code",
   "execution_count": 118,
   "id": "e5a7a4a2-959e-424e-97c1-d673d51cc665",
   "metadata": {},
   "outputs": [
    {
     "data": {
      "text/plain": [
       "<AxesSubplot:xlabel='ltv', ylabel='Density'>"
      ]
     },
     "execution_count": 118,
     "metadata": {},
     "output_type": "execute_result"
    },
    {
     "data": {
      "image/png": "[encoded data removed]",
      "text/plain": [
       "<Figure size 432x288 with 1 Axes>"
      ]
     },
     "metadata": {
      "needs_background": "light"
     },
     "output_type": "display_data"
    }
   ],
   "source": [
    "sns.distplot(data['ltv'])"
   ]
  },
  {
   "cell_type": "code",
   "execution_count": 119,
   "id": "4088b64c-8764-450c-a027-07eb666aa57e",
   "metadata": {},
   "outputs": [
    {
     "data": {
      "text/plain": [
       "20"
      ]
     },
     "execution_count": 119,
     "metadata": {},
     "output_type": "execute_result"
    }
   ],
   "source": [
    "data['Perform_CNS_Score_Description'].nunique()"
   ]
  },
  {
   "cell_type": "code",
   "execution_count": 120,
   "id": "98647d92-e99e-4122-a258-32c460328421",
   "metadata": {},
   "outputs": [],
   "source": [
    "# for Perform_CNS_Score_Description reducing the 20 classes by replacing with wherever risk information we have\n",
    "data['Perform_CNS_Score_Description'].replace(to_replace=['Not Scored: More than 50 active Accounts found',\n",
    "                                                              'No Bureau History Available','Not Scored: No Activity seen on the customer (Inactive)',\n",
    "                                                              'Not Scored: No Updates available in last 36 months',\n",
    "                                                              'Not Enough Info available on the customer',\n",
    "                                                              'Not Scored: Only a Guarantor',\n",
    "                                                              'Not Scored: Sufficient History Not Available',\n",
    "                                                              'Not Scored: Not Enough Info available on the customer'], \n",
    "                                                  value= 'No_score', inplace = True)"
   ]
  },
  {
   "cell_type": "code",
   "execution_count": 121,
   "id": "4fe29da6-7353-4b88-bed6-f11eb4025ad0",
   "metadata": {},
   "outputs": [
    {
     "data": {
      "text/plain": [
       "No_score            129785\n",
       "C-Very Low Risk      16045\n",
       "A-Very Low Risk      14124\n",
       "D-Very Low Risk      11358\n",
       "B-Very Low Risk       9201\n",
       "M-Very High Risk      8776\n",
       "F-Low Risk            8485\n",
       "K-High Risk           8277\n",
       "H-Medium Risk         6855\n",
       "E-Low Risk            5821\n",
       "I-Medium Risk         5557\n",
       "G-Low Risk            3988\n",
       "J-High Risk           3748\n",
       "L-Very High Risk      1134\n",
       "Name: Perform_CNS_Score_Description, dtype: int64"
      ]
     },
     "execution_count": 121,
     "metadata": {},
     "output_type": "execute_result"
    }
   ],
   "source": [
    "data['Perform_CNS_Score_Description'].value_counts()"
   ]
  },
  {
   "cell_type": "code",
   "execution_count": 122,
   "id": "c4e17fca-3c2d-4faa-ae1b-4d00ee6f3a29",
   "metadata": {},
   "outputs": [
    {
     "data": {
      "text/plain": [
       "14"
      ]
     },
     "execution_count": 122,
     "metadata": {},
     "output_type": "execute_result"
    }
   ],
   "source": [
    "data['Perform_CNS_Score_Description'].nunique()"
   ]
  },
  {
   "cell_type": "code",
   "execution_count": 123,
   "id": "d86a0442-b9e9-4df7-97e4-bef85655ec49",
   "metadata": {},
   "outputs": [],
   "source": [
    "Very_Low_Risk=['A-Very Low Risk','B-Very Low Risk','C-Very Low Risk','D-Very Low Risk']\n",
    "Low_Risk= ['E-Low Risk','F-Low Risk','G-Low Risk']\n",
    "Midium_Risk= ['H-Medium Risk','I-Medium Risk']\n",
    "High_Risk= ['J-High Risk','K-High Risk']\n",
    "Very_High_Risk=['L-Very High Risk','M-Very High Risk']"
   ]
  },
  {
   "cell_type": "code",
   "execution_count": 124,
   "id": "a6cfd2f4-acb5-4ed0-ba8f-89970d017a7f",
   "metadata": {},
   "outputs": [],
   "source": [
    "data['Perform_CNS_Score_Description'].replace(to_replace='No_score',value = 0,inplace = True)\n",
    "\n",
    "data['Perform_CNS_Score_Description'].replace(to_replace=Very_Low_Risk, value= 1, inplace = True)\n",
    "\n",
    "data['Perform_CNS_Score_Description'].replace(to_replace=Low_Risk, value= 2, inplace = True)\n",
    "\n",
    "data['Perform_CNS_Score_Description'].replace(to_replace=Midium_Risk, value= 3, inplace = True)\n",
    "\n",
    "data['Perform_CNS_Score_Description'].replace(to_replace=High_Risk, value= 4, inplace = True)\n",
    "\n",
    "data['Perform_CNS_Score_Description'].replace(to_replace=Very_High_Risk, value= 5, inplace = True)"
   ]
  },
  {
   "cell_type": "code",
   "execution_count": 125,
   "id": "7d7b5538-02ee-437b-b09e-176a1251e072",
   "metadata": {},
   "outputs": [
    {
     "data": {
      "text/plain": [
       "0    129785\n",
       "1     50728\n",
       "2     18294\n",
       "3     12412\n",
       "4     12025\n",
       "5      9910\n",
       "Name: Perform_CNS_Score_Description, dtype: int64"
      ]
     },
     "execution_count": 125,
     "metadata": {},
     "output_type": "execute_result"
    }
   ],
   "source": [
    "data['Perform_CNS_Score_Description'].value_counts()"
   ]
  },
  {
   "cell_type": "code",
   "execution_count": 126,
   "id": "c33cafe6-c9ed-4f80-afed-9aaa6bcd6cae",
   "metadata": {},
   "outputs": [
    {
     "data": {
      "text/plain": [
       "Unique_ID                              233154\n",
       "Disbursed_Amount                        24565\n",
       "Asset_Cost                              46252\n",
       "ltv                                      6579\n",
       "Branch_ID                                  82\n",
       "Supplier_ID                              2953\n",
       "Manufacturer_ID                            11\n",
       "Current_Pincode_ID                       6698\n",
       "Employment_Type                             2\n",
       "State_ID                                   22\n",
       "Employee_Code_ID                         3270\n",
       "MobileNo_Avl_Flag                           1\n",
       "Aadhar_Flag                                 2\n",
       "PAN_Flag                                    2\n",
       "VoterID_Flag                                2\n",
       "Driving_Flag                                2\n",
       "Passport_Flag                               2\n",
       "Perform_CNS_Score                         573\n",
       "Perform_CNS_Score_Description               6\n",
       "PRI_NO_OF_ACCTS                           108\n",
       "PRI_ACTIVE_ACCTS                           40\n",
       "PRI_OVERDUE_ACCTS                          22\n",
       "PRI_CURRENT_BALANCE                     71341\n",
       "PRI_SANCTIONED_AMOUNT                   44390\n",
       "PRI_DISBURSED_AMOUNT                    47909\n",
       "SEC_NO_OF_ACCTS                            37\n",
       "SEC_ACTIVE_ACCTS                           23\n",
       "SEC_OVERDUE_ACCTS                           9\n",
       "SEC_CURRENT_BALANCE                      3246\n",
       "SEC_SANCTIONED_AMOUNT                    2223\n",
       "SEC_DISBURSED_AMOUNT                     2553\n",
       "PRIMARY_INSTAL_AMT                      28067\n",
       "SEC_INSTAL_AMT                           1918\n",
       "NEW_ACCTS_IN_LAST_SIX_MONTHS               26\n",
       "DELINQUENT_ACCTS_IN_LAST_SIX_MONTHS        14\n",
       "NO_OF_INQUIRIES                            25\n",
       "Loan_Default                                2\n",
       "Age                                        49\n",
       "Time_Since_Loan_Dispursed_In_Yrs            1\n",
       "CREDIT_HISTORY_LENGTH                     294\n",
       "AVERAGE_ACCT_AGE                          192\n",
       "dtype: int64"
      ]
     },
     "execution_count": 126,
     "metadata": {},
     "output_type": "execute_result"
    }
   ],
   "source": [
    "data.nunique()"
   ]
  },
  {
   "cell_type": "markdown",
   "id": "e5eeae38-f3df-40d9-9f53-1f1fa97c7061",
   "metadata": {},
   "source": [
    "#### Droping\n",
    "\n",
    "Here we need to look out for ID related variables such as manufacturer id employee id etc. how do we need whether we should select these variables? lets look from a financial stand point\n",
    "\n",
    "1. UniqueID - Unique id of loan candidate. this is purely nominal and needs to be dropped.\n",
    "\n",
    "2. Supplier_id - Denotes distinct supplier. needs to be dropped beacuse it is nominal.\n",
    "\n",
    "3. Current_Pincode_ID - Denotes location and has nothing to do with probablity of default or default prediction will be dropped.\n",
    "\n",
    "4. Branch_ID - There are 82 branch.ids denoting 82 seperate branches this variable denotes the branch from which the vehicle was taken .This is purely nominal and has no order at all so we can drop this variable.\n",
    "\n",
    "5. State_ID - Denotes the states registration of the vehicle (like MH for maharashtra , KA for karnataka) this may matter because prices of vehicals vary state to state.\n",
    "\n",
    "6. Employee_Code_ID - Nominal.\n",
    "\n",
    "7. VoterID_Flag - Certainly will make an impact,so it should be there in our analysis.\n",
    "\n",
    "8. Manufacturer_ID - There are 11 such variables and it denotes unique manufacturer for vehicles, So this should be considered since prices vary manufacturer to manufacturer."
   ]
  },
  {
   "cell_type": "code",
   "execution_count": 127,
   "id": "f5278b0d-86cd-4ad6-a837-a8cb3b620672",
   "metadata": {},
   "outputs": [],
   "source": [
    "data=data.drop(columns ='Unique_ID')\n",
    "\n",
    "data=data.drop(columns ='Supplier_ID')\n",
    "\n",
    "data=data.drop(columns ='Current_Pincode_ID')\n",
    "\n",
    "data=data.drop(columns ='Branch_ID')\n",
    "\n",
    "data=data.drop(columns ='Employee_Code_ID')"
   ]
  },
  {
   "cell_type": "code",
   "execution_count": 128,
   "id": "2f5bc017-0684-409a-8079-a59f6799e783",
   "metadata": {},
   "outputs": [],
   "source": [
    "data=data.drop(columns ='MobileNo_Avl_Flag')"
   ]
  },
  {
   "cell_type": "code",
   "execution_count": 129,
   "id": "776d28f0-2f1b-4d56-ae86-9b54b4bac0f5",
   "metadata": {},
   "outputs": [
    {
     "data": {
      "text/plain": [
       "Disbursed_Amount                       24565\n",
       "Asset_Cost                             46252\n",
       "ltv                                     6579\n",
       "Manufacturer_ID                           11\n",
       "Employment_Type                            2\n",
       "State_ID                                  22\n",
       "Aadhar_Flag                                2\n",
       "PAN_Flag                                   2\n",
       "VoterID_Flag                               2\n",
       "Driving_Flag                               2\n",
       "Passport_Flag                              2\n",
       "Perform_CNS_Score                        573\n",
       "Perform_CNS_Score_Description              6\n",
       "PRI_NO_OF_ACCTS                          108\n",
       "PRI_ACTIVE_ACCTS                          40\n",
       "PRI_OVERDUE_ACCTS                         22\n",
       "PRI_CURRENT_BALANCE                    71341\n",
       "PRI_SANCTIONED_AMOUNT                  44390\n",
       "PRI_DISBURSED_AMOUNT                   47909\n",
       "SEC_NO_OF_ACCTS                           37\n",
       "SEC_ACTIVE_ACCTS                          23\n",
       "SEC_OVERDUE_ACCTS                          9\n",
       "SEC_CURRENT_BALANCE                     3246\n",
       "SEC_SANCTIONED_AMOUNT                   2223\n",
       "SEC_DISBURSED_AMOUNT                    2553\n",
       "PRIMARY_INSTAL_AMT                     28067\n",
       "SEC_INSTAL_AMT                          1918\n",
       "NEW_ACCTS_IN_LAST_SIX_MONTHS              26\n",
       "DELINQUENT_ACCTS_IN_LAST_SIX_MONTHS       14\n",
       "NO_OF_INQUIRIES                           25\n",
       "Loan_Default                               2\n",
       "Age                                       49\n",
       "Time_Since_Loan_Dispursed_In_Yrs           1\n",
       "CREDIT_HISTORY_LENGTH                    294\n",
       "AVERAGE_ACCT_AGE                         192\n",
       "dtype: int64"
      ]
     },
     "execution_count": 129,
     "metadata": {},
     "output_type": "execute_result"
    }
   ],
   "source": [
    "data.nunique()"
   ]
  },
  {
   "cell_type": "code",
   "execution_count": 130,
   "id": "4755ceea-b430-402b-aefa-05e01850d470",
   "metadata": {},
   "outputs": [],
   "source": [
    "data=data.drop(columns ='Perform_CNS_Score')\n",
    "\n",
    "data=data.drop(columns ='PRI_NO_OF_ACCTS')\n",
    "\n",
    "data=data.drop(columns ='SEC_NO_OF_ACCTS')"
   ]
  },
  {
   "cell_type": "code",
   "execution_count": 131,
   "id": "9cc437ed-c969-46bb-8601-526e88a3d659",
   "metadata": {},
   "outputs": [
    {
     "name": "stdout",
     "output_type": "stream",
     "text": [
      "<class 'pandas.core.frame.DataFrame'>\n",
      "RangeIndex: 233154 entries, 0 to 233153\n",
      "Data columns (total 32 columns):\n",
      " #   Column                               Non-Null Count   Dtype  \n",
      "---  ------                               --------------   -----  \n",
      " 0   Disbursed_Amount                     233154 non-null  int64  \n",
      " 1   Asset_Cost                           233154 non-null  int64  \n",
      " 2   ltv                                  233154 non-null  float64\n",
      " 3   Manufacturer_ID                      233154 non-null  int64  \n",
      " 4   Employment_Type                      233154 non-null  object \n",
      " 5   State_ID                             233154 non-null  int64  \n",
      " 6   Aadhar_Flag                          233154 non-null  int64  \n",
      " 7   PAN_Flag                             233154 non-null  int64  \n",
      " 8   VoterID_Flag                         233154 non-null  int64  \n",
      " 9   Driving_Flag                         233154 non-null  int64  \n",
      " 10  Passport_Flag                        233154 non-null  int64  \n",
      " 11  Perform_CNS_Score_Description        233154 non-null  int64  \n",
      " 12  PRI_ACTIVE_ACCTS                     233154 non-null  int64  \n",
      " 13  PRI_OVERDUE_ACCTS                    233154 non-null  int64  \n",
      " 14  PRI_CURRENT_BALANCE                  233154 non-null  int64  \n",
      " 15  PRI_SANCTIONED_AMOUNT                233154 non-null  int64  \n",
      " 16  PRI_DISBURSED_AMOUNT                 233154 non-null  int64  \n",
      " 17  SEC_ACTIVE_ACCTS                     233154 non-null  int64  \n",
      " 18  SEC_OVERDUE_ACCTS                    233154 non-null  int64  \n",
      " 19  SEC_CURRENT_BALANCE                  233154 non-null  int64  \n",
      " 20  SEC_SANCTIONED_AMOUNT                233154 non-null  int64  \n",
      " 21  SEC_DISBURSED_AMOUNT                 233154 non-null  int64  \n",
      " 22  PRIMARY_INSTAL_AMT                   233154 non-null  int64  \n",
      " 23  SEC_INSTAL_AMT                       233154 non-null  int64  \n",
      " 24  NEW_ACCTS_IN_LAST_SIX_MONTHS         233154 non-null  int64  \n",
      " 25  DELINQUENT_ACCTS_IN_LAST_SIX_MONTHS  233154 non-null  int64  \n",
      " 26  NO_OF_INQUIRIES                      233154 non-null  int64  \n",
      " 27  Loan_Default                         233154 non-null  int64  \n",
      " 28  Age                                  233154 non-null  float64\n",
      " 29  Time_Since_Loan_Dispursed_In_Yrs     233154 non-null  float64\n",
      " 30  CREDIT_HISTORY_LENGTH                233154 non-null  float64\n",
      " 31  AVERAGE_ACCT_AGE                     233154 non-null  float64\n",
      "dtypes: float64(5), int64(26), object(1)\n",
      "memory usage: 56.9+ MB\n"
     ]
    }
   ],
   "source": [
    "data.info()"
   ]
  },
  {
   "cell_type": "code",
   "execution_count": 132,
   "id": "47b2ebae-7c10-4e30-9cca-eda538fab125",
   "metadata": {},
   "outputs": [
    {
     "data": {
      "text/plain": [
       "0         0\n",
       "1         1\n",
       "2         1\n",
       "3         0\n",
       "4         1\n",
       "         ..\n",
       "233149    1\n",
       "233150    1\n",
       "233151    1\n",
       "233152    1\n",
       "233153    1\n",
       "Name: Employment_Type, Length: 233154, dtype: int64"
      ]
     },
     "execution_count": 132,
     "metadata": {},
     "output_type": "execute_result"
    }
   ],
   "source": [
    "data['Employment_Type'] = Le.fit_transform(data['Employment_Type'])\n",
    "data['Employment_Type']"
   ]
  },
  {
   "cell_type": "markdown",
   "id": "94818ad2-35e3-4109-835b-aef02a10816b",
   "metadata": {},
   "source": [
    "#### Feature Selection "
   ]
  },
  {
   "cell_type": "code",
   "execution_count": 133,
   "id": "8092acfd-b0cf-4bb4-a94e-99a95973203e",
   "metadata": {},
   "outputs": [
    {
     "data": {
      "text/html": [
       "<div>\n",
       "<style scoped>\n",
       "    .dataframe tbody tr th:only-of-type {\n",
       "        vertical-align: middle;\n",
       "    }\n",
       "\n",
       "    .dataframe tbody tr th {\n",
       "        vertical-align: top;\n",
       "    }\n",
       "\n",
       "    .dataframe thead th {\n",
       "        text-align: right;\n",
       "    }\n",
       "</style>\n",
       "<table border=\"1\" class=\"dataframe\">\n",
       "  <thead>\n",
       "    <tr style=\"text-align: right;\">\n",
       "      <th></th>\n",
       "      <th>Disbursed_Amount</th>\n",
       "      <th>Asset_Cost</th>\n",
       "      <th>ltv</th>\n",
       "      <th>Manufacturer_ID</th>\n",
       "      <th>Employment_Type</th>\n",
       "      <th>State_ID</th>\n",
       "      <th>Aadhar_Flag</th>\n",
       "      <th>PAN_Flag</th>\n",
       "      <th>VoterID_Flag</th>\n",
       "      <th>Driving_Flag</th>\n",
       "      <th>...</th>\n",
       "      <th>PRIMARY_INSTAL_AMT</th>\n",
       "      <th>SEC_INSTAL_AMT</th>\n",
       "      <th>NEW_ACCTS_IN_LAST_SIX_MONTHS</th>\n",
       "      <th>DELINQUENT_ACCTS_IN_LAST_SIX_MONTHS</th>\n",
       "      <th>NO_OF_INQUIRIES</th>\n",
       "      <th>Loan_Default</th>\n",
       "      <th>Age</th>\n",
       "      <th>Time_Since_Loan_Dispursed_In_Yrs</th>\n",
       "      <th>CREDIT_HISTORY_LENGTH</th>\n",
       "      <th>AVERAGE_ACCT_AGE</th>\n",
       "    </tr>\n",
       "  </thead>\n",
       "  <tbody>\n",
       "    <tr>\n",
       "      <th>0</th>\n",
       "      <td>50578</td>\n",
       "      <td>58400</td>\n",
       "      <td>89.55</td>\n",
       "      <td>0</td>\n",
       "      <td>0</td>\n",
       "      <td>5</td>\n",
       "      <td>1</td>\n",
       "      <td>0</td>\n",
       "      <td>0</td>\n",
       "      <td>0</td>\n",
       "      <td>...</td>\n",
       "      <td>0</td>\n",
       "      <td>0</td>\n",
       "      <td>0</td>\n",
       "      <td>0</td>\n",
       "      <td>0</td>\n",
       "      <td>0</td>\n",
       "      <td>38.0</td>\n",
       "      <td>3.0</td>\n",
       "      <td>0.0</td>\n",
       "      <td>0.0</td>\n",
       "    </tr>\n",
       "    <tr>\n",
       "      <th>1</th>\n",
       "      <td>53278</td>\n",
       "      <td>61360</td>\n",
       "      <td>89.63</td>\n",
       "      <td>0</td>\n",
       "      <td>1</td>\n",
       "      <td>5</td>\n",
       "      <td>1</td>\n",
       "      <td>0</td>\n",
       "      <td>0</td>\n",
       "      <td>0</td>\n",
       "      <td>...</td>\n",
       "      <td>0</td>\n",
       "      <td>0</td>\n",
       "      <td>0</td>\n",
       "      <td>0</td>\n",
       "      <td>0</td>\n",
       "      <td>0</td>\n",
       "      <td>36.0</td>\n",
       "      <td>3.0</td>\n",
       "      <td>0.0</td>\n",
       "      <td>0.0</td>\n",
       "    </tr>\n",
       "    <tr>\n",
       "      <th>2</th>\n",
       "      <td>52378</td>\n",
       "      <td>60300</td>\n",
       "      <td>88.39</td>\n",
       "      <td>0</td>\n",
       "      <td>1</td>\n",
       "      <td>5</td>\n",
       "      <td>1</td>\n",
       "      <td>0</td>\n",
       "      <td>0</td>\n",
       "      <td>0</td>\n",
       "      <td>...</td>\n",
       "      <td>0</td>\n",
       "      <td>0</td>\n",
       "      <td>0</td>\n",
       "      <td>0</td>\n",
       "      <td>1</td>\n",
       "      <td>1</td>\n",
       "      <td>44.0</td>\n",
       "      <td>3.0</td>\n",
       "      <td>0.0</td>\n",
       "      <td>0.0</td>\n",
       "    </tr>\n",
       "    <tr>\n",
       "      <th>3</th>\n",
       "      <td>46349</td>\n",
       "      <td>61500</td>\n",
       "      <td>76.42</td>\n",
       "      <td>0</td>\n",
       "      <td>0</td>\n",
       "      <td>5</td>\n",
       "      <td>1</td>\n",
       "      <td>0</td>\n",
       "      <td>0</td>\n",
       "      <td>0</td>\n",
       "      <td>...</td>\n",
       "      <td>0</td>\n",
       "      <td>0</td>\n",
       "      <td>0</td>\n",
       "      <td>0</td>\n",
       "      <td>0</td>\n",
       "      <td>0</td>\n",
       "      <td>34.0</td>\n",
       "      <td>3.0</td>\n",
       "      <td>0.0</td>\n",
       "      <td>0.0</td>\n",
       "    </tr>\n",
       "    <tr>\n",
       "      <th>4</th>\n",
       "      <td>43594</td>\n",
       "      <td>78256</td>\n",
       "      <td>57.50</td>\n",
       "      <td>5</td>\n",
       "      <td>1</td>\n",
       "      <td>5</td>\n",
       "      <td>1</td>\n",
       "      <td>0</td>\n",
       "      <td>0</td>\n",
       "      <td>0</td>\n",
       "      <td>...</td>\n",
       "      <td>0</td>\n",
       "      <td>0</td>\n",
       "      <td>0</td>\n",
       "      <td>0</td>\n",
       "      <td>0</td>\n",
       "      <td>0</td>\n",
       "      <td>28.0</td>\n",
       "      <td>3.0</td>\n",
       "      <td>0.0</td>\n",
       "      <td>0.0</td>\n",
       "    </tr>\n",
       "  </tbody>\n",
       "</table>\n",
       "<p>5 rows × 32 columns</p>\n",
       "</div>"
      ],
      "text/plain": [
       "   Disbursed_Amount  Asset_Cost    ltv  Manufacturer_ID  Employment_Type  \\\n",
       "0             50578       58400  89.55                0                0   \n",
       "1             53278       61360  89.63                0                1   \n",
       "2             52378       60300  88.39                0                1   \n",
       "3             46349       61500  76.42                0                0   \n",
       "4             43594       78256  57.50                5                1   \n",
       "\n",
       "   State_ID  Aadhar_Flag  PAN_Flag  VoterID_Flag  Driving_Flag  ...  \\\n",
       "0         5            1         0             0             0  ...   \n",
       "1         5            1         0             0             0  ...   \n",
       "2         5            1         0             0             0  ...   \n",
       "3         5            1         0             0             0  ...   \n",
       "4         5            1         0             0             0  ...   \n",
       "\n",
       "   PRIMARY_INSTAL_AMT  SEC_INSTAL_AMT  NEW_ACCTS_IN_LAST_SIX_MONTHS  \\\n",
       "0                   0               0                             0   \n",
       "1                   0               0                             0   \n",
       "2                   0               0                             0   \n",
       "3                   0               0                             0   \n",
       "4                   0               0                             0   \n",
       "\n",
       "   DELINQUENT_ACCTS_IN_LAST_SIX_MONTHS  NO_OF_INQUIRIES  Loan_Default   Age  \\\n",
       "0                                    0                0             0  38.0   \n",
       "1                                    0                0             0  36.0   \n",
       "2                                    0                1             1  44.0   \n",
       "3                                    0                0             0  34.0   \n",
       "4                                    0                0             0  28.0   \n",
       "\n",
       "   Time_Since_Loan_Dispursed_In_Yrs  CREDIT_HISTORY_LENGTH  AVERAGE_ACCT_AGE  \n",
       "0                               3.0                    0.0               0.0  \n",
       "1                               3.0                    0.0               0.0  \n",
       "2                               3.0                    0.0               0.0  \n",
       "3                               3.0                    0.0               0.0  \n",
       "4                               3.0                    0.0               0.0  \n",
       "\n",
       "[5 rows x 32 columns]"
      ]
     },
     "execution_count": 133,
     "metadata": {},
     "output_type": "execute_result"
    }
   ],
   "source": [
    "data.head()"
   ]
  },
  {
   "cell_type": "markdown",
   "id": "9e171be1-2a97-4ddc-9773-91c16c87089a",
   "metadata": {
    "tags": []
   },
   "source": [
    "### Split the data into training and test set in the ratio of 70:30 respectively"
   ]
  },
  {
   "cell_type": "code",
   "execution_count": 134,
   "id": "18631bcc-cf22-4c97-a066-5025af87104e",
   "metadata": {},
   "outputs": [],
   "source": [
    "X = data.loc[:, data.columns != 'Loan_Default']  # independent variables\n",
    "\n",
    "y = data.loc[:, data.columns == 'Loan_Default']  # Target variable"
   ]
  },
  {
   "cell_type": "code",
   "execution_count": 135,
   "id": "f655e594-e89c-40de-a509-8e82265283eb",
   "metadata": {},
   "outputs": [],
   "source": [
    "X = pd.get_dummies(X,drop_first=True)"
   ]
  },
  {
   "cell_type": "code",
   "execution_count": 136,
   "id": "7c2a513a-9f26-42f7-a283-c5cb65e35caf",
   "metadata": {},
   "outputs": [
    {
     "data": {
      "text/html": [
       "<div>\n",
       "<style scoped>\n",
       "    .dataframe tbody tr th:only-of-type {\n",
       "        vertical-align: middle;\n",
       "    }\n",
       "\n",
       "    .dataframe tbody tr th {\n",
       "        vertical-align: top;\n",
       "    }\n",
       "\n",
       "    .dataframe thead th {\n",
       "        text-align: right;\n",
       "    }\n",
       "</style>\n",
       "<table border=\"1\" class=\"dataframe\">\n",
       "  <thead>\n",
       "    <tr style=\"text-align: right;\">\n",
       "      <th></th>\n",
       "      <th>Loan_Default</th>\n",
       "    </tr>\n",
       "  </thead>\n",
       "  <tbody>\n",
       "    <tr>\n",
       "      <th>0</th>\n",
       "      <td>0</td>\n",
       "    </tr>\n",
       "    <tr>\n",
       "      <th>1</th>\n",
       "      <td>0</td>\n",
       "    </tr>\n",
       "    <tr>\n",
       "      <th>2</th>\n",
       "      <td>1</td>\n",
       "    </tr>\n",
       "    <tr>\n",
       "      <th>3</th>\n",
       "      <td>0</td>\n",
       "    </tr>\n",
       "    <tr>\n",
       "      <th>4</th>\n",
       "      <td>0</td>\n",
       "    </tr>\n",
       "  </tbody>\n",
       "</table>\n",
       "</div>"
      ],
      "text/plain": [
       "   Loan_Default\n",
       "0             0\n",
       "1             0\n",
       "2             1\n",
       "3             0\n",
       "4             0"
      ]
     },
     "execution_count": 136,
     "metadata": {},
     "output_type": "execute_result"
    }
   ],
   "source": [
    "y.head()  "
   ]
  },
  {
   "cell_type": "code",
   "execution_count": 137,
   "id": "8fc435d4-25e7-4576-a585-5666502a2461",
   "metadata": {},
   "outputs": [
    {
     "data": {
      "text/html": [
       "<div>\n",
       "<style scoped>\n",
       "    .dataframe tbody tr th:only-of-type {\n",
       "        vertical-align: middle;\n",
       "    }\n",
       "\n",
       "    .dataframe tbody tr th {\n",
       "        vertical-align: top;\n",
       "    }\n",
       "\n",
       "    .dataframe thead th {\n",
       "        text-align: right;\n",
       "    }\n",
       "</style>\n",
       "<table border=\"1\" class=\"dataframe\">\n",
       "  <thead>\n",
       "    <tr style=\"text-align: right;\">\n",
       "      <th></th>\n",
       "      <th>Disbursed_Amount</th>\n",
       "      <th>Asset_Cost</th>\n",
       "      <th>ltv</th>\n",
       "      <th>Manufacturer_ID</th>\n",
       "      <th>Employment_Type</th>\n",
       "      <th>State_ID</th>\n",
       "      <th>Aadhar_Flag</th>\n",
       "      <th>PAN_Flag</th>\n",
       "      <th>VoterID_Flag</th>\n",
       "      <th>Driving_Flag</th>\n",
       "      <th>...</th>\n",
       "      <th>SEC_DISBURSED_AMOUNT</th>\n",
       "      <th>PRIMARY_INSTAL_AMT</th>\n",
       "      <th>SEC_INSTAL_AMT</th>\n",
       "      <th>NEW_ACCTS_IN_LAST_SIX_MONTHS</th>\n",
       "      <th>DELINQUENT_ACCTS_IN_LAST_SIX_MONTHS</th>\n",
       "      <th>NO_OF_INQUIRIES</th>\n",
       "      <th>Age</th>\n",
       "      <th>Time_Since_Loan_Dispursed_In_Yrs</th>\n",
       "      <th>CREDIT_HISTORY_LENGTH</th>\n",
       "      <th>AVERAGE_ACCT_AGE</th>\n",
       "    </tr>\n",
       "  </thead>\n",
       "  <tbody>\n",
       "    <tr>\n",
       "      <th>0</th>\n",
       "      <td>50578</td>\n",
       "      <td>58400</td>\n",
       "      <td>89.55</td>\n",
       "      <td>0</td>\n",
       "      <td>0</td>\n",
       "      <td>5</td>\n",
       "      <td>1</td>\n",
       "      <td>0</td>\n",
       "      <td>0</td>\n",
       "      <td>0</td>\n",
       "      <td>...</td>\n",
       "      <td>0</td>\n",
       "      <td>0</td>\n",
       "      <td>0</td>\n",
       "      <td>0</td>\n",
       "      <td>0</td>\n",
       "      <td>0</td>\n",
       "      <td>38.0</td>\n",
       "      <td>3.0</td>\n",
       "      <td>0.0</td>\n",
       "      <td>0.0</td>\n",
       "    </tr>\n",
       "    <tr>\n",
       "      <th>1</th>\n",
       "      <td>53278</td>\n",
       "      <td>61360</td>\n",
       "      <td>89.63</td>\n",
       "      <td>0</td>\n",
       "      <td>1</td>\n",
       "      <td>5</td>\n",
       "      <td>1</td>\n",
       "      <td>0</td>\n",
       "      <td>0</td>\n",
       "      <td>0</td>\n",
       "      <td>...</td>\n",
       "      <td>0</td>\n",
       "      <td>0</td>\n",
       "      <td>0</td>\n",
       "      <td>0</td>\n",
       "      <td>0</td>\n",
       "      <td>0</td>\n",
       "      <td>36.0</td>\n",
       "      <td>3.0</td>\n",
       "      <td>0.0</td>\n",
       "      <td>0.0</td>\n",
       "    </tr>\n",
       "    <tr>\n",
       "      <th>2</th>\n",
       "      <td>52378</td>\n",
       "      <td>60300</td>\n",
       "      <td>88.39</td>\n",
       "      <td>0</td>\n",
       "      <td>1</td>\n",
       "      <td>5</td>\n",
       "      <td>1</td>\n",
       "      <td>0</td>\n",
       "      <td>0</td>\n",
       "      <td>0</td>\n",
       "      <td>...</td>\n",
       "      <td>0</td>\n",
       "      <td>0</td>\n",
       "      <td>0</td>\n",
       "      <td>0</td>\n",
       "      <td>0</td>\n",
       "      <td>1</td>\n",
       "      <td>44.0</td>\n",
       "      <td>3.0</td>\n",
       "      <td>0.0</td>\n",
       "      <td>0.0</td>\n",
       "    </tr>\n",
       "    <tr>\n",
       "      <th>3</th>\n",
       "      <td>46349</td>\n",
       "      <td>61500</td>\n",
       "      <td>76.42</td>\n",
       "      <td>0</td>\n",
       "      <td>0</td>\n",
       "      <td>5</td>\n",
       "      <td>1</td>\n",
       "      <td>0</td>\n",
       "      <td>0</td>\n",
       "      <td>0</td>\n",
       "      <td>...</td>\n",
       "      <td>0</td>\n",
       "      <td>0</td>\n",
       "      <td>0</td>\n",
       "      <td>0</td>\n",
       "      <td>0</td>\n",
       "      <td>0</td>\n",
       "      <td>34.0</td>\n",
       "      <td>3.0</td>\n",
       "      <td>0.0</td>\n",
       "      <td>0.0</td>\n",
       "    </tr>\n",
       "    <tr>\n",
       "      <th>4</th>\n",
       "      <td>43594</td>\n",
       "      <td>78256</td>\n",
       "      <td>57.50</td>\n",
       "      <td>5</td>\n",
       "      <td>1</td>\n",
       "      <td>5</td>\n",
       "      <td>1</td>\n",
       "      <td>0</td>\n",
       "      <td>0</td>\n",
       "      <td>0</td>\n",
       "      <td>...</td>\n",
       "      <td>0</td>\n",
       "      <td>0</td>\n",
       "      <td>0</td>\n",
       "      <td>0</td>\n",
       "      <td>0</td>\n",
       "      <td>0</td>\n",
       "      <td>28.0</td>\n",
       "      <td>3.0</td>\n",
       "      <td>0.0</td>\n",
       "      <td>0.0</td>\n",
       "    </tr>\n",
       "  </tbody>\n",
       "</table>\n",
       "<p>5 rows × 31 columns</p>\n",
       "</div>"
      ],
      "text/plain": [
       "   Disbursed_Amount  Asset_Cost    ltv  Manufacturer_ID  Employment_Type  \\\n",
       "0             50578       58400  89.55                0                0   \n",
       "1             53278       61360  89.63                0                1   \n",
       "2             52378       60300  88.39                0                1   \n",
       "3             46349       61500  76.42                0                0   \n",
       "4             43594       78256  57.50                5                1   \n",
       "\n",
       "   State_ID  Aadhar_Flag  PAN_Flag  VoterID_Flag  Driving_Flag  ...  \\\n",
       "0         5            1         0             0             0  ...   \n",
       "1         5            1         0             0             0  ...   \n",
       "2         5            1         0             0             0  ...   \n",
       "3         5            1         0             0             0  ...   \n",
       "4         5            1         0             0             0  ...   \n",
       "\n",
       "   SEC_DISBURSED_AMOUNT  PRIMARY_INSTAL_AMT  SEC_INSTAL_AMT  \\\n",
       "0                     0                   0               0   \n",
       "1                     0                   0               0   \n",
       "2                     0                   0               0   \n",
       "3                     0                   0               0   \n",
       "4                     0                   0               0   \n",
       "\n",
       "   NEW_ACCTS_IN_LAST_SIX_MONTHS  DELINQUENT_ACCTS_IN_LAST_SIX_MONTHS  \\\n",
       "0                             0                                    0   \n",
       "1                             0                                    0   \n",
       "2                             0                                    0   \n",
       "3                             0                                    0   \n",
       "4                             0                                    0   \n",
       "\n",
       "   NO_OF_INQUIRIES   Age  Time_Since_Loan_Dispursed_In_Yrs  \\\n",
       "0                0  38.0                               3.0   \n",
       "1                0  36.0                               3.0   \n",
       "2                1  44.0                               3.0   \n",
       "3                0  34.0                               3.0   \n",
       "4                0  28.0                               3.0   \n",
       "\n",
       "   CREDIT_HISTORY_LENGTH  AVERAGE_ACCT_AGE  \n",
       "0                    0.0               0.0  \n",
       "1                    0.0               0.0  \n",
       "2                    0.0               0.0  \n",
       "3                    0.0               0.0  \n",
       "4                    0.0               0.0  \n",
       "\n",
       "[5 rows x 31 columns]"
      ]
     },
     "execution_count": 137,
     "metadata": {},
     "output_type": "execute_result"
    }
   ],
   "source": [
    "X.head()"
   ]
  },
  {
   "cell_type": "markdown",
   "id": "9e997bde-526d-4c42-8d21-bc4896fabf51",
   "metadata": {},
   "source": [
    "#### Create the training and test data set in the ratio of 70:30 respectively"
   ]
  },
  {
   "cell_type": "code",
   "execution_count": 138,
   "id": "106a1fb0-a35e-4c00-ba61-90951f19f4d9",
   "metadata": {},
   "outputs": [],
   "source": [
    "from sklearn.model_selection import train_test_split\n",
    "\n",
    "X_train, X_test, y_train, y_test = train_test_split(X,y,test_size=0.3,random_state=70)"
   ]
  },
  {
   "cell_type": "code",
   "execution_count": 139,
   "id": "677f8373-3c84-4eee-9722-ff32dc069885",
   "metadata": {},
   "outputs": [
    {
     "data": {
      "text/plain": [
       "((163207, 31), (69947, 31))"
      ]
     },
     "execution_count": 139,
     "metadata": {},
     "output_type": "execute_result"
    }
   ],
   "source": [
    "X_train.shape,X_test.shape"
   ]
  },
  {
   "cell_type": "code",
   "execution_count": 140,
   "id": "928965ce-1f34-476d-a8e5-362a15d4df83",
   "metadata": {},
   "outputs": [
    {
     "data": {
      "text/html": [
       "<div>\n",
       "<style scoped>\n",
       "    .dataframe tbody tr th:only-of-type {\n",
       "        vertical-align: middle;\n",
       "    }\n",
       "\n",
       "    .dataframe tbody tr th {\n",
       "        vertical-align: top;\n",
       "    }\n",
       "\n",
       "    .dataframe thead th {\n",
       "        text-align: right;\n",
       "    }\n",
       "</style>\n",
       "<table border=\"1\" class=\"dataframe\">\n",
       "  <thead>\n",
       "    <tr style=\"text-align: right;\">\n",
       "      <th></th>\n",
       "      <th>Disbursed_Amount</th>\n",
       "      <th>Asset_Cost</th>\n",
       "      <th>ltv</th>\n",
       "      <th>Manufacturer_ID</th>\n",
       "      <th>Employment_Type</th>\n",
       "      <th>State_ID</th>\n",
       "      <th>Aadhar_Flag</th>\n",
       "      <th>PAN_Flag</th>\n",
       "      <th>VoterID_Flag</th>\n",
       "      <th>Driving_Flag</th>\n",
       "      <th>...</th>\n",
       "      <th>SEC_DISBURSED_AMOUNT</th>\n",
       "      <th>PRIMARY_INSTAL_AMT</th>\n",
       "      <th>SEC_INSTAL_AMT</th>\n",
       "      <th>NEW_ACCTS_IN_LAST_SIX_MONTHS</th>\n",
       "      <th>DELINQUENT_ACCTS_IN_LAST_SIX_MONTHS</th>\n",
       "      <th>NO_OF_INQUIRIES</th>\n",
       "      <th>Age</th>\n",
       "      <th>Time_Since_Loan_Dispursed_In_Yrs</th>\n",
       "      <th>CREDIT_HISTORY_LENGTH</th>\n",
       "      <th>AVERAGE_ACCT_AGE</th>\n",
       "    </tr>\n",
       "  </thead>\n",
       "  <tbody>\n",
       "    <tr>\n",
       "      <th>196231</th>\n",
       "      <td>59947</td>\n",
       "      <td>68000</td>\n",
       "      <td>89.71</td>\n",
       "      <td>5</td>\n",
       "      <td>1</td>\n",
       "      <td>3</td>\n",
       "      <td>1</td>\n",
       "      <td>0</td>\n",
       "      <td>0</td>\n",
       "      <td>0</td>\n",
       "      <td>...</td>\n",
       "      <td>0</td>\n",
       "      <td>26</td>\n",
       "      <td>0</td>\n",
       "      <td>0</td>\n",
       "      <td>1</td>\n",
       "      <td>1</td>\n",
       "      <td>31.0</td>\n",
       "      <td>3.0</td>\n",
       "      <td>0.33</td>\n",
       "      <td>0.33</td>\n",
       "    </tr>\n",
       "    <tr>\n",
       "      <th>87386</th>\n",
       "      <td>56259</td>\n",
       "      <td>66216</td>\n",
       "      <td>87.59</td>\n",
       "      <td>5</td>\n",
       "      <td>1</td>\n",
       "      <td>14</td>\n",
       "      <td>1</td>\n",
       "      <td>0</td>\n",
       "      <td>0</td>\n",
       "      <td>0</td>\n",
       "      <td>...</td>\n",
       "      <td>0</td>\n",
       "      <td>0</td>\n",
       "      <td>0</td>\n",
       "      <td>0</td>\n",
       "      <td>0</td>\n",
       "      <td>0</td>\n",
       "      <td>49.0</td>\n",
       "      <td>3.0</td>\n",
       "      <td>0.00</td>\n",
       "      <td>0.00</td>\n",
       "    </tr>\n",
       "    <tr>\n",
       "      <th>80118</th>\n",
       "      <td>47549</td>\n",
       "      <td>62240</td>\n",
       "      <td>78.73</td>\n",
       "      <td>3</td>\n",
       "      <td>1</td>\n",
       "      <td>0</td>\n",
       "      <td>1</td>\n",
       "      <td>0</td>\n",
       "      <td>0</td>\n",
       "      <td>0</td>\n",
       "      <td>...</td>\n",
       "      <td>0</td>\n",
       "      <td>0</td>\n",
       "      <td>0</td>\n",
       "      <td>0</td>\n",
       "      <td>0</td>\n",
       "      <td>0</td>\n",
       "      <td>31.0</td>\n",
       "      <td>3.0</td>\n",
       "      <td>0.00</td>\n",
       "      <td>0.00</td>\n",
       "    </tr>\n",
       "    <tr>\n",
       "      <th>94938</th>\n",
       "      <td>66169</td>\n",
       "      <td>105104</td>\n",
       "      <td>63.75</td>\n",
       "      <td>3</td>\n",
       "      <td>1</td>\n",
       "      <td>2</td>\n",
       "      <td>1</td>\n",
       "      <td>0</td>\n",
       "      <td>0</td>\n",
       "      <td>0</td>\n",
       "      <td>...</td>\n",
       "      <td>0</td>\n",
       "      <td>0</td>\n",
       "      <td>0</td>\n",
       "      <td>0</td>\n",
       "      <td>0</td>\n",
       "      <td>0</td>\n",
       "      <td>25.0</td>\n",
       "      <td>3.0</td>\n",
       "      <td>0.00</td>\n",
       "      <td>0.00</td>\n",
       "    </tr>\n",
       "    <tr>\n",
       "      <th>20441</th>\n",
       "      <td>57853</td>\n",
       "      <td>76195</td>\n",
       "      <td>81.37</td>\n",
       "      <td>5</td>\n",
       "      <td>1</td>\n",
       "      <td>3</td>\n",
       "      <td>1</td>\n",
       "      <td>0</td>\n",
       "      <td>0</td>\n",
       "      <td>0</td>\n",
       "      <td>...</td>\n",
       "      <td>0</td>\n",
       "      <td>0</td>\n",
       "      <td>0</td>\n",
       "      <td>0</td>\n",
       "      <td>0</td>\n",
       "      <td>0</td>\n",
       "      <td>34.0</td>\n",
       "      <td>3.0</td>\n",
       "      <td>0.00</td>\n",
       "      <td>0.00</td>\n",
       "    </tr>\n",
       "  </tbody>\n",
       "</table>\n",
       "<p>5 rows × 31 columns</p>\n",
       "</div>"
      ],
      "text/plain": [
       "        Disbursed_Amount  Asset_Cost    ltv  Manufacturer_ID  Employment_Type  \\\n",
       "196231             59947       68000  89.71                5                1   \n",
       "87386              56259       66216  87.59                5                1   \n",
       "80118              47549       62240  78.73                3                1   \n",
       "94938              66169      105104  63.75                3                1   \n",
       "20441              57853       76195  81.37                5                1   \n",
       "\n",
       "        State_ID  Aadhar_Flag  PAN_Flag  VoterID_Flag  Driving_Flag  ...  \\\n",
       "196231         3            1         0             0             0  ...   \n",
       "87386         14            1         0             0             0  ...   \n",
       "80118          0            1         0             0             0  ...   \n",
       "94938          2            1         0             0             0  ...   \n",
       "20441          3            1         0             0             0  ...   \n",
       "\n",
       "        SEC_DISBURSED_AMOUNT  PRIMARY_INSTAL_AMT  SEC_INSTAL_AMT  \\\n",
       "196231                     0                  26               0   \n",
       "87386                      0                   0               0   \n",
       "80118                      0                   0               0   \n",
       "94938                      0                   0               0   \n",
       "20441                      0                   0               0   \n",
       "\n",
       "        NEW_ACCTS_IN_LAST_SIX_MONTHS  DELINQUENT_ACCTS_IN_LAST_SIX_MONTHS  \\\n",
       "196231                             0                                    1   \n",
       "87386                              0                                    0   \n",
       "80118                              0                                    0   \n",
       "94938                              0                                    0   \n",
       "20441                              0                                    0   \n",
       "\n",
       "        NO_OF_INQUIRIES   Age  Time_Since_Loan_Dispursed_In_Yrs  \\\n",
       "196231                1  31.0                               3.0   \n",
       "87386                 0  49.0                               3.0   \n",
       "80118                 0  31.0                               3.0   \n",
       "94938                 0  25.0                               3.0   \n",
       "20441                 0  34.0                               3.0   \n",
       "\n",
       "        CREDIT_HISTORY_LENGTH  AVERAGE_ACCT_AGE  \n",
       "196231                   0.33              0.33  \n",
       "87386                    0.00              0.00  \n",
       "80118                    0.00              0.00  \n",
       "94938                    0.00              0.00  \n",
       "20441                    0.00              0.00  \n",
       "\n",
       "[5 rows x 31 columns]"
      ]
     },
     "execution_count": 140,
     "metadata": {},
     "output_type": "execute_result"
    }
   ],
   "source": [
    "X_train.head()"
   ]
  },
  {
   "cell_type": "code",
   "execution_count": 141,
   "id": "94a70e5c-f4f7-4c41-9d25-dc8b942ad9cb",
   "metadata": {},
   "outputs": [],
   "source": [
    "## importing necessary metrics to evaluate model performance\n",
    "\n",
    "from sklearn.metrics import confusion_matrix, recall_score, precision_score, f1_score, roc_auc_score,roc_curve, classification_report\n",
    "\n",
    "# Blanks list to store model name, training score, testing score, recall, precision and roc\n",
    "\n",
    "algo= []\n",
    "tr = []\n",
    "te = []\n",
    "recall = []\n",
    "precision = []\n",
    "roc = []"
   ]
  },
  {
   "cell_type": "markdown",
   "id": "67f24cb8-2d47-4c4d-b7a9-470d247e55c4",
   "metadata": {
    "tags": []
   },
   "source": [
    "#### Logistic Regression"
   ]
  },
  {
   "cell_type": "code",
   "execution_count": 142,
   "id": "7fdf0aa6-2c4a-40ac-adb1-210220906145",
   "metadata": {},
   "outputs": [
    {
     "data": {
      "text/plain": [
       "LogisticRegression(random_state=7)"
      ]
     },
     "execution_count": 142,
     "metadata": {},
     "output_type": "execute_result"
    }
   ],
   "source": [
    "# Logistic Regression\n",
    "from sklearn.linear_model import LogisticRegression\n",
    "model = LogisticRegression(random_state=7)\n",
    "\n",
    "model.fit(X_train, y_train)"
   ]
  },
  {
   "cell_type": "code",
   "execution_count": 143,
   "id": "deb01ed7-24d0-47b3-a3f1-d72b026f33c5",
   "metadata": {},
   "outputs": [
    {
     "data": {
      "text/plain": [
       "array([[ 0., -0., -0., -0., -0., -0., -0., -0.,  0., -0., -0.,  0., -0.,\n",
       "         0., -0., -0.,  0., -0., -0.,  0., -0.,  0., -0.,  0., -0.,  0.,\n",
       "         0., -0., -0., -0., -0.]])"
      ]
     },
     "execution_count": 143,
     "metadata": {},
     "output_type": "execute_result"
    }
   ],
   "source": [
    "model.coef_.round(2)"
   ]
  },
  {
   "cell_type": "code",
   "execution_count": 144,
   "id": "aa1f05a1-0207-47b9-8047-09481bf7ee27",
   "metadata": {},
   "outputs": [
    {
     "data": {
      "text/plain": [
       "array([-0.])"
      ]
     },
     "execution_count": 144,
     "metadata": {},
     "output_type": "execute_result"
    }
   ],
   "source": [
    "model.intercept_.round(2)"
   ]
  },
  {
   "cell_type": "code",
   "execution_count": 145,
   "id": "ebdf8ffe-7b8d-4ef0-bee8-79efd8f8f2f2",
   "metadata": {},
   "outputs": [],
   "source": [
    "y_pred_class=model.predict(X_test)\n",
    "y_pred_prob=model.predict_proba(X_test)"
   ]
  },
  {
   "cell_type": "code",
   "execution_count": 146,
   "id": "1a521530-bd37-4181-a704-e2928b96c12c",
   "metadata": {},
   "outputs": [
    {
     "data": {
      "text/plain": [
       "array([0, 0, 0, 0, 0, 0, 0, 0, 0, 0, 0, 0, 0, 0, 0, 0, 0, 0, 0, 0])"
      ]
     },
     "execution_count": 146,
     "metadata": {},
     "output_type": "execute_result"
    }
   ],
   "source": [
    "y_pred_class[:20]"
   ]
  },
  {
   "cell_type": "code",
   "execution_count": 147,
   "id": "b56de626-9247-4990-83cd-36a083e816f7",
   "metadata": {},
   "outputs": [
    {
     "data": {
      "text/plain": [
       "array([0, 0, 0, 0, 0])"
      ]
     },
     "execution_count": 147,
     "metadata": {},
     "output_type": "execute_result"
    }
   ],
   "source": [
    "y_pred_class[:5][:]"
   ]
  },
  {
   "cell_type": "code",
   "execution_count": 148,
   "id": "15ec64b4-3c10-4bf2-a26c-3bf7216ebbb4",
   "metadata": {},
   "outputs": [
    {
     "data": {
      "text/plain": [
       "array([[0.72924768, 0.27075232],\n",
       "       [0.77390203, 0.22609797],\n",
       "       [0.75944397, 0.24055603],\n",
       "       [0.79513968, 0.20486032],\n",
       "       [0.93225424, 0.06774576]])"
      ]
     },
     "execution_count": 148,
     "metadata": {},
     "output_type": "execute_result"
    }
   ],
   "source": [
    "y_pred_prob[:5,:]"
   ]
  },
  {
   "cell_type": "code",
   "execution_count": 149,
   "id": "82065c9e-2ff3-48d1-88d2-165ba17626c2",
   "metadata": {},
   "outputs": [
    {
     "data": {
      "text/plain": [
       "array([0.72924768, 0.77390203, 0.75944397, 0.79513968, 0.93225424])"
      ]
     },
     "execution_count": 149,
     "metadata": {},
     "output_type": "execute_result"
    }
   ],
   "source": [
    "y_pred_prob[:5,0]"
   ]
  },
  {
   "cell_type": "code",
   "execution_count": 150,
   "id": "b96d372a-ba72-4947-82c1-c89245aa849d",
   "metadata": {},
   "outputs": [
    {
     "data": {
      "text/plain": [
       "array([1, 1, 1, 1, 1])"
      ]
     },
     "execution_count": 150,
     "metadata": {},
     "output_type": "execute_result"
    }
   ],
   "source": [
    "#y_pred_prob[:20,:]\n",
    "(y_pred_prob[:5,0]>0.5)*1"
   ]
  },
  {
   "cell_type": "markdown",
   "id": "d2e88d6f-bbcf-4396-84ef-b094655d28cc",
   "metadata": {
    "tags": []
   },
   "source": [
    "#### Confusion Matrix"
   ]
  },
  {
   "cell_type": "code",
   "execution_count": 155,
   "id": "bedf0ca0-02f5-4e4c-8a39-d80619a0f7b4",
   "metadata": {},
   "outputs": [],
   "source": [
    "## function to get confusion matrix in a proper format\n",
    "def draw_cm( actual, predicted ):\n",
    "    cm = confusion_matrix( actual, predicted)\n",
    "    sns.heatmap(cm, annot=True,  fmt='.0f', xticklabels = [0,1] , yticklabels = [0,1] )"
   ]
  },
  {
   "cell_type": "code",
   "execution_count": 156,
   "id": "3e2fcaac-4d20-43f2-8cc8-241e6bc32828",
   "metadata": {},
   "outputs": [
    {
     "data": {
      "image/png": "[encoded data removed]",
      "text/plain": [
       "<Figure size 432x288 with 2 Axes>"
      ]
     },
     "metadata": {
      "needs_background": "light"
     },
     "output_type": "display_data"
    }
   ],
   "source": [
    "draw_cm(y_test,y_pred_class);"
   ]
  },
  {
   "cell_type": "code",
   "execution_count": 157,
   "id": "e4afdfb4-1542-4bb2-8451-71f53dd644dc",
   "metadata": {},
   "outputs": [
    {
     "data": {
      "text/plain": [
       "0.7828784651235936"
      ]
     },
     "execution_count": 157,
     "metadata": {},
     "output_type": "execute_result"
    }
   ],
   "source": [
    "(54760 + 0) / (15186+1+0+54760) #Accuracy"
   ]
  },
  {
   "cell_type": "markdown",
   "id": "2b8b03f1-070b-4d66-884b-7a696210cdf4",
   "metadata": {},
   "source": [
    "#### ROC Curve"
   ]
  },
  {
   "cell_type": "code",
   "execution_count": 158,
   "id": "cc904128-3d36-4b99-ab4f-4b33bc5985c1",
   "metadata": {},
   "outputs": [],
   "source": [
    "fpr, tpr, thresholds = roc_curve(y_test, y_pred_prob[:,1])"
   ]
  },
  {
   "cell_type": "code",
   "execution_count": 160,
   "id": "b8c2d5e8-9c1b-4103-9f74-571f6e6647c4",
   "metadata": {},
   "outputs": [
    {
     "data": {
      "image/png": "[encoded data removed]",
      "text/plain": [
       "<Figure size 432x288 with 1 Axes>"
      ]
     },
     "metadata": {
      "needs_background": "light"
     },
     "output_type": "display_data"
    }
   ],
   "source": [
    "import matplotlib.pyplot as plt\n",
    "%matplotlib inline\n",
    "# Plot ROC curve\n",
    "plt.plot([0, 1], [0, 1], 'k--')\n",
    "plt.plot(fpr, tpr)\n",
    "plt.xlabel('False Positive Rate')\n",
    "plt.ylabel('True Positive Rate')\n",
    "plt.title('ROC Curve')\n",
    "plt.show()"
   ]
  },
  {
   "cell_type": "code",
   "execution_count": 161,
   "id": "532436dc-5154-447a-a510-33618878e401",
   "metadata": {},
   "outputs": [
    {
     "data": {
      "text/html": [
       "<div>\n",
       "<style scoped>\n",
       "    .dataframe tbody tr th:only-of-type {\n",
       "        vertical-align: middle;\n",
       "    }\n",
       "\n",
       "    .dataframe tbody tr th {\n",
       "        vertical-align: top;\n",
       "    }\n",
       "\n",
       "    .dataframe thead th {\n",
       "        text-align: right;\n",
       "    }\n",
       "</style>\n",
       "<table border=\"1\" class=\"dataframe\">\n",
       "  <thead>\n",
       "    <tr style=\"text-align: right;\">\n",
       "      <th></th>\n",
       "      <th>fpr</th>\n",
       "      <th>tpr</th>\n",
       "      <th>thresholds</th>\n",
       "    </tr>\n",
       "  </thead>\n",
       "  <tbody>\n",
       "    <tr>\n",
       "      <th>0</th>\n",
       "      <td>0.000000</td>\n",
       "      <td>0.000000</td>\n",
       "      <td>1.990877e+00</td>\n",
       "    </tr>\n",
       "    <tr>\n",
       "      <th>1</th>\n",
       "      <td>0.000018</td>\n",
       "      <td>0.000000</td>\n",
       "      <td>9.908767e-01</td>\n",
       "    </tr>\n",
       "    <tr>\n",
       "      <th>2</th>\n",
       "      <td>0.000091</td>\n",
       "      <td>0.000000</td>\n",
       "      <td>3.570814e-01</td>\n",
       "    </tr>\n",
       "    <tr>\n",
       "      <th>3</th>\n",
       "      <td>0.000091</td>\n",
       "      <td>0.000132</td>\n",
       "      <td>3.563843e-01</td>\n",
       "    </tr>\n",
       "    <tr>\n",
       "      <th>4</th>\n",
       "      <td>0.000347</td>\n",
       "      <td>0.000132</td>\n",
       "      <td>3.492578e-01</td>\n",
       "    </tr>\n",
       "    <tr>\n",
       "      <th>...</th>\n",
       "      <td>...</td>\n",
       "      <td>...</td>\n",
       "      <td>...</td>\n",
       "    </tr>\n",
       "    <tr>\n",
       "      <th>23742</th>\n",
       "      <td>0.999489</td>\n",
       "      <td>0.999802</td>\n",
       "      <td>4.467177e-03</td>\n",
       "    </tr>\n",
       "    <tr>\n",
       "      <th>23743</th>\n",
       "      <td>0.999489</td>\n",
       "      <td>0.999934</td>\n",
       "      <td>4.068667e-03</td>\n",
       "    </tr>\n",
       "    <tr>\n",
       "      <th>23744</th>\n",
       "      <td>0.999854</td>\n",
       "      <td>0.999934</td>\n",
       "      <td>6.053714e-04</td>\n",
       "    </tr>\n",
       "    <tr>\n",
       "      <th>23745</th>\n",
       "      <td>0.999854</td>\n",
       "      <td>1.000000</td>\n",
       "      <td>5.682926e-05</td>\n",
       "    </tr>\n",
       "    <tr>\n",
       "      <th>23746</th>\n",
       "      <td>1.000000</td>\n",
       "      <td>1.000000</td>\n",
       "      <td>3.097067e-13</td>\n",
       "    </tr>\n",
       "  </tbody>\n",
       "</table>\n",
       "<p>23747 rows × 3 columns</p>\n",
       "</div>"
      ],
      "text/plain": [
       "            fpr       tpr    thresholds\n",
       "0      0.000000  0.000000  1.990877e+00\n",
       "1      0.000018  0.000000  9.908767e-01\n",
       "2      0.000091  0.000000  3.570814e-01\n",
       "3      0.000091  0.000132  3.563843e-01\n",
       "4      0.000347  0.000132  3.492578e-01\n",
       "...         ...       ...           ...\n",
       "23742  0.999489  0.999802  4.467177e-03\n",
       "23743  0.999489  0.999934  4.068667e-03\n",
       "23744  0.999854  0.999934  6.053714e-04\n",
       "23745  0.999854  1.000000  5.682926e-05\n",
       "23746  1.000000  1.000000  3.097067e-13\n",
       "\n",
       "[23747 rows x 3 columns]"
      ]
     },
     "execution_count": 161,
     "metadata": {},
     "output_type": "execute_result"
    }
   ],
   "source": [
    "roc_df=pd.DataFrame([fpr,tpr,thresholds]).T\n",
    "roc_df.columns=['fpr','tpr','thresholds']\n",
    "roc_df"
   ]
  },
  {
   "cell_type": "code",
   "execution_count": 163,
   "id": "b0ab4553-ce58-42e2-88d6-245c524f15b2",
   "metadata": {},
   "outputs": [],
   "source": [
    "data.to_excel('data22.xlsx')"
   ]
  },
  {
   "cell_type": "markdown",
   "id": "0fd59f89-909e-4d58-a790-54f9dbc85efa",
   "metadata": {
    "tags": []
   },
   "source": [
    "### Dashboarding:\n",
    "\n",
    "Visualize the data using Tableau to help user explore data to have a better understanding\n",
    "\n",
    "Demonstrate the variables associated with each other and factors to build a dashboard"
   ]
  },
  {
   "cell_type": "markdown",
   "id": "dc6f74cc-2f94-434a-9329-7a0e2938181b",
   "metadata": {
    "tags": []
   },
   "source": [
    "### https://public.tableau.com/app/profile/rushikesh.khankar/viz/PredictionLoanDefault/Dashboard1?publish=yes"
   ]
  }
 ],
 "metadata": {
  "kernelspec": {
   "display_name": "Python 3 (ipykernel)",
   "language": "python",
   "name": "python3"
  },
  "language_info": {
   "codemirror_mode": {
    "name": "ipython",
    "version": 3
   },
   "file_extension": ".py",
   "mimetype": "text/x-python",
   "name": "python",
   "nbconvert_exporter": "python",
   "pygments_lexer": "ipython3",
   "version": "3.9.7"
  }
 },
 "nbformat": 4,
 "nbformat_minor": 5
}
